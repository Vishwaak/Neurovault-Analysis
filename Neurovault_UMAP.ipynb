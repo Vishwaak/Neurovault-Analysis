{
  "nbformat": 4,
  "nbformat_minor": 0,
  "metadata": {
    "colab": {
      "name": "Neurovault-UMAP.ipynb",
      "version": "0.3.2",
      "views": {},
      "default_view": {},
      "provenance": []
    },
    "kernelspec": {
      "name": "python3",
      "display_name": "Python 3"
    },
    "accelerator": "GPU"
  },
  "cells": [
    {
      "metadata": {
        "id": "wsB2l77jY7PD",
        "colab_type": "code",
        "colab": {
          "autoexec": {
            "startup": false,
            "wait_interval": 0
          },
          "base_uri": "https://localhost:8080/",
          "height": 53
        },
        "outputId": "938bbcd4-af84-4181-b322-21329d5e850c",
        "executionInfo": {
          "status": "ok",
          "timestamp": 1531161353868,
          "user_tz": -330,
          "elapsed": 3251,
          "user": {
            "displayName": "Sourav Singh",
            "photoUrl": "https://lh3.googleusercontent.com/a/default-user=s128",
            "userId": "108190971277015881608"
          }
        }
      },
      "cell_type": "code",
      "source": [
        "!pip install -U nilearn"
      ],
      "execution_count": 4,
      "outputs": [
        {
          "output_type": "stream",
          "text": [
            "Requirement already up-to-date: nilearn in /usr/local/lib/python3.6/dist-packages (0.4.2)\r\n",
            "Requirement not upgraded as not directly required: nibabel>=2.0.2 in /usr/local/lib/python3.6/dist-packages (from nilearn) (2.3.0)\r\n"
          ],
          "name": "stdout"
        }
      ]
    },
    {
      "metadata": {
        "id": "0t1wVZNsZCYI",
        "colab_type": "code",
        "colab": {
          "autoexec": {
            "startup": false,
            "wait_interval": 0
          }
        }
      },
      "cell_type": "code",
      "source": [
        "import warnings\n",
        "\n",
        "import numpy as np\n",
        "from scipy import stats\n",
        "from sklearn.decomposition import FastICA\n",
        "\n",
        "from nilearn import datasets\n",
        "from nilearn.image import smooth_img\n",
        "\n",
        "from nilearn.datasets import load_mni152_brain_mask\n",
        "from nilearn.input_data import NiftiMasker\n",
        "\n",
        "from nilearn import plotting\n",
        "\n",
        "from nilearn.datasets import fetch_neurovault\n",
        "from nilearn.datasets.neurovault import basic_collection_terms, NotNull"
      ],
      "execution_count": 0,
      "outputs": []
    },
    {
      "metadata": {
        "id": "ceVSLhBCZR6K",
        "colab_type": "code",
        "colab": {
          "autoexec": {
            "startup": false,
            "wait_interval": 0
          },
          "base_uri": "https://localhost:8080/",
          "height": 9163
        },
        "cellView": "code",
        "outputId": "60559341-116c-439d-db00-be140c106734",
        "executionInfo": {
          "status": "ok",
          "timestamp": 1531161374884,
          "user_tz": -330,
          "elapsed": 18287,
          "user": {
            "displayName": "Sourav Singh",
            "photoUrl": "https://lh3.googleusercontent.com/a/default-user=s128",
            "userId": "108190971277015881608"
          }
        }
      },
      "cell_type": "code",
      "source": [
        "print(\"Fetching Neurovault images; \"\n",
        "      \"if you haven't downloaded any Neurovault data before \"\n",
        "      \"this will take several minutes.\")\n",
        "nv_data = fetch_neurovault(max_images=250, collection_terms=dict(basic_collection_terms(), DOI=NotNull()), fetch_neurosynth_words=True)"
      ],
      "execution_count": 6,
      "outputs": [
        {
          "output_type": "stream",
          "text": [
            "Fetching Neurovault images; if you haven't downloaded any Neurovault data before this will take several minutes.\n",
            "Reading local neurovault data.\n",
            "Already fetched 1 image\n",
            "Already fetched 2 images\n",
            "Already fetched 3 images\n",
            "Already fetched 4 images\n",
            "Already fetched 5 images\n",
            "Already fetched 6 images\n",
            "Already fetched 7 images\n",
            "Already fetched 8 images\n",
            "Already fetched 9 images\n",
            "Already fetched 10 images\n",
            "Already fetched 11 images\n",
            "Already fetched 12 images\n",
            "Already fetched 13 images\n",
            "Already fetched 14 images\n",
            "Already fetched 15 images\n",
            "Already fetched 16 images\n",
            "Already fetched 17 images\n",
            "Already fetched 18 images\n",
            "Already fetched 19 images\n",
            "Already fetched 20 images\n",
            "Already fetched 21 images\n",
            "Already fetched 22 images\n",
            "Already fetched 23 images\n",
            "Already fetched 24 images\n",
            "Already fetched 25 images\n",
            "Already fetched 26 images\n",
            "Already fetched 27 images\n",
            "Already fetched 28 images\n",
            "Already fetched 29 images\n",
            "Already fetched 30 images\n",
            "Already fetched 31 images\n",
            "Already fetched 32 images\n",
            "Already fetched 33 images\n",
            "Already fetched 34 images\n",
            "Already fetched 35 images\n",
            "Already fetched 36 images\n",
            "Already fetched 37 images\n",
            "Already fetched 38 images\n",
            "Already fetched 39 images\n",
            "Already fetched 40 images\n",
            "Already fetched 41 images\n",
            "Already fetched 42 images\n",
            "Already fetched 43 images\n",
            "Already fetched 44 images\n",
            "Already fetched 45 images\n",
            "Already fetched 46 images\n",
            "Already fetched 47 images\n",
            "Already fetched 48 images\n",
            "Already fetched 49 images\n",
            "Already fetched 50 images\n",
            "Already fetched 51 images\n",
            "Already fetched 52 images\n",
            "Already fetched 53 images\n",
            "Already fetched 54 images\n",
            "Already fetched 55 images\n",
            "Already fetched 56 images\n",
            "Already fetched 57 images\n",
            "Already fetched 58 images\n",
            "Already fetched 59 images\n",
            "Already fetched 60 images\n",
            "Already fetched 61 images\n",
            "Already fetched 62 images\n",
            "Already fetched 63 images\n",
            "Already fetched 64 images\n",
            "Already fetched 65 images\n",
            "Already fetched 66 images\n",
            "Already fetched 67 images\n",
            "Already fetched 68 images\n",
            "Already fetched 69 images\n",
            "Already fetched 70 images\n",
            "Already fetched 71 images\n",
            "Already fetched 72 images\n",
            "Already fetched 73 images\n",
            "Already fetched 74 images\n",
            "Already fetched 75 images\n",
            "Already fetched 76 images\n",
            "Already fetched 77 images\n",
            "Already fetched 78 images\n",
            "Already fetched 79 images\n",
            "Already fetched 80 images\n",
            "Already fetched 81 images\n",
            "Already fetched 82 images\n",
            "Already fetched 83 images\n",
            "Already fetched 84 images\n",
            "Already fetched 85 images\n",
            "Already fetched 86 images\n",
            "Already fetched 87 images\n",
            "Already fetched 88 images\n",
            "Already fetched 89 images\n",
            "Already fetched 90 images\n",
            "Already fetched 91 images\n",
            "Already fetched 92 images\n",
            "Already fetched 93 images\n",
            "Already fetched 94 images\n",
            "Already fetched 95 images\n",
            "Already fetched 96 images\n",
            "Already fetched 97 images\n",
            "Already fetched 98 images\n",
            "Already fetched 99 images\n",
            "Already fetched 100 images\n",
            "Already fetched 101 images\n",
            "Already fetched 102 images\n",
            "Already fetched 103 images\n",
            "Already fetched 104 images\n",
            "Already fetched 105 images\n",
            "Already fetched 106 images\n",
            "Already fetched 107 images\n",
            "Already fetched 108 images\n",
            "Already fetched 109 images\n",
            "Already fetched 110 images\n",
            "Already fetched 111 images\n",
            "Already fetched 112 images\n",
            "Already fetched 113 images\n",
            "Already fetched 114 images\n",
            "Already fetched 115 images\n",
            "Already fetched 116 images\n",
            "Already fetched 117 images\n",
            "Already fetched 118 images\n",
            "Already fetched 119 images\n",
            "Already fetched 120 images\n",
            "Already fetched 121 images\n",
            "Already fetched 122 images\n",
            "Already fetched 123 images\n",
            "Already fetched 124 images\n",
            "Already fetched 125 images\n",
            "Already fetched 126 images\n",
            "Already fetched 127 images\n",
            "Already fetched 128 images\n",
            "Already fetched 129 images\n",
            "Already fetched 130 images\n",
            "Already fetched 131 images\n",
            "Already fetched 132 images\n",
            "Already fetched 133 images\n",
            "Already fetched 134 images\n",
            "Already fetched 135 images\n",
            "Already fetched 136 images\n",
            "Already fetched 137 images\n",
            "Already fetched 138 images\n",
            "Already fetched 139 images\n",
            "Already fetched 140 images\n",
            "Already fetched 141 images\n",
            "Already fetched 142 images\n",
            "Already fetched 143 images\n",
            "Already fetched 144 images\n",
            "Already fetched 145 images\n",
            "Already fetched 146 images\n",
            "Already fetched 147 images\n",
            "Already fetched 148 images\n",
            "Already fetched 149 images\n",
            "Already fetched 150 images\n",
            "Already fetched 151 images\n",
            "Already fetched 152 images\n",
            "Already fetched 153 images\n",
            "Already fetched 154 images\n",
            "Already fetched 155 images\n",
            "Already fetched 156 images\n",
            "Already fetched 157 images\n",
            "Already fetched 158 images\n",
            "Already fetched 159 images\n",
            "Already fetched 160 images\n",
            "Already fetched 161 images\n",
            "Already fetched 162 images\n",
            "Already fetched 163 images\n",
            "Already fetched 164 images\n",
            "Already fetched 165 images\n",
            "Already fetched 166 images\n",
            "Already fetched 167 images\n",
            "Already fetched 168 images\n",
            "Already fetched 169 images\n",
            "Already fetched 170 images\n",
            "Already fetched 171 images\n",
            "Already fetched 172 images\n",
            "Already fetched 173 images\n",
            "Downloading file: http://neurosynth.org/api/v2/decode/?neurovault=16254\n",
            "Download succeeded, downloaded to: /content/nilearn_data/neurovault/collection_1195/neurosynth_words_for_image_16254.json\n",
            "Could not fetch words for image 16254\n",
            "Already fetched 174 images\n",
            "Already fetched 175 images\n",
            "Already fetched 176 images\n",
            "Already fetched 177 images\n",
            "Already fetched 178 images\n",
            "Downloading file: http://neurosynth.org/api/v2/decode/?neurovault=9035\n",
            "Download succeeded, downloaded to: /content/nilearn_data/neurovault/collection_555/neurosynth_words_for_image_9035.json\n",
            "Could not fetch words for image 9035\n",
            "Already fetched 179 images\n",
            "Downloading file: http://neurosynth.org/api/v2/decode/?neurovault=9049\n"
          ],
          "name": "stdout"
        },
        {
          "output_type": "stream",
          "text": [
            "Traceback (most recent call last):\n",
            "  File \"/usr/local/lib/python3.6/dist-packages/nilearn/datasets/neurovault.py\", line 1577, in _download_image_terms\n",
            "    assert _check_has_words(image_info['ns_words_absolute_path'])\n",
            "AssertionError\n",
            "Traceback (most recent call last):\n",
            "  File \"/usr/local/lib/python3.6/dist-packages/nilearn/datasets/neurovault.py\", line 1577, in _download_image_terms\n",
            "    assert _check_has_words(image_info['ns_words_absolute_path'])\n",
            "AssertionError\n"
          ],
          "name": "stderr"
        },
        {
          "output_type": "stream",
          "text": [
            "Download succeeded, downloaded to: /content/nilearn_data/neurovault/collection_555/neurosynth_words_for_image_9049.json\n",
            "Could not fetch words for image 9049\n",
            "Already fetched 180 images\n",
            "Downloading file: http://neurosynth.org/api/v2/decode/?neurovault=9051\n"
          ],
          "name": "stdout"
        },
        {
          "output_type": "stream",
          "text": [
            "Traceback (most recent call last):\n",
            "  File \"/usr/local/lib/python3.6/dist-packages/nilearn/datasets/neurovault.py\", line 1577, in _download_image_terms\n",
            "    assert _check_has_words(image_info['ns_words_absolute_path'])\n",
            "AssertionError\n"
          ],
          "name": "stderr"
        },
        {
          "output_type": "stream",
          "text": [
            "Download succeeded, downloaded to: /content/nilearn_data/neurovault/collection_555/neurosynth_words_for_image_9051.json\n",
            "Could not fetch words for image 9051\n",
            "Already fetched 181 images\n",
            "Downloading file: http://neurosynth.org/api/v2/decode/?neurovault=9034\n",
            "Download succeeded, downloaded to: /content/nilearn_data/neurovault/collection_555/neurosynth_words_for_image_9034.json\n",
            "Could not fetch words for image 9034\n",
            "Already fetched 182 images\n",
            "Downloading file: http://neurosynth.org/api/v2/decode/?neurovault=9041\n",
            "Download succeeded, downloaded to: /content/nilearn_data/neurovault/collection_555/neurosynth_words_for_image_9041.json\n",
            "Could not fetch words for image 9041\n"
          ],
          "name": "stdout"
        },
        {
          "output_type": "stream",
          "text": [
            "Traceback (most recent call last):\n",
            "  File \"/usr/local/lib/python3.6/dist-packages/nilearn/datasets/neurovault.py\", line 1577, in _download_image_terms\n",
            "    assert _check_has_words(image_info['ns_words_absolute_path'])\n",
            "AssertionError\n",
            "Traceback (most recent call last):\n",
            "  File \"/usr/local/lib/python3.6/dist-packages/nilearn/datasets/neurovault.py\", line 1577, in _download_image_terms\n",
            "    assert _check_has_words(image_info['ns_words_absolute_path'])\n",
            "AssertionError\n",
            "Traceback (most recent call last):\n",
            "  File \"/usr/local/lib/python3.6/dist-packages/nilearn/datasets/neurovault.py\", line 1577, in _download_image_terms\n",
            "    assert _check_has_words(image_info['ns_words_absolute_path'])\n",
            "AssertionError\n"
          ],
          "name": "stderr"
        },
        {
          "output_type": "stream",
          "text": [
            "Already fetched 183 images\n",
            "Downloading file: http://neurosynth.org/api/v2/decode/?neurovault=9039\n",
            "Download succeeded, downloaded to: /content/nilearn_data/neurovault/collection_555/neurosynth_words_for_image_9039.json\n",
            "Could not fetch words for image 9039\n",
            "Already fetched 184 images\n",
            "Downloading file: http://neurosynth.org/api/v2/decode/?neurovault=9052\n",
            "Download succeeded, downloaded to: /content/nilearn_data/neurovault/collection_555/neurosynth_words_for_image_9052.json\n",
            "Could not fetch words for image 9052\n",
            "Already fetched 185 images\n",
            "Downloading file: http://neurosynth.org/api/v2/decode/?neurovault=9038\n"
          ],
          "name": "stdout"
        },
        {
          "output_type": "stream",
          "text": [
            "Traceback (most recent call last):\n",
            "  File \"/usr/local/lib/python3.6/dist-packages/nilearn/datasets/neurovault.py\", line 1577, in _download_image_terms\n",
            "    assert _check_has_words(image_info['ns_words_absolute_path'])\n",
            "AssertionError\n",
            "Traceback (most recent call last):\n",
            "  File \"/usr/local/lib/python3.6/dist-packages/nilearn/datasets/neurovault.py\", line 1577, in _download_image_terms\n",
            "    assert _check_has_words(image_info['ns_words_absolute_path'])\n",
            "AssertionError\n",
            "Traceback (most recent call last):\n",
            "  File \"/usr/local/lib/python3.6/dist-packages/nilearn/datasets/neurovault.py\", line 1577, in _download_image_terms\n",
            "    assert _check_has_words(image_info['ns_words_absolute_path'])\n",
            "AssertionError\n"
          ],
          "name": "stderr"
        },
        {
          "output_type": "stream",
          "text": [
            "Download succeeded, downloaded to: /content/nilearn_data/neurovault/collection_555/neurosynth_words_for_image_9038.json\n",
            "Could not fetch words for image 9038\n",
            "Already fetched 186 images\n",
            "Downloading file: http://neurosynth.org/api/v2/decode/?neurovault=9048\n",
            "Download succeeded, downloaded to: /content/nilearn_data/neurovault/collection_555/neurosynth_words_for_image_9048.json\n",
            "Could not fetch words for image 9048\n",
            "Already fetched 187 images\n",
            "Downloading file: http://neurosynth.org/api/v2/decode/?neurovault=9040\n"
          ],
          "name": "stdout"
        },
        {
          "output_type": "stream",
          "text": [
            "Traceback (most recent call last):\n",
            "  File \"/usr/local/lib/python3.6/dist-packages/nilearn/datasets/neurovault.py\", line 1577, in _download_image_terms\n",
            "    assert _check_has_words(image_info['ns_words_absolute_path'])\n",
            "AssertionError\n",
            "Traceback (most recent call last):\n",
            "  File \"/usr/local/lib/python3.6/dist-packages/nilearn/datasets/neurovault.py\", line 1577, in _download_image_terms\n",
            "    assert _check_has_words(image_info['ns_words_absolute_path'])\n",
            "AssertionError\n",
            "Traceback (most recent call last):\n",
            "  File \"/usr/local/lib/python3.6/dist-packages/nilearn/datasets/neurovault.py\", line 1577, in _download_image_terms\n",
            "    assert _check_has_words(image_info['ns_words_absolute_path'])\n",
            "AssertionError\n"
          ],
          "name": "stderr"
        },
        {
          "output_type": "stream",
          "text": [
            "Download succeeded, downloaded to: /content/nilearn_data/neurovault/collection_555/neurosynth_words_for_image_9040.json\n",
            "Could not fetch words for image 9040\n",
            "Already fetched 188 images\n",
            "Downloading file: http://neurosynth.org/api/v2/decode/?neurovault=9036\n",
            "Download succeeded, downloaded to: /content/nilearn_data/neurovault/collection_555/neurosynth_words_for_image_9036.json\n",
            "Could not fetch words for image 9036\n",
            "Already fetched 189 images\n",
            "Downloading file: http://neurosynth.org/api/v2/decode/?neurovault=9047\n",
            "Download succeeded, downloaded to: /content/nilearn_data/neurovault/collection_555/neurosynth_words_for_image_9047.json\n",
            "Could not fetch words for image 9047\n",
            "Already fetched 190 images\n",
            "Downloading file: http://neurosynth.org/api/v2/decode/?neurovault=9042\n",
            "Download succeeded, downloaded to: /content/nilearn_data/neurovault/collection_555/neurosynth_words_for_image_9042.json\n",
            "Could not fetch words for image 9042\n",
            "Already fetched 191 images\n",
            "Downloading file: http://neurosynth.org/api/v2/decode/?neurovault=9045\n",
            "Download succeeded, downloaded to: /content/nilearn_data/neurovault/collection_555/neurosynth_words_for_image_9045.json\n",
            "Could not fetch words for image 9045\n"
          ],
          "name": "stdout"
        },
        {
          "output_type": "stream",
          "text": [
            "Traceback (most recent call last):\n",
            "  File \"/usr/local/lib/python3.6/dist-packages/nilearn/datasets/neurovault.py\", line 1577, in _download_image_terms\n",
            "    assert _check_has_words(image_info['ns_words_absolute_path'])\n",
            "AssertionError\n",
            "Traceback (most recent call last):\n",
            "  File \"/usr/local/lib/python3.6/dist-packages/nilearn/datasets/neurovault.py\", line 1577, in _download_image_terms\n",
            "    assert _check_has_words(image_info['ns_words_absolute_path'])\n",
            "AssertionError\n",
            "Traceback (most recent call last):\n",
            "  File \"/usr/local/lib/python3.6/dist-packages/nilearn/datasets/neurovault.py\", line 1577, in _download_image_terms\n",
            "    assert _check_has_words(image_info['ns_words_absolute_path'])\n",
            "AssertionError\n"
          ],
          "name": "stderr"
        },
        {
          "output_type": "stream",
          "text": [
            "Already fetched 192 images\n",
            "Downloading file: http://neurosynth.org/api/v2/decode/?neurovault=9046\n",
            "Download succeeded, downloaded to: /content/nilearn_data/neurovault/collection_555/neurosynth_words_for_image_9046.json\n",
            "Could not fetch words for image 9046\n",
            "Already fetched 193 images\n",
            "Downloading file: http://neurosynth.org/api/v2/decode/?neurovault=9043\n"
          ],
          "name": "stdout"
        },
        {
          "output_type": "stream",
          "text": [
            "Traceback (most recent call last):\n",
            "  File \"/usr/local/lib/python3.6/dist-packages/nilearn/datasets/neurovault.py\", line 1577, in _download_image_terms\n",
            "    assert _check_has_words(image_info['ns_words_absolute_path'])\n",
            "AssertionError\n",
            "Traceback (most recent call last):\n",
            "  File \"/usr/local/lib/python3.6/dist-packages/nilearn/datasets/neurovault.py\", line 1577, in _download_image_terms\n",
            "    assert _check_has_words(image_info['ns_words_absolute_path'])\n",
            "AssertionError\n"
          ],
          "name": "stderr"
        },
        {
          "output_type": "stream",
          "text": [
            "Download succeeded, downloaded to: /content/nilearn_data/neurovault/collection_555/neurosynth_words_for_image_9043.json\n",
            "Could not fetch words for image 9043\n",
            "Already fetched 194 images\n",
            "Downloading file: http://neurosynth.org/api/v2/decode/?neurovault=9050\n",
            "Download succeeded, downloaded to: /content/nilearn_data/neurovault/collection_555/neurosynth_words_for_image_9050.json\n",
            "Could not fetch words for image 9050\n",
            "Already fetched 195 images\n",
            "Downloading file: http://neurosynth.org/api/v2/decode/?neurovault=9037\n"
          ],
          "name": "stdout"
        },
        {
          "output_type": "stream",
          "text": [
            "Traceback (most recent call last):\n",
            "  File \"/usr/local/lib/python3.6/dist-packages/nilearn/datasets/neurovault.py\", line 1577, in _download_image_terms\n",
            "    assert _check_has_words(image_info['ns_words_absolute_path'])\n",
            "AssertionError\n",
            "Traceback (most recent call last):\n",
            "  File \"/usr/local/lib/python3.6/dist-packages/nilearn/datasets/neurovault.py\", line 1577, in _download_image_terms\n",
            "    assert _check_has_words(image_info['ns_words_absolute_path'])\n",
            "AssertionError\n"
          ],
          "name": "stderr"
        },
        {
          "output_type": "stream",
          "text": [
            "Download succeeded, downloaded to: /content/nilearn_data/neurovault/collection_555/neurosynth_words_for_image_9037.json\n",
            "Could not fetch words for image 9037\n",
            "Already fetched 196 images\n",
            "Downloading file: http://neurosynth.org/api/v2/decode/?neurovault=9044\n",
            "Download succeeded, downloaded to: /content/nilearn_data/neurovault/collection_555/neurosynth_words_for_image_9044.json\n",
            "Could not fetch words for image 9044\n",
            "Already fetched 197 images\n",
            "Downloading file: http://neurosynth.org/api/v2/decode/?neurovault=9053\n"
          ],
          "name": "stdout"
        },
        {
          "output_type": "stream",
          "text": [
            "Traceback (most recent call last):\n",
            "  File \"/usr/local/lib/python3.6/dist-packages/nilearn/datasets/neurovault.py\", line 1577, in _download_image_terms\n",
            "    assert _check_has_words(image_info['ns_words_absolute_path'])\n",
            "AssertionError\n",
            "Traceback (most recent call last):\n",
            "  File \"/usr/local/lib/python3.6/dist-packages/nilearn/datasets/neurovault.py\", line 1577, in _download_image_terms\n",
            "    assert _check_has_words(image_info['ns_words_absolute_path'])\n",
            "AssertionError\n"
          ],
          "name": "stderr"
        },
        {
          "output_type": "stream",
          "text": [
            "Download succeeded, downloaded to: /content/nilearn_data/neurovault/collection_555/neurosynth_words_for_image_9053.json\n",
            "Could not fetch words for image 9053\n",
            "Already fetched 198 images\n",
            "Already fetched 199 images\n",
            "Already fetched 200 images\n",
            "Already fetched 201 images\n",
            "Already fetched 202 images\n",
            "Already fetched 203 images\n",
            "Already fetched 204 images\n",
            "Already fetched 205 images\n",
            "Already fetched 206 images\n",
            "Already fetched 207 images\n",
            "Already fetched 208 images\n",
            "Already fetched 209 images\n",
            "Already fetched 210 images\n",
            "Already fetched 211 images\n",
            "Already fetched 212 images\n",
            "Already fetched 213 images\n",
            "Already fetched 214 images\n",
            "Already fetched 215 images\n",
            "Already fetched 216 images\n",
            "Already fetched 217 images\n",
            "Already fetched 218 images\n",
            "Already fetched 219 images\n",
            "Already fetched 220 images\n",
            "Already fetched 221 images\n",
            "Already fetched 222 images\n",
            "Already fetched 223 images\n",
            "Already fetched 224 images\n",
            "Already fetched 225 images\n",
            "Already fetched 226 images\n",
            "Already fetched 227 images\n",
            "Already fetched 228 images\n",
            "Already fetched 229 images\n",
            "Already fetched 230 images\n",
            "Already fetched 231 images\n",
            "Already fetched 232 images\n",
            "Already fetched 233 images\n",
            "Already fetched 234 images\n",
            "Already fetched 235 images\n",
            "Already fetched 236 images\n",
            "Already fetched 237 images\n",
            "Already fetched 238 images\n",
            "Already fetched 239 images\n",
            "Already fetched 240 images\n",
            "Already fetched 241 images\n",
            "Already fetched 242 images\n",
            "Already fetched 243 images\n",
            "Already fetched 244 images\n",
            "Already fetched 245 images\n",
            "Already fetched 246 images\n",
            "Already fetched 247 images\n",
            "Already fetched 248 images\n",
            "Already fetched 249 images\n",
            "Already fetched 250 images\n",
            "250 images found on local disk.\n",
            "Computing word features.\n",
            "Could not load words from file /content/nilearn_data/neurovault/collection_1195/neurosynth_words_for_image_16254.json; error: Traceback (most recent call last):\n",
            "  File \"/usr/local/lib/python3.6/dist-packages/nilearn/datasets/neurovault.py\", line 1251, in neurosynth_words_vectorized\n",
            "    with open(file_name, 'rb') as word_file:\n",
            "FileNotFoundError: [Errno 2] No such file or directory: '/content/nilearn_data/neurovault/collection_1195/neurosynth_words_for_image_16254.json'\n",
            "\n",
            "Could not load words from file /content/nilearn_data/neurovault/collection_555/neurosynth_words_for_image_9035.json; error: Traceback (most recent call last):\n",
            "  File \"/usr/local/lib/python3.6/dist-packages/nilearn/datasets/neurovault.py\", line 1251, in neurosynth_words_vectorized\n",
            "    with open(file_name, 'rb') as word_file:\n",
            "FileNotFoundError: [Errno 2] No such file or directory: '/content/nilearn_data/neurovault/collection_555/neurosynth_words_for_image_9035.json'\n",
            "\n",
            "Could not load words from file /content/nilearn_data/neurovault/collection_555/neurosynth_words_for_image_9049.json; error: Traceback (most recent call last):\n",
            "  File \"/usr/local/lib/python3.6/dist-packages/nilearn/datasets/neurovault.py\", line 1251, in neurosynth_words_vectorized\n",
            "    with open(file_name, 'rb') as word_file:\n",
            "FileNotFoundError: [Errno 2] No such file or directory: '/content/nilearn_data/neurovault/collection_555/neurosynth_words_for_image_9049.json'\n",
            "\n",
            "Could not load words from file /content/nilearn_data/neurovault/collection_555/neurosynth_words_for_image_9051.json; error: Traceback (most recent call last):\n",
            "  File \"/usr/local/lib/python3.6/dist-packages/nilearn/datasets/neurovault.py\", line 1251, in neurosynth_words_vectorized\n",
            "    with open(file_name, 'rb') as word_file:\n",
            "FileNotFoundError: [Errno 2] No such file or directory: '/content/nilearn_data/neurovault/collection_555/neurosynth_words_for_image_9051.json'\n",
            "\n",
            "Could not load words from file /content/nilearn_data/neurovault/collection_555/neurosynth_words_for_image_9034.json; error: Traceback (most recent call last):\n",
            "  File \"/usr/local/lib/python3.6/dist-packages/nilearn/datasets/neurovault.py\", line 1251, in neurosynth_words_vectorized\n",
            "    with open(file_name, 'rb') as word_file:\n",
            "FileNotFoundError: [Errno 2] No such file or directory: '/content/nilearn_data/neurovault/collection_555/neurosynth_words_for_image_9034.json'\n",
            "\n",
            "Could not load words from file /content/nilearn_data/neurovault/collection_555/neurosynth_words_for_image_9041.json; error: Traceback (most recent call last):\n",
            "  File \"/usr/local/lib/python3.6/dist-packages/nilearn/datasets/neurovault.py\", line 1251, in neurosynth_words_vectorized\n",
            "    with open(file_name, 'rb') as word_file:\n",
            "FileNotFoundError: [Errno 2] No such file or directory: '/content/nilearn_data/neurovault/collection_555/neurosynth_words_for_image_9041.json'\n",
            "\n",
            "Could not load words from file /content/nilearn_data/neurovault/collection_555/neurosynth_words_for_image_9039.json; error: Traceback (most recent call last):\n",
            "  File \"/usr/local/lib/python3.6/dist-packages/nilearn/datasets/neurovault.py\", line 1251, in neurosynth_words_vectorized\n",
            "    with open(file_name, 'rb') as word_file:\n",
            "FileNotFoundError: [Errno 2] No such file or directory: '/content/nilearn_data/neurovault/collection_555/neurosynth_words_for_image_9039.json'\n",
            "\n",
            "Could not load words from file /content/nilearn_data/neurovault/collection_555/neurosynth_words_for_image_9052.json; error: Traceback (most recent call last):\n",
            "  File \"/usr/local/lib/python3.6/dist-packages/nilearn/datasets/neurovault.py\", line 1251, in neurosynth_words_vectorized\n",
            "    with open(file_name, 'rb') as word_file:\n",
            "FileNotFoundError: [Errno 2] No such file or directory: '/content/nilearn_data/neurovault/collection_555/neurosynth_words_for_image_9052.json'\n",
            "\n",
            "Could not load words from file /content/nilearn_data/neurovault/collection_555/neurosynth_words_for_image_9038.json; error: Traceback (most recent call last):\n",
            "  File \"/usr/local/lib/python3.6/dist-packages/nilearn/datasets/neurovault.py\", line 1251, in neurosynth_words_vectorized\n",
            "    with open(file_name, 'rb') as word_file:\n",
            "FileNotFoundError: [Errno 2] No such file or directory: '/content/nilearn_data/neurovault/collection_555/neurosynth_words_for_image_9038.json'\n",
            "\n",
            "Could not load words from file /content/nilearn_data/neurovault/collection_555/neurosynth_words_for_image_9048.json; error: Traceback (most recent call last):\n",
            "  File \"/usr/local/lib/python3.6/dist-packages/nilearn/datasets/neurovault.py\", line 1251, in neurosynth_words_vectorized\n",
            "    with open(file_name, 'rb') as word_file:\n",
            "FileNotFoundError: [Errno 2] No such file or directory: '/content/nilearn_data/neurovault/collection_555/neurosynth_words_for_image_9048.json'\n",
            "\n",
            "Could not load words from file /content/nilearn_data/neurovault/collection_555/neurosynth_words_for_image_9040.json; error: Traceback (most recent call last):\n",
            "  File \"/usr/local/lib/python3.6/dist-packages/nilearn/datasets/neurovault.py\", line 1251, in neurosynth_words_vectorized\n",
            "    with open(file_name, 'rb') as word_file:\n",
            "FileNotFoundError: [Errno 2] No such file or directory: '/content/nilearn_data/neurovault/collection_555/neurosynth_words_for_image_9040.json'\n",
            "\n",
            "Could not load words from file /content/nilearn_data/neurovault/collection_555/neurosynth_words_for_image_9036.json; error: Traceback (most recent call last):\n",
            "  File \"/usr/local/lib/python3.6/dist-packages/nilearn/datasets/neurovault.py\", line 1251, in neurosynth_words_vectorized\n",
            "    with open(file_name, 'rb') as word_file:\n",
            "FileNotFoundError: [Errno 2] No such file or directory: '/content/nilearn_data/neurovault/collection_555/neurosynth_words_for_image_9036.json'\n",
            "\n",
            "Could not load words from file /content/nilearn_data/neurovault/collection_555/neurosynth_words_for_image_9047.json; error: Traceback (most recent call last):\n",
            "  File \"/usr/local/lib/python3.6/dist-packages/nilearn/datasets/neurovault.py\", line 1251, in neurosynth_words_vectorized\n",
            "    with open(file_name, 'rb') as word_file:\n",
            "FileNotFoundError: [Errno 2] No such file or directory: '/content/nilearn_data/neurovault/collection_555/neurosynth_words_for_image_9047.json'\n",
            "\n",
            "Could not load words from file /content/nilearn_data/neurovault/collection_555/neurosynth_words_for_image_9042.json; error: Traceback (most recent call last):\n",
            "  File \"/usr/local/lib/python3.6/dist-packages/nilearn/datasets/neurovault.py\", line 1251, in neurosynth_words_vectorized\n",
            "    with open(file_name, 'rb') as word_file:\n",
            "FileNotFoundError: [Errno 2] No such file or directory: '/content/nilearn_data/neurovault/collection_555/neurosynth_words_for_image_9042.json'\n",
            "\n",
            "Could not load words from file /content/nilearn_data/neurovault/collection_555/neurosynth_words_for_image_9045.json; error: Traceback (most recent call last):\n",
            "  File \"/usr/local/lib/python3.6/dist-packages/nilearn/datasets/neurovault.py\", line 1251, in neurosynth_words_vectorized\n",
            "    with open(file_name, 'rb') as word_file:\n",
            "FileNotFoundError: [Errno 2] No such file or directory: '/content/nilearn_data/neurovault/collection_555/neurosynth_words_for_image_9045.json'\n",
            "\n",
            "Could not load words from file /content/nilearn_data/neurovault/collection_555/neurosynth_words_for_image_9046.json; error: Traceback (most recent call last):\n",
            "  File \"/usr/local/lib/python3.6/dist-packages/nilearn/datasets/neurovault.py\", line 1251, in neurosynth_words_vectorized\n",
            "    with open(file_name, 'rb') as word_file:\n",
            "FileNotFoundError: [Errno 2] No such file or directory: '/content/nilearn_data/neurovault/collection_555/neurosynth_words_for_image_9046.json'\n",
            "\n",
            "Could not load words from file /content/nilearn_data/neurovault/collection_555/neurosynth_words_for_image_9043.json; error: Traceback (most recent call last):\n",
            "  File \"/usr/local/lib/python3.6/dist-packages/nilearn/datasets/neurovault.py\", line 1251, in neurosynth_words_vectorized\n",
            "    with open(file_name, 'rb') as word_file:\n",
            "FileNotFoundError: [Errno 2] No such file or directory: '/content/nilearn_data/neurovault/collection_555/neurosynth_words_for_image_9043.json'\n",
            "\n",
            "Could not load words from file /content/nilearn_data/neurovault/collection_555/neurosynth_words_for_image_9050.json; error: Traceback (most recent call last):\n",
            "  File \"/usr/local/lib/python3.6/dist-packages/nilearn/datasets/neurovault.py\", line 1251, in neurosynth_words_vectorized\n",
            "    with open(file_name, 'rb') as word_file:\n",
            "FileNotFoundError: [Errno 2] No such file or directory: '/content/nilearn_data/neurovault/collection_555/neurosynth_words_for_image_9050.json'\n",
            "\n",
            "Could not load words from file /content/nilearn_data/neurovault/collection_555/neurosynth_words_for_image_9037.json; error: Traceback (most recent call last):\n",
            "  File \"/usr/local/lib/python3.6/dist-packages/nilearn/datasets/neurovault.py\", line 1251, in neurosynth_words_vectorized\n",
            "    with open(file_name, 'rb') as word_file:\n",
            "FileNotFoundError: [Errno 2] No such file or directory: '/content/nilearn_data/neurovault/collection_555/neurosynth_words_for_image_9037.json'\n",
            "\n",
            "Could not load words from file /content/nilearn_data/neurovault/collection_555/neurosynth_words_for_image_9044.json; error: Traceback (most recent call last):\n",
            "  File \"/usr/local/lib/python3.6/dist-packages/nilearn/datasets/neurovault.py\", line 1251, in neurosynth_words_vectorized\n",
            "    with open(file_name, 'rb') as word_file:\n",
            "FileNotFoundError: [Errno 2] No such file or directory: '/content/nilearn_data/neurovault/collection_555/neurosynth_words_for_image_9044.json'\n",
            "\n",
            "Could not load words from file /content/nilearn_data/neurovault/collection_555/neurosynth_words_for_image_9053.json; error: Traceback (most recent call last):\n",
            "  File \"/usr/local/lib/python3.6/dist-packages/nilearn/datasets/neurovault.py\", line 1251, in neurosynth_words_vectorized\n",
            "    with open(file_name, 'rb') as word_file:\n",
            "FileNotFoundError: [Errno 2] No such file or directory: '/content/nilearn_data/neurovault/collection_555/neurosynth_words_for_image_9053.json'\n",
            "\n",
            "Computing word features done; vocabulary size: 2911\n"
          ],
          "name": "stdout"
        }
      ]
    },
    {
      "metadata": {
        "id": "S_bY4gkHoWvn",
        "colab_type": "code",
        "colab": {
          "autoexec": {
            "startup": false,
            "wait_interval": 0
          },
          "base_uri": "https://localhost:8080/",
          "height": 251
        },
        "outputId": "821afd8a-fd88-44da-be37-3b8f44bc3c20",
        "executionInfo": {
          "status": "ok",
          "timestamp": 1531161376055,
          "user_tz": -330,
          "elapsed": 1110,
          "user": {
            "displayName": "Sourav Singh",
            "photoUrl": "https://lh3.googleusercontent.com/a/default-user=s128",
            "userId": "108190971277015881608"
          }
        }
      },
      "cell_type": "code",
      "source": [
        "images = nv_data['images']\n",
        "term_weights = nv_data['word_frequencies']\n",
        "vocabulary = nv_data['vocabulary']\n",
        "\n",
        "# Clean and report term scores\n",
        "term_weights[term_weights < 0] = 0\n",
        "total_scores = np.mean(term_weights, axis=0)\n",
        "\n",
        "print(\"\\nTop 10 neurosynth terms from downloaded images:\\n\")\n",
        "\n",
        "for term_idx in np.argsort(total_scores)[-10:][::-1]:\n",
        "    print(vocabulary[term_idx])"
      ],
      "execution_count": 7,
      "outputs": [
        {
          "output_type": "stream",
          "text": [
            "\n",
            "Top 10 neurosynth terms from downloaded images:\n",
            "\n",
            "sentences\n",
            "sentence\n",
            "temporal\n",
            "comprehension\n",
            "language\n",
            "temporal sulcus\n",
            "superior temporal\n",
            "linguistic\n",
            "middle temporal\n",
            "temporal gyrus\n"
          ],
          "name": "stdout"
        }
      ]
    },
    {
      "metadata": {
        "id": "Tjc1zWQ81uc-",
        "colab_type": "code",
        "colab": {
          "autoexec": {
            "startup": false,
            "wait_interval": 0
          },
          "base_uri": "https://localhost:8080/",
          "height": 71
        },
        "outputId": "a46f7c85-695f-4abd-a109-925226152ecd",
        "executionInfo": {
          "status": "ok",
          "timestamp": 1531161484939,
          "user_tz": -330,
          "elapsed": 108784,
          "user": {
            "displayName": "Sourav Singh",
            "photoUrl": "https://lh3.googleusercontent.com/a/default-user=s128",
            "userId": "108190971277015881608"
          }
        }
      },
      "cell_type": "code",
      "source": [
        "print(\"\\nReshaping and masking images.\\n\")\n",
        "\n",
        "with warnings.catch_warnings():\n",
        "    warnings.simplefilter('ignore', UserWarning)\n",
        "    warnings.simplefilter('ignore', DeprecationWarning)\n",
        "\n",
        "    mask_img = load_mni152_brain_mask()\n",
        "    masker = NiftiMasker(\n",
        "        mask_img=mask_img, memory='nilearn_cache', memory_level=1)\n",
        "    masker = masker.fit()\n",
        "\n",
        "    # Images may fail to be transformed, and are of different shapes,\n",
        "    # so we need to transform one-by-one and keep track of failures.\n",
        "    X = []\n",
        "    is_usable = np.ones((len(images),), dtype=bool)\n",
        "\n",
        "    for index, image_path in enumerate(images):\n",
        "        # load image and remove nan and inf values.\n",
        "        # applying smooth_img to an image with fwhm=None simply cleans up\n",
        "        # non-finite values but otherwise doesn't modify the image.\n",
        "        image = smooth_img(image_path, fwhm=None)\n",
        "        try:\n",
        "            X.append(masker.transform(image))\n",
        "        except Exception as e:\n",
        "            meta = nv_data['images_meta'][index]\n",
        "            print(\"Failed to mask/reshape image: id: {0}; \"\n",
        "                  \"name: '{1}'; collection: {2}; error: {3}\".format(\n",
        "                      meta.get('id'), meta.get('name'),\n",
        "                      meta.get('collection_id'), e))\n",
        "            is_usable[index] = False\n",
        "\n",
        "# Now reshape list into 2D matrix, and remove failed images from terms\n",
        "X = np.vstack(X)\n",
        "term_weights = term_weights[is_usable, :]"
      ],
      "execution_count": 8,
      "outputs": [
        {
          "output_type": "stream",
          "text": [
            "\n",
            "Reshaping and masking images.\n",
            "\n"
          ],
          "name": "stdout"
        }
      ]
    },
    {
      "metadata": {
        "id": "sZytJruJQ0Rh",
        "colab_type": "code",
        "colab": {
          "autoexec": {
            "startup": false,
            "wait_interval": 0
          },
          "base_uri": "https://localhost:8080/",
          "height": 343
        },
        "outputId": "b50fb71c-9c41-4e4a-aa40-baa2148bfcd1",
        "executionInfo": {
          "status": "ok",
          "timestamp": 1531161493349,
          "user_tz": -330,
          "elapsed": 8252,
          "user": {
            "displayName": "Sourav Singh",
            "photoUrl": "https://lh3.googleusercontent.com/a/default-user=s128",
            "userId": "108190971277015881608"
          }
        }
      },
      "cell_type": "code",
      "source": [
        "!pip install -U umap-learn"
      ],
      "execution_count": 9,
      "outputs": [
        {
          "output_type": "stream",
          "text": [
            "Collecting umap-learn\n",
            "  Downloading https://files.pythonhosted.org/packages/5c/fe/9fab22acd9a33d49a221cc683ac0826b38d85e2b5cf58576bcc2b3ec2660/umap-learn-0.2.5.tar.gz\n",
            "Requirement not upgraded as not directly required: scikit-learn>=0.16 in /usr/local/lib/python3.6/dist-packages (from umap-learn) (0.19.1)\n",
            "Requirement not upgraded as not directly required: scipy>=0.19 in /usr/local/lib/python3.6/dist-packages (from umap-learn) (0.19.1)\n",
            "Collecting numba>=0.34 (from umap-learn)\n",
            "\u001b[?25l  Downloading https://files.pythonhosted.org/packages/1e/74/bcf00816aa212e1439709f88b4e62519b60c89e18eb9f9f67e7d02ab4461/numba-0.38.1-cp36-cp36m-manylinux1_x86_64.whl (1.9MB)\n",
            "\u001b[K    100% |████████████████████████████████| 1.9MB 6.9MB/s \n",
            "\u001b[?25hRequirement not upgraded as not directly required: numpy>=1.8.2 in /usr/local/lib/python3.6/dist-packages (from scipy>=0.19->umap-learn) (1.14.5)\n",
            "Collecting llvmlite>=0.23.0dev0 (from numba>=0.34->umap-learn)\n",
            "\u001b[?25l  Downloading https://files.pythonhosted.org/packages/21/c7/eb581bbbdf731f24a72eba505cf42668231c595ba61997a6fa186b7f0413/llvmlite-0.23.2-cp36-cp36m-manylinux1_x86_64.whl (15.8MB)\n",
            "\u001b[K    100% |████████████████████████████████| 15.8MB 2.7MB/s \n",
            "\u001b[?25hBuilding wheels for collected packages: umap-learn\n",
            "  Running setup.py bdist_wheel for umap-learn ... \u001b[?25l-\b \bdone\n",
            "\u001b[?25h  Stored in directory: /content/.cache/pip/wheels/f3/e1/4b/1f9a0c2f9b82523b261c36c6ce9a4d1524582e03ebbf6852d6\n",
            "Successfully built umap-learn\n",
            "Installing collected packages: llvmlite, numba, umap-learn\n",
            "Successfully installed llvmlite-0.23.2 numba-0.38.1 umap-learn-0.2.5\n"
          ],
          "name": "stdout"
        }
      ]
    },
    {
      "metadata": {
        "id": "PhSdvmHr0c36",
        "colab_type": "code",
        "colab": {
          "autoexec": {
            "startup": false,
            "wait_interval": 0
          }
        }
      },
      "cell_type": "code",
      "source": [
        "import umap"
      ],
      "execution_count": 0,
      "outputs": []
    },
    {
      "metadata": {
        "id": "rMgj6vqm0ou_",
        "colab_type": "code",
        "colab": {
          "autoexec": {
            "startup": false,
            "wait_interval": 0
          }
        }
      },
      "cell_type": "code",
      "source": [
        "embedding = umap.UMAP(n_neighbors=5,min_dist=0.3,metric='correlation').fit_transform(X)"
      ],
      "execution_count": 0,
      "outputs": []
    },
    {
      "metadata": {
        "id": "egNLkO5E1tAB",
        "colab_type": "code",
        "colab": {
          "autoexec": {
            "startup": false,
            "wait_interval": 0
          }
        }
      },
      "cell_type": "code",
      "source": [
        "import matplotlib.pyplot as plt\n",
        "import seaborn as sns"
      ],
      "execution_count": 0,
      "outputs": []
    },
    {
      "metadata": {
        "id": "gJC907oe5i0V",
        "colab_type": "code",
        "colab": {
          "autoexec": {
            "startup": false,
            "wait_interval": 0
          },
          "base_uri": "https://localhost:8080/",
          "height": 367
        },
        "outputId": "e52d3b32-cb8d-4495-a3e6-3f7f9bb0d83d",
        "executionInfo": {
          "status": "ok",
          "timestamp": 1531161513420,
          "user_tz": -330,
          "elapsed": 1565,
          "user": {
            "displayName": "Sourav Singh",
            "photoUrl": "https://lh3.googleusercontent.com/a/default-user=s128",
            "userId": "108190971277015881608"
          }
        }
      },
      "cell_type": "code",
      "source": [
        "plt.scatter(embedding[:,0], embedding[:,1])"
      ],
      "execution_count": 13,
      "outputs": [
        {
          "output_type": "execute_result",
          "data": {
            "text/plain": [
              "<matplotlib.collections.PathCollection at 0x7fdffb9e9cc0>"
            ]
          },
          "metadata": {
            "tags": []
          },
          "execution_count": 13
        },
        {
          "output_type": "display_data",
          "data": {
            "image/png": "[encoded data removed]",
            "text/plain": [
              "<matplotlib.figure.Figure at 0x7fdffbb57b00>"
            ]
          },
          "metadata": {
            "tags": []
          }
        }
      ]
    },
    {
      "metadata": {
        "id": "Qg8yXWqo5okd",
        "colab_type": "code",
        "colab": {
          "autoexec": {
            "startup": false,
            "wait_interval": 0
          }
        }
      },
      "cell_type": "code",
      "source": [
        "from sklearn.cluster import KMeans\n",
        "kmeans = KMeans(n_clusters=5, random_state=0)\n",
        "clusters = kmeans.fit_transform(embedding)"
      ],
      "execution_count": 0,
      "outputs": []
    },
    {
      "metadata": {
        "id": "8zHkiyVLvFq_",
        "colab_type": "code",
        "colab": {
          "autoexec": {
            "startup": false,
            "wait_interval": 0
          }
        }
      },
      "cell_type": "code",
      "source": [
        "# Step size of the mesh. Decrease to increase the quality of the VQ.\n",
        "h = .02     # point in the mesh [x_min, x_max]x[y_min, y_max].\n",
        "\n",
        "# Plot the decision boundary. For that, we will assign a color to each\n",
        "x_min, x_max = embedding[:, 0].min() - 1, embedding[:, 0].max() + 1\n",
        "y_min, y_max = embedding[:, 1].min() - 1, embedding[:, 1].max() + 1\n",
        "xx, yy = np.meshgrid(np.arange(x_min, x_max, h), np.arange(y_min, y_max, h))"
      ],
      "execution_count": 0,
      "outputs": []
    },
    {
      "metadata": {
        "id": "PZMwO1_eBGYG",
        "colab_type": "code",
        "colab": {
          "autoexec": {
            "startup": false,
            "wait_interval": 0
          }
        }
      },
      "cell_type": "code",
      "source": [
        "# Obtain labels for each point in mesh. Use last trained model.\n",
        "Z = kmeans.predict(np.c_[xx.ravel(), yy.ravel()])\n",
        "\n",
        "# Put the result into a color plot\n",
        "Z = Z.reshape(xx.shape)"
      ],
      "execution_count": 0,
      "outputs": []
    },
    {
      "metadata": {
        "id": "k9rYH0pABbDC",
        "colab_type": "code",
        "colab": {
          "autoexec": {
            "startup": false,
            "wait_interval": 0
          },
          "base_uri": "https://localhost:8080/",
          "height": 365
        },
        "outputId": "250c50a3-a350-40a4-9a42-53954f249021",
        "executionInfo": {
          "status": "ok",
          "timestamp": 1531161519767,
          "user_tz": -330,
          "elapsed": 1175,
          "user": {
            "displayName": "Sourav Singh",
            "photoUrl": "https://lh3.googleusercontent.com/a/default-user=s128",
            "userId": "108190971277015881608"
          }
        }
      },
      "cell_type": "code",
      "source": [
        "Z = Z.reshape(xx.shape)\n",
        "plt.figure(1)\n",
        "plt.clf()\n",
        "plt.imshow(Z, interpolation='nearest',\n",
        "           extent=(xx.min(), xx.max(), yy.min(), yy.max()),\n",
        "           cmap=plt.cm.Paired,\n",
        "           aspect='auto', origin='lower')"
      ],
      "execution_count": 17,
      "outputs": [
        {
          "output_type": "execute_result",
          "data": {
            "text/plain": [
              "<matplotlib.image.AxesImage at 0x7fdfff9bf198>"
            ]
          },
          "metadata": {
            "tags": []
          },
          "execution_count": 17
        },
        {
          "output_type": "display_data",
          "data": {
            "image/png": "[encoded data removed]",
            "text/plain": [
              "<matplotlib.figure.Figure at 0x7fdfff892c50>"
            ]
          },
          "metadata": {
            "tags": []
          }
        }
      ]
    },
    {
      "metadata": {
        "id": "VBLJkz7tB3-o",
        "colab_type": "code",
        "colab": {
          "autoexec": {
            "startup": false,
            "wait_interval": 0
          },
          "base_uri": "https://localhost:8080/",
          "height": 367
        },
        "outputId": "9c4b8243-3831-419e-c4ca-261b7660ae41",
        "executionInfo": {
          "status": "ok",
          "timestamp": 1531161521168,
          "user_tz": -330,
          "elapsed": 1318,
          "user": {
            "displayName": "Sourav Singh",
            "photoUrl": "https://lh3.googleusercontent.com/a/default-user=s128",
            "userId": "108190971277015881608"
          }
        }
      },
      "cell_type": "code",
      "source": [
        "plt.plot(embedding[:, 0], embedding[:, 1], 'k.', markersize=2)\n",
        "# Plot the centroids as a white X\n",
        "centroids = kmeans.cluster_centers_\n",
        "plt.scatter(centroids[:, 0], centroids[:, 1],\n",
        "            marker='+', s=169, linewidths=3,\n",
        "            color='b', zorder=10)"
      ],
      "execution_count": 18,
      "outputs": [
        {
          "output_type": "execute_result",
          "data": {
            "text/plain": [
              "<matplotlib.collections.PathCollection at 0x7fdffba4d6a0>"
            ]
          },
          "metadata": {
            "tags": []
          },
          "execution_count": 18
        },
        {
          "output_type": "display_data",
          "data": {
            "image/png": "[encoded data removed]",
            "text/plain": [
              "<matplotlib.figure.Figure at 0x7fdfffa649b0>"
            ]
          },
          "metadata": {
            "tags": []
          }
        }
      ]
    },
    {
      "metadata": {
        "id": "oqlvZQxbWHfb",
        "colab_type": "code",
        "colab": {
          "autoexec": {
            "startup": false,
            "wait_interval": 0
          }
        }
      },
      "cell_type": "code",
      "source": [
        "from sklearn.neighbors import LocalOutlierFactor\n",
        "\n",
        "\n",
        "clf = LocalOutlierFactor(n_neighbors=20)\n",
        "y_pred = clf.fit_predict(embedding)\n",
        "y_pred_outliers = y_pred[200:]"
      ],
      "execution_count": 0,
      "outputs": []
    },
    {
      "metadata": {
        "id": "GCD5nhJJbuYu",
        "colab_type": "code",
        "colab": {
          "autoexec": {
            "startup": false,
            "wait_interval": 0
          },
          "base_uri": "https://localhost:8080/",
          "height": 362
        },
        "outputId": "58da56ca-5de5-40d0-fbad-dba85ecc7492",
        "executionInfo": {
          "status": "ok",
          "timestamp": 1531163214962,
          "user_tz": -330,
          "elapsed": 1752,
          "user": {
            "displayName": "Sourav Singh",
            "photoUrl": "https://lh3.googleusercontent.com/a/default-user=s128",
            "userId": "108190971277015881608"
          }
        }
      },
      "cell_type": "code",
      "source": [
        "xx1, yy1 = np.meshgrid(np.linspace(-5, 5, 50), np.linspace(-5, 5, 50))\n",
        "Z1 = clf._decision_function(np.c_[xx1.ravel(), yy1.ravel()])\n",
        "Z1 = Z1.reshape(xx1.shape)\n",
        "\n",
        "plt.title(\"Local Outlier Factor (LOF)\")\n",
        "plt.contourf(xx1, yy1, Z1, cmap=plt.cm.Blues_r)\n",
        "\n",
        "a = plt.scatter(X[:200, 0], X[:200, 1], c='white',\n",
        "                edgecolor='k', s=20)\n",
        "b = plt.scatter(X[200:, 0], X[200:, 1], c='red',\n",
        "                edgecolor='k', s=20)\n",
        "plt.axis('tight')\n",
        "plt.xlim((-5, 5))\n",
        "plt.ylim((-5, 5))\n",
        "plt.legend([a, b],\n",
        "           [\"normal observations\",\n",
        "            \"abnormal observations\"],\n",
        "           loc=\"upper left\")\n",
        "plt.show()"
      ],
      "execution_count": 34,
      "outputs": [
        {
          "output_type": "display_data",
          "data": {
            "image/png": "[encoded data removed]",
            "text/plain": [
              "<matplotlib.figure.Figure at 0x7fdfff1282e8>"
            ]
          },
          "metadata": {
            "tags": []
          }
        }
      ]
    },
    {
      "metadata": {
        "id": "rzmZJO49cH0g",
        "colab_type": "code",
        "colab": {
          "autoexec": {
            "startup": false,
            "wait_interval": 0
          }
        }
      },
      "cell_type": "code",
      "source": [
        ""
      ],
      "execution_count": 0,
      "outputs": []
    }
  ]
}
