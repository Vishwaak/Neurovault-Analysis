{
  "nbformat": 4,
  "nbformat_minor": 0,
  "metadata": {
    "colab": {
      "name": "Neurovault-UMAP.ipynb",
      "version": "0.3.2",
      "views": {},
      "default_view": {},
      "provenance": []
    },
    "kernelspec": {
      "name": "python3",
      "display_name": "Python 3"
    },
    "accelerator": "GPU"
  },
  "cells": [
    {
      "metadata": {
        "id": "wsB2l77jY7PD",
        "colab_type": "code",
        "colab": {
          "autoexec": {
            "startup": false,
            "wait_interval": 0
          },
          "base_uri": "https://localhost:8080/",
          "height": 289
        },
        "outputId": "277c0a08-c222-4aa6-8365-02fefdb15f0f",
        "executionInfo": {
          "status": "ok",
          "timestamp": 1528237609441,
          "user_tz": -330,
          "elapsed": 9930,
          "user": {
            "displayName": "Sourav Singh",
            "photoUrl": "https://lh3.googleusercontent.com/a/default-user=s128",
            "userId": "108190971277015881608"
          }
        }
      },
      "cell_type": "code",
      "source": [
        "!pip install -U nilearn"
      ],
      "execution_count": 1,
      "outputs": [
        {
          "output_type": "stream",
          "text": [
            "Collecting nilearn\n",
            "\u001b[?25l  Downloading https://files.pythonhosted.org/packages/6c/a2/0a528aff1c755f98538b18bd49765eae83c6a4da99b27f51baddb6ec5b45/nilearn-0.4.1.tar.gz (894kB)\n",
            "\u001b[K    100% |████████████████████████████████| 901kB 8.2MB/s \n",
            "\u001b[?25hCollecting nibabel>=2.0.2 (from nilearn)\n",
            "\u001b[?25l  Downloading https://files.pythonhosted.org/packages/d7/de/1d96fd0b118c9047bf35f02090db8ef8fd3927dfce635f09a6f7d5b572e6/nibabel-2.2.1.zip (4.2MB)\n",
            "\u001b[K    100% |████████████████████████████████| 4.2MB 7.0MB/s \n",
            "\u001b[?25hBuilding wheels for collected packages: nilearn, nibabel\n",
            "  Running setup.py bdist_wheel for nilearn ... \u001b[?25l-\b \b\\\b \b|\b \b/\b \bdone\n",
            "\u001b[?25h  Stored in directory: /content/.cache/pip/wheels/ee/09/3c/6ddb63159d6377d2c1587e6b4d58a6456da4550c2248583ffc\n",
            "  Running setup.py bdist_wheel for nibabel ... \u001b[?25l-\b \b\\\b \b|\b \b/\b \b-\b \b\\\b \b|\b \b/\b \bdone\n",
            "\u001b[?25h  Stored in directory: /content/.cache/pip/wheels/46/50/8d/bcb0b8f7c030da5bac1752fbe9cc375cbf5725fa93ba79ad84\n",
            "Successfully built nilearn nibabel\n",
            "Installing collected packages: nibabel, nilearn\n",
            "Successfully installed nibabel-2.2.1 nilearn-0.4.1\n"
          ],
          "name": "stdout"
        }
      ]
    },
    {
      "metadata": {
        "id": "0t1wVZNsZCYI",
        "colab_type": "code",
        "colab": {
          "autoexec": {
            "startup": false,
            "wait_interval": 0
          },
          "base_uri": "https://localhost:8080/",
          "height": 701
        },
        "outputId": "e7a0339c-968f-486a-a94a-f554547d9422",
        "executionInfo": {
          "status": "ok",
          "timestamp": 1528237610989,
          "user_tz": -330,
          "elapsed": 1508,
          "user": {
            "displayName": "Sourav Singh",
            "photoUrl": "https://lh3.googleusercontent.com/a/default-user=s128",
            "userId": "108190971277015881608"
          }
        }
      },
      "cell_type": "code",
      "source": [
        "import warnings\n",
        "\n",
        "import numpy as np\n",
        "from scipy import stats\n",
        "from sklearn.decomposition import FastICA\n",
        "\n",
        "from nilearn import datasets\n",
        "from nilearn.image import smooth_img\n",
        "\n",
        "from nilearn.datasets import load_mni152_brain_mask\n",
        "from nilearn.input_data import NiftiMasker\n",
        "\n",
        "from nilearn import plotting\n",
        "\n",
        "from nilearn.datasets import fetch_neurovault\n",
        "from nilearn.datasets.neurovault import basic_collection_terms, NotNull"
      ],
      "execution_count": 2,
      "outputs": [
        {
          "output_type": "stream",
          "text": [
            "/usr/local/lib/python3.6/dist-packages/nilearn/plotting/__init__.py:20: UserWarning: \n",
            "This call to matplotlib.use() has no effect because the backend has already\n",
            "been chosen; matplotlib.use() must be called *before* pylab, matplotlib.pyplot,\n",
            "or matplotlib.backends is imported for the first time.\n",
            "\n",
            "The backend was *originally* set to 'module://ipykernel.pylab.backend_inline' by the following code:\n",
            "  File \"/usr/lib/python3.6/runpy.py\", line 193, in _run_module_as_main\n",
            "    \"__main__\", mod_spec)\n",
            "  File \"/usr/lib/python3.6/runpy.py\", line 85, in _run_code\n",
            "    exec(code, run_globals)\n",
            "  File \"/usr/local/lib/python3.6/dist-packages/ipykernel_launcher.py\", line 16, in <module>\n",
            "    app.launch_new_instance()\n",
            "  File \"/usr/local/lib/python3.6/dist-packages/traitlets/config/application.py\", line 657, in launch_instance\n",
            "    app.initialize(argv)\n",
            "  File \"<decorator-gen-121>\", line 2, in initialize\n",
            "  File \"/usr/local/lib/python3.6/dist-packages/traitlets/config/application.py\", line 87, in catch_config_error\n",
            "    return method(app, *args, **kwargs)\n",
            "  File \"/usr/local/lib/python3.6/dist-packages/ipykernel/kernelapp.py\", line 462, in initialize\n",
            "    self.init_gui_pylab()\n",
            "  File \"/usr/local/lib/python3.6/dist-packages/ipykernel/kernelapp.py\", line 403, in init_gui_pylab\n",
            "    InteractiveShellApp.init_gui_pylab(self)\n",
            "  File \"/usr/local/lib/python3.6/dist-packages/IPython/core/shellapp.py\", line 213, in init_gui_pylab\n",
            "    r = enable(key)\n",
            "  File \"/usr/local/lib/python3.6/dist-packages/IPython/core/interactiveshell.py\", line 2950, in enable_matplotlib\n",
            "    pt.activate_matplotlib(backend)\n",
            "  File \"/usr/local/lib/python3.6/dist-packages/IPython/core/pylabtools.py\", line 309, in activate_matplotlib\n",
            "    matplotlib.pyplot.switch_backend(backend)\n",
            "  File \"/usr/local/lib/python3.6/dist-packages/matplotlib/pyplot.py\", line 232, in switch_backend\n",
            "    matplotlib.use(newbackend, warn=False, force=True)\n",
            "  File \"/usr/local/lib/python3.6/dist-packages/matplotlib/__init__.py\", line 1305, in use\n",
            "    reload(sys.modules['matplotlib.backends'])\n",
            "  File \"/usr/lib/python3.6/importlib/__init__.py\", line 166, in reload\n",
            "    _bootstrap._exec(spec, module)\n",
            "  File \"/usr/local/lib/python3.6/dist-packages/matplotlib/backends/__init__.py\", line 14, in <module>\n",
            "    line for line in traceback.format_stack()\n",
            "\n",
            "\n",
            "  matplotlib.use('Agg')\n"
          ],
          "name": "stderr"
        }
      ]
    },
    {
      "metadata": {
        "id": "ceVSLhBCZR6K",
        "colab_type": "code",
        "colab": {
          "autoexec": {
            "startup": false,
            "wait_interval": 0
          },
          "base_uri": "https://localhost:8080/",
          "height": 5237
        },
        "cellView": "code",
        "outputId": "b63e612a-dfe0-470d-cbf1-41f4cb763c2f",
        "executionInfo": {
          "status": "ok",
          "timestamp": 1528237650198,
          "user_tz": -330,
          "elapsed": 25980,
          "user": {
            "displayName": "Sourav Singh",
            "photoUrl": "https://lh3.googleusercontent.com/a/default-user=s128",
            "userId": "108190971277015881608"
          }
        }
      },
      "cell_type": "code",
      "source": [
        "print(\"Fetching Neurovault images; \"\n",
        "      \"if you haven't downloaded any Neurovault data before \"\n",
        "      \"this will take several minutes.\")\n",
        "nv_data = fetch_neurovault(max_images=100, collection_terms=dict(basic_collection_terms(), DOI=NotNull()))"
      ],
      "execution_count": 4,
      "outputs": [
        {
          "output_type": "stream",
          "text": [
            "Fetching Neurovault images; if you haven't downloaded any Neurovault data before this will take several minutes.\n",
            "fetch_neurovault: using default value of 100 for max_images. Set max_images to another value or None if you want more images.\n",
            "Reading local neurovault data.\n",
            "Already fetched 1 image\n",
            "Already fetched 2 images\n",
            "Already fetched 3 images\n",
            "Already fetched 4 images\n",
            "Already fetched 5 images\n",
            "Already fetched 6 images\n",
            "Already fetched 7 images\n",
            "Already fetched 8 images\n",
            "Already fetched 9 images\n",
            "Already fetched 10 images\n",
            "Already fetched 11 images\n",
            "Already fetched 12 images\n",
            "Already fetched 13 images\n",
            "Already fetched 14 images\n",
            "14 images found on local disk.\n",
            "Reading server neurovault data.\n",
            "Scroll collections: getting new batch: http://neurovault.org/api/collections/?limit=100&offset=0\n",
            "Scroll collections: batch size: 100\n",
            "Scroll images from collection 1194: getting new batch: http://neurovault.org/api/collections/1194/images/?limit=100&offset=0\n",
            "Scroll images from collection 1194: batch size: 2\n",
            "Downloading file: https://neurovault.org/media/images/1194/18FDOPA.nii.gz\n",
            "Download succeeded, downloaded to: /content/nilearn_data/neurovault/collection_1194/image_16252.nii.gz\n",
            "Already fetched 15 images\n",
            "Downloading file: https://neurovault.org/media/images/1194/123I-FP-CIT.nii.gz\n",
            "Download succeeded, downloaded to: /content/nilearn_data/neurovault/collection_1194/image_16253.nii.gz\n",
            "Already fetched 16 images\n",
            "On neurovault.org: 2 images matched query in collection 1194\n",
            "Scroll images from collection 1056: getting new batch: http://neurovault.org/api/collections/1056/images/?limit=100&offset=0\n",
            "Scroll images from collection 1056: batch size: 20\n",
            "On neurovault.org: no image matched query in collection 1056\n",
            "Scroll images from collection 1039: getting new batch: http://neurovault.org/api/collections/1039/images/?limit=100&offset=0\n",
            "Scroll images from collection 1039: batch size: 41\n",
            "Downloading file: https://neurovault.org/media/images/1039/zVMHCMap_sub001.nii.gz\n",
            "Download succeeded, downloaded to: /content/nilearn_data/neurovault/collection_1039/image_14084.nii.gz\n",
            "Already fetched 17 images\n",
            "Downloading file: https://neurovault.org/media/images/1039/zVMHCMap_sub009.nii.gz\n",
            "Download succeeded, downloaded to: /content/nilearn_data/neurovault/collection_1039/image_14085.nii.gz\n",
            "Already fetched 18 images\n",
            "Downloading file: https://neurovault.org/media/images/1039/zVMHCMap_sub011.nii.gz\n",
            "Download succeeded, downloaded to: /content/nilearn_data/neurovault/collection_1039/image_14086.nii.gz\n",
            "Already fetched 19 images\n",
            "Downloading file: https://neurovault.org/media/images/1039/zVMHCMap_sub015.nii.gz\n",
            "Download succeeded, downloaded to: /content/nilearn_data/neurovault/collection_1039/image_14087.nii.gz\n",
            "Already fetched 20 images\n",
            "Downloading file: https://neurovault.org/media/images/1039/zVMHCMap_sub018.nii.gz\n",
            "Download succeeded, downloaded to: /content/nilearn_data/neurovault/collection_1039/image_14088.nii.gz\n",
            "Already fetched 21 images\n",
            "Downloading file: https://neurovault.org/media/images/1039/zVMHCMap_sub026.nii.gz\n",
            "Download succeeded, downloaded to: /content/nilearn_data/neurovault/collection_1039/image_14089.nii.gz\n",
            "Already fetched 22 images\n",
            "Downloading file: https://neurovault.org/media/images/1039/zVMHCMap_sub028.nii.gz\n",
            "Download succeeded, downloaded to: /content/nilearn_data/neurovault/collection_1039/image_14090.nii.gz\n",
            "Already fetched 23 images\n",
            "Downloading file: https://neurovault.org/media/images/1039/zVMHCMap_sub030.nii.gz\n",
            "Download succeeded, downloaded to: /content/nilearn_data/neurovault/collection_1039/image_14091.nii.gz\n",
            "Already fetched 24 images\n",
            "Downloading file: https://neurovault.org/media/images/1039/zVMHCMap_sub031.nii.gz\n",
            "Download succeeded, downloaded to: /content/nilearn_data/neurovault/collection_1039/image_14092.nii.gz\n",
            "Already fetched 25 images\n",
            "Downloading file: https://neurovault.org/media/images/1039/zVMHCMap_sub033.nii.gz\n",
            "Download succeeded, downloaded to: /content/nilearn_data/neurovault/collection_1039/image_14093.nii.gz\n",
            "Already fetched 26 images\n",
            "Downloading file: https://neurovault.org/media/images/1039/zVMHCMap_sub035.nii.gz\n",
            "Download succeeded, downloaded to: /content/nilearn_data/neurovault/collection_1039/image_14094.nii.gz\n",
            "Already fetched 27 images\n",
            "Downloading file: https://neurovault.org/media/images/1039/zVMHCMap_sub036.nii.gz\n",
            "Download succeeded, downloaded to: /content/nilearn_data/neurovault/collection_1039/image_14095.nii.gz\n",
            "Already fetched 28 images\n",
            "Downloading file: https://neurovault.org/media/images/1039/zVMHCMap_sub041.nii.gz\n",
            "Download succeeded, downloaded to: /content/nilearn_data/neurovault/collection_1039/image_14096.nii.gz\n",
            "Already fetched 29 images\n",
            "Downloading file: https://neurovault.org/media/images/1039/zVMHCMap_sub044.nii.gz\n",
            "Download succeeded, downloaded to: /content/nilearn_data/neurovault/collection_1039/image_14097.nii.gz\n",
            "Already fetched 30 images\n",
            "Downloading file: https://neurovault.org/media/images/1039/zVMHCMap_sub046.nii.gz\n",
            "Download succeeded, downloaded to: /content/nilearn_data/neurovault/collection_1039/image_14098.nii.gz\n",
            "Already fetched 31 images\n",
            "Downloading file: https://neurovault.org/media/images/1039/zVMHCMap_sub050.nii.gz\n",
            "Download succeeded, downloaded to: /content/nilearn_data/neurovault/collection_1039/image_14099.nii.gz\n",
            "Already fetched 32 images\n",
            "Downloading file: https://neurovault.org/media/images/1039/zVMHCMap_sub051.nii.gz\n",
            "Download succeeded, downloaded to: /content/nilearn_data/neurovault/collection_1039/image_14100.nii.gz\n",
            "Already fetched 33 images\n",
            "Downloading file: https://neurovault.org/media/images/1039/zVMHCMap_sub053.nii.gz\n",
            "Download succeeded, downloaded to: /content/nilearn_data/neurovault/collection_1039/image_14101.nii.gz\n",
            "Already fetched 34 images\n",
            "Downloading file: https://neurovault.org/media/images/1039/zVMHCMap_sub056.nii.gz\n",
            "Download succeeded, downloaded to: /content/nilearn_data/neurovault/collection_1039/image_14102.nii.gz\n",
            "Already fetched 35 images\n",
            "Downloading file: https://neurovault.org/media/images/1039/zVMHCMap_sub057.nii.gz\n",
            "Download succeeded, downloaded to: /content/nilearn_data/neurovault/collection_1039/image_14103.nii.gz\n",
            "Already fetched 36 images\n",
            "Downloading file: https://neurovault.org/media/images/1039/zVMHCMap_sub058.nii.gz\n",
            "Download succeeded, downloaded to: /content/nilearn_data/neurovault/collection_1039/image_14104.nii.gz\n",
            "Already fetched 37 images\n",
            "Downloading file: https://neurovault.org/media/images/1039/zVMHCMap_sub059.nii.gz\n",
            "Download succeeded, downloaded to: /content/nilearn_data/neurovault/collection_1039/image_14105.nii.gz\n",
            "Already fetched 38 images\n",
            "Downloading file: https://neurovault.org/media/images/1039/zVMHCMap_sub064.nii.gz\n",
            "Download succeeded, downloaded to: /content/nilearn_data/neurovault/collection_1039/image_14106.nii.gz\n",
            "Already fetched 39 images\n",
            "Downloading file: https://neurovault.org/media/images/1039/zVMHCMap_sub065.nii.gz\n",
            "Download succeeded, downloaded to: /content/nilearn_data/neurovault/collection_1039/image_14107.nii.gz\n",
            "Already fetched 40 images\n",
            "Downloading file: https://neurovault.org/media/images/1039/zVMHCMap_sub007.nii.gz\n",
            "Download succeeded, downloaded to: /content/nilearn_data/neurovault/collection_1039/image_14109.nii.gz\n",
            "Already fetched 41 images\n",
            "Downloading file: https://neurovault.org/media/images/1039/zVMHCMap_sub008.nii.gz\n",
            "Download succeeded, downloaded to: /content/nilearn_data/neurovault/collection_1039/image_14110.nii.gz\n",
            "Already fetched 42 images\n",
            "Downloading file: https://neurovault.org/media/images/1039/zVMHCMap_sub013.nii.gz\n",
            "Download succeeded, downloaded to: /content/nilearn_data/neurovault/collection_1039/image_14111.nii.gz\n",
            "Already fetched 43 images\n",
            "Downloading file: https://neurovault.org/media/images/1039/zVMHCMap_sub024.nii.gz\n",
            "Download succeeded, downloaded to: /content/nilearn_data/neurovault/collection_1039/image_14113.nii.gz\n",
            "Already fetched 44 images\n",
            "Downloading file: https://neurovault.org/media/images/1039/zVMHCMap_sub025.nii.gz\n",
            "Download succeeded, downloaded to: /content/nilearn_data/neurovault/collection_1039/image_14114.nii.gz\n",
            "Already fetched 45 images\n",
            "Downloading file: https://neurovault.org/media/images/1039/zVMHCMap_sub034.nii.gz\n",
            "Download succeeded, downloaded to: /content/nilearn_data/neurovault/collection_1039/image_14115.nii.gz\n",
            "Already fetched 46 images\n",
            "Downloading file: https://neurovault.org/media/images/1039/zVMHCMap_sub037.nii.gz\n",
            "Download succeeded, downloaded to: /content/nilearn_data/neurovault/collection_1039/image_14116.nii.gz\n",
            "Already fetched 47 images\n",
            "Downloading file: https://neurovault.org/media/images/1039/zVMHCMap_sub038.nii.gz\n"
          ],
          "name": "stdout"
        },
        {
          "output_type": "stream",
          "text": [
            "Download succeeded, downloaded to: /content/nilearn_data/neurovault/collection_1039/image_14117.nii.gz\n",
            "Already fetched 48 images\n",
            "Downloading file: https://neurovault.org/media/images/1039/zVMHCMap_sub039.nii.gz\n",
            "Download succeeded, downloaded to: /content/nilearn_data/neurovault/collection_1039/image_14118.nii.gz\n",
            "Already fetched 49 images\n",
            "Downloading file: https://neurovault.org/media/images/1039/zVMHCMap_sub045.nii.gz\n",
            "Download succeeded, downloaded to: /content/nilearn_data/neurovault/collection_1039/image_14119.nii.gz\n",
            "Already fetched 50 images\n",
            "Downloading file: https://neurovault.org/media/images/1039/zVMHCMap_sub047.nii.gz\n",
            "Download succeeded, downloaded to: /content/nilearn_data/neurovault/collection_1039/image_14120.nii.gz\n",
            "Already fetched 51 images\n",
            "Downloading file: https://neurovault.org/media/images/1039/zVMHCMap_sub049.nii.gz\n",
            "Download succeeded, downloaded to: /content/nilearn_data/neurovault/collection_1039/image_14121.nii.gz\n",
            "Already fetched 52 images\n",
            "Downloading file: https://neurovault.org/media/images/1039/zVMHCMap_sub054.nii.gz\n",
            "Download succeeded, downloaded to: /content/nilearn_data/neurovault/collection_1039/image_14122.nii.gz\n",
            "Already fetched 53 images\n",
            "Downloading file: https://neurovault.org/media/images/1039/zVMHCMap_sub063.nii.gz\n",
            "Download succeeded, downloaded to: /content/nilearn_data/neurovault/collection_1039/image_14124.nii.gz\n",
            "Already fetched 54 images\n",
            "On neurovault.org: 38 images matched query in collection 1039\n",
            "Scroll images from collection 866: getting new batch: http://neurovault.org/api/collections/866/images/?limit=100&offset=0\n",
            "Scroll images from collection 866: batch size: 70\n",
            "Downloading file: https://neurovault.org/media/images/866/Yeo_10Comp_PrActGivenComp_FSL_MNI152_2mm__volume_0.nii.gz\n",
            "Download succeeded, downloaded to: /content/nilearn_data/neurovault/collection_866/image_12579.nii.gz\n",
            "Already fetched 55 images\n",
            "Downloading file: https://neurovault.org/media/images/866/Yeo_10Comp_PrActGivenComp_FSL_MNI152_2mm__volume_1.nii.gz\n",
            "Download succeeded, downloaded to: /content/nilearn_data/neurovault/collection_866/image_12580.nii.gz\n",
            "Already fetched 56 images\n",
            "Downloading file: https://neurovault.org/media/images/866/Yeo_10Comp_PrActGivenComp_FSL_MNI152_2mm__volume_2.nii.gz\n",
            "Download succeeded, downloaded to: /content/nilearn_data/neurovault/collection_866/image_12581.nii.gz\n",
            "Already fetched 57 images\n",
            "Downloading file: https://neurovault.org/media/images/866/Yeo_10Comp_PrActGivenComp_FSL_MNI152_2mm__volume_3.nii.gz\n",
            "Download succeeded, downloaded to: /content/nilearn_data/neurovault/collection_866/image_12582.nii.gz\n",
            "Already fetched 58 images\n",
            "Downloading file: https://neurovault.org/media/images/866/Yeo_10Comp_PrActGivenComp_FSL_MNI152_2mm__volume_4.nii.gz\n",
            "Download succeeded, downloaded to: /content/nilearn_data/neurovault/collection_866/image_12583.nii.gz\n",
            "Already fetched 59 images\n",
            "Downloading file: https://neurovault.org/media/images/866/Yeo_10Comp_PrActGivenComp_FSL_MNI152_2mm__volume_5.nii.gz\n",
            "Download succeeded, downloaded to: /content/nilearn_data/neurovault/collection_866/image_12584.nii.gz\n",
            "Already fetched 60 images\n",
            "Downloading file: https://neurovault.org/media/images/866/Yeo_10Comp_PrActGivenComp_FSL_MNI152_2mm__volume_6.nii.gz\n",
            "Download succeeded, downloaded to: /content/nilearn_data/neurovault/collection_866/image_12585.nii.gz\n",
            "Already fetched 61 images\n",
            "Downloading file: https://neurovault.org/media/images/866/Yeo_10Comp_PrActGivenComp_FSL_MNI152_2mm__volume_7.nii.gz\n",
            "Download succeeded, downloaded to: /content/nilearn_data/neurovault/collection_866/image_12586.nii.gz\n",
            "Already fetched 62 images\n",
            "Downloading file: https://neurovault.org/media/images/866/Yeo_10Comp_PrActGivenComp_FSL_MNI152_2mm__volume_8.nii.gz\n",
            "Download succeeded, downloaded to: /content/nilearn_data/neurovault/collection_866/image_12587.nii.gz\n",
            "Already fetched 63 images\n",
            "Downloading file: https://neurovault.org/media/images/866/Yeo_10Comp_PrActGivenComp_FSL_MNI152_2mm__volume_9.nii.gz\n",
            "Download succeeded, downloaded to: /content/nilearn_data/neurovault/collection_866/image_12588.nii.gz\n",
            "Already fetched 64 images\n",
            "Downloading file: https://neurovault.org/media/images/866/Yeo_11Comp_PrActGivenComp_FSL_MNI152_2mm__volume_0.nii.gz\n",
            "Download succeeded, downloaded to: /content/nilearn_data/neurovault/collection_866/image_12589.nii.gz\n",
            "Already fetched 65 images\n",
            "Downloading file: https://neurovault.org/media/images/866/Yeo_11Comp_PrActGivenComp_FSL_MNI152_2mm__volume_1.nii.gz\n",
            "Download succeeded, downloaded to: /content/nilearn_data/neurovault/collection_866/image_12590.nii.gz\n",
            "Already fetched 66 images\n",
            "Downloading file: https://neurovault.org/media/images/866/Yeo_11Comp_PrActGivenComp_FSL_MNI152_2mm__volume_2.nii.gz\n",
            "Download succeeded, downloaded to: /content/nilearn_data/neurovault/collection_866/image_12591.nii.gz\n",
            "Already fetched 67 images\n",
            "Downloading file: https://neurovault.org/media/images/866/Yeo_11Comp_PrActGivenComp_FSL_MNI152_2mm__volume_3.nii.gz\n",
            "Download succeeded, downloaded to: /content/nilearn_data/neurovault/collection_866/image_12592.nii.gz\n",
            "Already fetched 68 images\n",
            "Downloading file: https://neurovault.org/media/images/866/Yeo_11Comp_PrActGivenComp_FSL_MNI152_2mm__volume_4.nii.gz\n",
            "Download succeeded, downloaded to: /content/nilearn_data/neurovault/collection_866/image_12593.nii.gz\n",
            "Already fetched 69 images\n",
            "Downloading file: https://neurovault.org/media/images/866/Yeo_11Comp_PrActGivenComp_FSL_MNI152_2mm__volume_5.nii.gz\n",
            "Download succeeded, downloaded to: /content/nilearn_data/neurovault/collection_866/image_12594.nii.gz\n",
            "Already fetched 70 images\n",
            "Downloading file: https://neurovault.org/media/images/866/Yeo_11Comp_PrActGivenComp_FSL_MNI152_2mm__volume_6.nii.gz\n",
            "Download succeeded, downloaded to: /content/nilearn_data/neurovault/collection_866/image_12595.nii.gz\n",
            "Already fetched 71 images\n",
            "Downloading file: https://neurovault.org/media/images/866/Yeo_11Comp_PrActGivenComp_FSL_MNI152_2mm__volume_7.nii.gz\n",
            "Download succeeded, downloaded to: /content/nilearn_data/neurovault/collection_866/image_12596.nii.gz\n",
            "Already fetched 72 images\n",
            "Downloading file: https://neurovault.org/media/images/866/Yeo_11Comp_PrActGivenComp_FSL_MNI152_2mm__volume_8.nii.gz\n",
            "Download succeeded, downloaded to: /content/nilearn_data/neurovault/collection_866/image_12597.nii.gz\n",
            "Already fetched 73 images\n",
            "Downloading file: https://neurovault.org/media/images/866/Yeo_11Comp_PrActGivenComp_FSL_MNI152_2mm__volume_9.nii.gz\n",
            "Download succeeded, downloaded to: /content/nilearn_data/neurovault/collection_866/image_12598.nii.gz\n",
            "Already fetched 74 images\n",
            "Downloading file: https://neurovault.org/media/images/866/Yeo_11Comp_PrActGivenComp_FSL_MNI152_2mm__volume_10.nii.gz\n",
            "Download succeeded, downloaded to: /content/nilearn_data/neurovault/collection_866/image_12599.nii.gz\n",
            "Already fetched 75 images\n",
            "Downloading file: https://neurovault.org/media/images/866/Yeo_12Comp_PrActGivenComp_FSL_MNI152_2mm__volume_0.nii.gz\n",
            "Download succeeded, downloaded to: /content/nilearn_data/neurovault/collection_866/image_12600.nii.gz\n",
            "Already fetched 76 images\n",
            "Downloading file: https://neurovault.org/media/images/866/Yeo_12Comp_PrActGivenComp_FSL_MNI152_2mm__volume_1.nii.gz\n",
            "Download succeeded, downloaded to: /content/nilearn_data/neurovault/collection_866/image_12601.nii.gz\n",
            "Already fetched 77 images\n",
            "Downloading file: https://neurovault.org/media/images/866/Yeo_12Comp_PrActGivenComp_FSL_MNI152_2mm__volume_2.nii.gz\n",
            "Download succeeded, downloaded to: /content/nilearn_data/neurovault/collection_866/image_12602.nii.gz\n",
            "Already fetched 78 images\n",
            "Downloading file: https://neurovault.org/media/images/866/Yeo_12Comp_PrActGivenComp_FSL_MNI152_2mm__volume_3.nii.gz\n",
            "Download succeeded, downloaded to: /content/nilearn_data/neurovault/collection_866/image_12603.nii.gz\n",
            "Already fetched 79 images\n",
            "Downloading file: https://neurovault.org/media/images/866/Yeo_12Comp_PrActGivenComp_FSL_MNI152_2mm__volume_4.nii.gz\n",
            "Download succeeded, downloaded to: /content/nilearn_data/neurovault/collection_866/image_12604.nii.gz\n",
            "Already fetched 80 images\n",
            "Downloading file: https://neurovault.org/media/images/866/Yeo_12Comp_PrActGivenComp_FSL_MNI152_2mm__volume_5.nii.gz\n",
            "Download succeeded, downloaded to: /content/nilearn_data/neurovault/collection_866/image_12605.nii.gz\n",
            "Already fetched 81 images\n",
            "Downloading file: https://neurovault.org/media/images/866/Yeo_12Comp_PrActGivenComp_FSL_MNI152_2mm__volume_6.nii.gz\n",
            "Download succeeded, downloaded to: /content/nilearn_data/neurovault/collection_866/image_12606.nii.gz\n",
            "Already fetched 82 images\n",
            "Downloading file: https://neurovault.org/media/images/866/Yeo_12Comp_PrActGivenComp_FSL_MNI152_2mm__volume_7.nii.gz\n",
            "Download succeeded, downloaded to: /content/nilearn_data/neurovault/collection_866/image_12607.nii.gz\n",
            "Already fetched 83 images\n",
            "Downloading file: https://neurovault.org/media/images/866/Yeo_12Comp_PrActGivenComp_FSL_MNI152_2mm__volume_8.nii.gz\n",
            "Download succeeded, downloaded to: /content/nilearn_data/neurovault/collection_866/image_12608.nii.gz\n",
            "Already fetched 84 images\n",
            "Downloading file: https://neurovault.org/media/images/866/Yeo_12Comp_PrActGivenComp_FSL_MNI152_2mm__volume_9.nii.gz\n"
          ],
          "name": "stdout"
        },
        {
          "output_type": "stream",
          "text": [
            "Download succeeded, downloaded to: /content/nilearn_data/neurovault/collection_866/image_12609.nii.gz\n",
            "Already fetched 85 images\n",
            "Downloading file: https://neurovault.org/media/images/866/Yeo_12Comp_PrActGivenComp_FSL_MNI152_2mm__volume_10.nii.gz\n",
            "Download succeeded, downloaded to: /content/nilearn_data/neurovault/collection_866/image_12610.nii.gz\n",
            "Already fetched 86 images\n",
            "Downloading file: https://neurovault.org/media/images/866/Yeo_12Comp_PrActGivenComp_FSL_MNI152_2mm__volume_11.nii.gz\n",
            "Download succeeded, downloaded to: /content/nilearn_data/neurovault/collection_866/image_12611.nii.gz\n",
            "Already fetched 87 images\n",
            "Downloading file: https://neurovault.org/media/images/866/Yeo_13Comp_PrActGivenComp_FSL_MNI152_2mm__volume_0.nii.gz\n",
            "Download succeeded, downloaded to: /content/nilearn_data/neurovault/collection_866/image_12612.nii.gz\n",
            "Already fetched 88 images\n",
            "Downloading file: https://neurovault.org/media/images/866/Yeo_13Comp_PrActGivenComp_FSL_MNI152_2mm__volume_1.nii.gz\n",
            "Download succeeded, downloaded to: /content/nilearn_data/neurovault/collection_866/image_12613.nii.gz\n",
            "Already fetched 89 images\n",
            "Downloading file: https://neurovault.org/media/images/866/Yeo_13Comp_PrActGivenComp_FSL_MNI152_2mm__volume_2.nii.gz\n",
            "Download succeeded, downloaded to: /content/nilearn_data/neurovault/collection_866/image_12614.nii.gz\n",
            "Already fetched 90 images\n",
            "Downloading file: https://neurovault.org/media/images/866/Yeo_13Comp_PrActGivenComp_FSL_MNI152_2mm__volume_3.nii.gz\n",
            "Download succeeded, downloaded to: /content/nilearn_data/neurovault/collection_866/image_12615.nii.gz\n",
            "Already fetched 91 images\n",
            "Downloading file: https://neurovault.org/media/images/866/Yeo_13Comp_PrActGivenComp_FSL_MNI152_2mm__volume_4.nii.gz\n",
            "Download succeeded, downloaded to: /content/nilearn_data/neurovault/collection_866/image_12616.nii.gz\n",
            "Already fetched 92 images\n",
            "Downloading file: https://neurovault.org/media/images/866/Yeo_13Comp_PrActGivenComp_FSL_MNI152_2mm__volume_5.nii.gz\n",
            "Download succeeded, downloaded to: /content/nilearn_data/neurovault/collection_866/image_12617.nii.gz\n",
            "Already fetched 93 images\n",
            "Downloading file: https://neurovault.org/media/images/866/Yeo_13Comp_PrActGivenComp_FSL_MNI152_2mm__volume_6.nii.gz\n",
            "Download succeeded, downloaded to: /content/nilearn_data/neurovault/collection_866/image_12618.nii.gz\n",
            "Already fetched 94 images\n",
            "Downloading file: https://neurovault.org/media/images/866/Yeo_13Comp_PrActGivenComp_FSL_MNI152_2mm__volume_7.nii.gz\n",
            "Download succeeded, downloaded to: /content/nilearn_data/neurovault/collection_866/image_12619.nii.gz\n",
            "Already fetched 95 images\n",
            "Downloading file: https://neurovault.org/media/images/866/Yeo_13Comp_PrActGivenComp_FSL_MNI152_2mm__volume_8.nii.gz\n",
            "Download succeeded, downloaded to: /content/nilearn_data/neurovault/collection_866/image_12620.nii.gz\n",
            "Already fetched 96 images\n",
            "Downloading file: https://neurovault.org/media/images/866/Yeo_13Comp_PrActGivenComp_FSL_MNI152_2mm__volume_9.nii.gz\n",
            "Download succeeded, downloaded to: /content/nilearn_data/neurovault/collection_866/image_12621.nii.gz\n",
            "Already fetched 97 images\n",
            "Downloading file: https://neurovault.org/media/images/866/Yeo_13Comp_PrActGivenComp_FSL_MNI152_2mm__volume_10.nii.gz\n",
            "Download succeeded, downloaded to: /content/nilearn_data/neurovault/collection_866/image_12622.nii.gz\n",
            "Already fetched 98 images\n",
            "Downloading file: https://neurovault.org/media/images/866/Yeo_13Comp_PrActGivenComp_FSL_MNI152_2mm__volume_11.nii.gz\n",
            "Download succeeded, downloaded to: /content/nilearn_data/neurovault/collection_866/image_12623.nii.gz\n",
            "Already fetched 99 images\n",
            "Downloading file: https://neurovault.org/media/images/866/Yeo_13Comp_PrActGivenComp_FSL_MNI152_2mm__volume_12.nii.gz\n",
            "Download succeeded, downloaded to: /content/nilearn_data/neurovault/collection_866/image_12624.nii.gz\n",
            "Already fetched 100 images\n"
          ],
          "name": "stdout"
        }
      ]
    },
    {
      "metadata": {
        "id": "S_bY4gkHoWvn",
        "colab_type": "code",
        "colab": {
          "autoexec": {
            "startup": false,
            "wait_interval": 0
          }
        }
      },
      "cell_type": "code",
      "source": [
        "images = nv_data['images']"
      ],
      "execution_count": 0,
      "outputs": []
    },
    {
      "metadata": {
        "id": "Tjc1zWQ81uc-",
        "colab_type": "code",
        "colab": {
          "autoexec": {
            "startup": false,
            "wait_interval": 0
          },
          "base_uri": "https://localhost:8080/",
          "height": 71
        },
        "outputId": "e7f62e05-dcbe-49b8-d2d4-63d1113f0dad",
        "executionInfo": {
          "status": "ok",
          "timestamp": 1528237681484,
          "user_tz": -330,
          "elapsed": 29954,
          "user": {
            "displayName": "Sourav Singh",
            "photoUrl": "https://lh3.googleusercontent.com/a/default-user=s128",
            "userId": "108190971277015881608"
          }
        }
      },
      "cell_type": "code",
      "source": [
        "print(\"\\nReshaping and masking images.\\n\")\n",
        "\n",
        "with warnings.catch_warnings():\n",
        "    warnings.simplefilter('ignore', UserWarning)\n",
        "    warnings.simplefilter('ignore', DeprecationWarning)\n",
        "\n",
        "    mask_img = load_mni152_brain_mask()\n",
        "    masker = NiftiMasker(\n",
        "        mask_img=mask_img, memory='nilearn_cache', memory_level=1)\n",
        "    masker = masker.fit()\n",
        "\n",
        "    # Images may fail to be transformed, and are of different shapes,\n",
        "    # so we need to transform one-by-one and keep track of failures.\n",
        "    X = []\n",
        "    is_usable = np.ones((len(images),), dtype=bool)\n",
        "\n",
        "    for index, image_path in enumerate(images):\n",
        "        # load image and remove nan and inf values.\n",
        "        # applying smooth_img to an image with fwhm=None simply cleans up\n",
        "        # non-finite values but otherwise doesn't modify the image.\n",
        "        image = smooth_img(image_path, fwhm=None)\n",
        "        try:\n",
        "            X.append(masker.transform(image))\n",
        "        except Exception as e:\n",
        "            meta = nv_data['images_meta'][index]\n",
        "            print(\"Failed to mask/reshape image: id: {0}; \"\n",
        "                  \"name: '{1}'; collection: {2}; error: {3}\".format(\n",
        "                      meta.get('id'), meta.get('name'),\n",
        "                      meta.get('collection_id'), e))\n",
        "            is_usable[index] = False\n",
        "\n",
        "# Now reshape list into 2D matrix, and remove failed images from terms\n",
        "X = np.vstack(X)"
      ],
      "execution_count": 6,
      "outputs": [
        {
          "output_type": "stream",
          "text": [
            "\n",
            "Reshaping and masking images.\n",
            "\n"
          ],
          "name": "stdout"
        }
      ]
    },
    {
      "metadata": {
        "id": "sZytJruJQ0Rh",
        "colab_type": "code",
        "colab": {
          "autoexec": {
            "startup": false,
            "wait_interval": 0
          },
          "base_uri": "https://localhost:8080/",
          "height": 343
        },
        "outputId": "7c2dc39a-931b-4863-e48f-1316fdef1cd1",
        "executionInfo": {
          "status": "ok",
          "timestamp": 1528237689012,
          "user_tz": -330,
          "elapsed": 7450,
          "user": {
            "displayName": "Sourav Singh",
            "photoUrl": "https://lh3.googleusercontent.com/a/default-user=s128",
            "userId": "108190971277015881608"
          }
        }
      },
      "cell_type": "code",
      "source": [
        "!pip install -U umap-learn"
      ],
      "execution_count": 7,
      "outputs": [
        {
          "output_type": "stream",
          "text": [
            "Collecting umap-learn\n",
            "  Downloading https://files.pythonhosted.org/packages/e5/d9/26bf2c04a5689e3bfb25149047c14ad3276bbe67b88b35e415caa8024dde/umap-learn-0.2.3.tar.gz\n",
            "Requirement not upgraded as not directly required: scikit-learn>=0.16 in /usr/local/lib/python3.6/dist-packages (from umap-learn) (0.19.1)\n",
            "Requirement not upgraded as not directly required: scipy>=0.19 in /usr/local/lib/python3.6/dist-packages (from umap-learn) (0.19.1)\n",
            "Collecting numba>=0.34 (from umap-learn)\n",
            "\u001b[?25l  Downloading https://files.pythonhosted.org/packages/1e/74/bcf00816aa212e1439709f88b4e62519b60c89e18eb9f9f67e7d02ab4461/numba-0.38.1-cp36-cp36m-manylinux1_x86_64.whl (1.9MB)\n",
            "\u001b[K    100% |████████████████████████████████| 1.9MB 12.9MB/s \n",
            "\u001b[?25hRequirement not upgraded as not directly required: numpy>=1.8.2 in /usr/local/lib/python3.6/dist-packages (from scipy>=0.19->umap-learn) (1.14.3)\n",
            "Collecting llvmlite>=0.23.0dev0 (from numba>=0.34->umap-learn)\n",
            "\u001b[?25l  Downloading https://files.pythonhosted.org/packages/21/c7/eb581bbbdf731f24a72eba505cf42668231c595ba61997a6fa186b7f0413/llvmlite-0.23.2-cp36-cp36m-manylinux1_x86_64.whl (15.8MB)\n",
            "\u001b[K    100% |████████████████████████████████| 15.8MB 2.1MB/s \n",
            "\u001b[?25hBuilding wheels for collected packages: umap-learn\n",
            "  Running setup.py bdist_wheel for umap-learn ... \u001b[?25l-\b \bdone\n",
            "\u001b[?25h  Stored in directory: /content/.cache/pip/wheels/3c/37/81/7d524766f1f6e20fdd5c113afd52b7006a0b01c985f2a43962\n",
            "Successfully built umap-learn\n",
            "Installing collected packages: llvmlite, numba, umap-learn\n",
            "Successfully installed llvmlite-0.23.2 numba-0.38.1 umap-learn-0.2.3\n"
          ],
          "name": "stdout"
        }
      ]
    },
    {
      "metadata": {
        "id": "PhSdvmHr0c36",
        "colab_type": "code",
        "colab": {
          "autoexec": {
            "startup": false,
            "wait_interval": 0
          }
        }
      },
      "cell_type": "code",
      "source": [
        "import umap"
      ],
      "execution_count": 0,
      "outputs": []
    },
    {
      "metadata": {
        "id": "rMgj6vqm0ou_",
        "colab_type": "code",
        "colab": {
          "autoexec": {
            "startup": false,
            "wait_interval": 0
          },
          "base_uri": "https://localhost:8080/",
          "height": 125
        },
        "outputId": "19e23024-222a-46ae-8afd-99832f642963",
        "executionInfo": {
          "status": "ok",
          "timestamp": 1528237697964,
          "user_tz": -330,
          "elapsed": 6777,
          "user": {
            "displayName": "Sourav Singh",
            "photoUrl": "https://lh3.googleusercontent.com/a/default-user=s128",
            "userId": "108190971277015881608"
          }
        }
      },
      "cell_type": "code",
      "source": [
        "embedding = umap.UMAP(n_neighbors=5,min_dist=0.3,metric='correlation').fit_transform(X)"
      ],
      "execution_count": 9,
      "outputs": [
        {
          "output_type": "stream",
          "text": [
            "/usr/local/lib/python3.6/dist-packages/umap/umap_.py:887: UserWarning: WARNING: spectral initialisation failed! The eigenvector solver\n",
            "failed. This is likely due to too small an eigengap. Consider\n",
            "adding some noise or jitter to your data.\n",
            "\n",
            "Falling back to random initialisation!\n",
            "  warn('WARNING: spectral initialisation failed! The eigenvector solver\\n'\n"
          ],
          "name": "stderr"
        }
      ]
    },
    {
      "metadata": {
        "id": "egNLkO5E1tAB",
        "colab_type": "code",
        "colab": {
          "autoexec": {
            "startup": false,
            "wait_interval": 0
          }
        }
      },
      "cell_type": "code",
      "source": [
        "import matplotlib.pyplot as plt\n",
        "import seaborn as sns"
      ],
      "execution_count": 0,
      "outputs": []
    },
    {
      "metadata": {
        "id": "gJC907oe5i0V",
        "colab_type": "code",
        "colab": {
          "autoexec": {
            "startup": false,
            "wait_interval": 0
          },
          "base_uri": "https://localhost:8080/",
          "height": 365
        },
        "outputId": "8800d066-a5af-4ef3-82e6-fbd3a1fdf6ef",
        "executionInfo": {
          "status": "ok",
          "timestamp": 1528237700152,
          "user_tz": -330,
          "elapsed": 1044,
          "user": {
            "displayName": "Sourav Singh",
            "photoUrl": "https://lh3.googleusercontent.com/a/default-user=s128",
            "userId": "108190971277015881608"
          }
        }
      },
      "cell_type": "code",
      "source": [
        "plt.scatter(embedding[:,0], embedding[:,1])"
      ],
      "execution_count": 11,
      "outputs": [
        {
          "output_type": "execute_result",
          "data": {
            "text/plain": [
              "<matplotlib.collections.PathCollection at 0x7f51fec805c0>"
            ]
          },
          "metadata": {
            "tags": []
          },
          "execution_count": 11
        },
        {
          "output_type": "display_data",
          "data": {
            "image/png": "[encoded data removed]",
            "text/plain": [
              "<matplotlib.figure.Figure at 0x7f51fec43320>"
            ]
          },
          "metadata": {
            "tags": []
          }
        }
      ]
    },
    {
      "metadata": {
        "id": "Qg8yXWqo5okd",
        "colab_type": "code",
        "colab": {
          "autoexec": {
            "startup": false,
            "wait_interval": 0
          }
        }
      },
      "cell_type": "code",
      "source": [
        ""
      ],
      "execution_count": 0,
      "outputs": []
    }
  ]
}