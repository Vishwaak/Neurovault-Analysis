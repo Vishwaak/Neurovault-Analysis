{
  "nbformat": 4,
  "nbformat_minor": 0,
  "metadata": {
    "colab": {
      "name": "Neurovault-UMAP.ipynb",
      "version": "0.3.2",
      "views": {},
      "default_view": {},
      "provenance": []
    },
    "kernelspec": {
      "name": "python3",
      "display_name": "Python 3"
    },
    "accelerator": "GPU"
  },
  "cells": [
    {
      "metadata": {
        "id": "wsB2l77jY7PD",
        "colab_type": "code",
        "colab": {
          "autoexec": {
            "startup": false,
            "wait_interval": 0
          },
          "base_uri": "https://localhost:8080/",
          "height": 245
        },
        "outputId": "954b2b40-0ca9-4fd5-c4a8-843a5273bbd5",
        "executionInfo": {
          "status": "ok",
          "timestamp": 1530180804274,
          "user_tz": -330,
          "elapsed": 8550,
          "user": {
            "displayName": "Sourav Singh",
            "photoUrl": "https://lh3.googleusercontent.com/a/default-user=s128",
            "userId": "108190971277015881608"
          }
        }
      },
      "cell_type": "code",
      "source": [
        "!pip install -U nilearn"
      ],
      "execution_count": 1,
      "outputs": [
        {
          "output_type": "stream",
          "text": [
            "Collecting nilearn\n",
            "\u001b[?25l  Downloading https://files.pythonhosted.org/packages/f5/b8/ecf17d4ce0aee488ea4c1dc483cd191811f79c644010255258623988bd5b/nilearn-0.4.2-py2.py3-none-any.whl (979kB)\n",
            "\u001b[K    100% |████████████████████████████████| 983kB 9.6MB/s \n",
            "\u001b[?25hCollecting nibabel>=2.0.2 (from nilearn)\n",
            "\u001b[?25l  Downloading https://files.pythonhosted.org/packages/d9/f0/008aa42c3bd42d101cfcd5418643364a4b3dd2322de3e8b3d6c644ae0fb0/nibabel-2.3.0.tar.gz (4.2MB)\n",
            "\u001b[K    100% |████████████████████████████████| 4.2MB 6.2MB/s \n",
            "\u001b[?25hBuilding wheels for collected packages: nibabel\n",
            "  Running setup.py bdist_wheel for nibabel ... \u001b[?25l-\b \b\\\b \b|\b \b/\b \b-\b \b\\\b \b|\b \b/\b \bdone\n",
            "\u001b[?25h  Stored in directory: /content/.cache/pip/wheels/7e/97/9b/7cf05225afac39de2dacef758fc06c0c0bdf3e6efb40fabb9c\n",
            "Successfully built nibabel\n",
            "Installing collected packages: nibabel, nilearn\n",
            "Successfully installed nibabel-2.3.0 nilearn-0.4.2\n"
          ],
          "name": "stdout"
        }
      ]
    },
    {
      "metadata": {
        "id": "0t1wVZNsZCYI",
        "colab_type": "code",
        "colab": {
          "autoexec": {
            "startup": false,
            "wait_interval": 0
          },
          "base_uri": "https://localhost:8080/",
          "height": 677
        },
        "outputId": "53d9bd31-16db-4ad4-9b43-17d6920fec11",
        "executionInfo": {
          "status": "ok",
          "timestamp": 1530180806272,
          "user_tz": -330,
          "elapsed": 1928,
          "user": {
            "displayName": "Sourav Singh",
            "photoUrl": "https://lh3.googleusercontent.com/a/default-user=s128",
            "userId": "108190971277015881608"
          }
        }
      },
      "cell_type": "code",
      "source": [
        "import warnings\n",
        "\n",
        "import numpy as np\n",
        "from scipy import stats\n",
        "from sklearn.decomposition import FastICA\n",
        "\n",
        "from nilearn import datasets\n",
        "from nilearn.image import smooth_img\n",
        "\n",
        "from nilearn.datasets import load_mni152_brain_mask\n",
        "from nilearn.input_data import NiftiMasker\n",
        "\n",
        "from nilearn import plotting\n",
        "\n",
        "from nilearn.datasets import fetch_neurovault\n",
        "from nilearn.datasets.neurovault import basic_collection_terms, NotNull"
      ],
      "execution_count": 2,
      "outputs": [
        {
          "output_type": "stream",
          "text": [
            "/usr/local/lib/python3.6/dist-packages/nilearn/plotting/__init__.py:20: UserWarning: \n",
            "This call to matplotlib.use() has no effect because the backend has already\n",
            "been chosen; matplotlib.use() must be called *before* pylab, matplotlib.pyplot,\n",
            "or matplotlib.backends is imported for the first time.\n",
            "\n",
            "The backend was *originally* set to 'module://ipykernel.pylab.backend_inline' by the following code:\n",
            "  File \"/usr/lib/python3.6/runpy.py\", line 193, in _run_module_as_main\n",
            "    \"__main__\", mod_spec)\n",
            "  File \"/usr/lib/python3.6/runpy.py\", line 85, in _run_code\n",
            "    exec(code, run_globals)\n",
            "  File \"/usr/local/lib/python3.6/dist-packages/ipykernel_launcher.py\", line 16, in <module>\n",
            "    app.launch_new_instance()\n",
            "  File \"/usr/local/lib/python3.6/dist-packages/traitlets/config/application.py\", line 657, in launch_instance\n",
            "    app.initialize(argv)\n",
            "  File \"<decorator-gen-121>\", line 2, in initialize\n",
            "  File \"/usr/local/lib/python3.6/dist-packages/traitlets/config/application.py\", line 87, in catch_config_error\n",
            "    return method(app, *args, **kwargs)\n",
            "  File \"/usr/local/lib/python3.6/dist-packages/ipykernel/kernelapp.py\", line 462, in initialize\n",
            "    self.init_gui_pylab()\n",
            "  File \"/usr/local/lib/python3.6/dist-packages/ipykernel/kernelapp.py\", line 403, in init_gui_pylab\n",
            "    InteractiveShellApp.init_gui_pylab(self)\n",
            "  File \"/usr/local/lib/python3.6/dist-packages/IPython/core/shellapp.py\", line 213, in init_gui_pylab\n",
            "    r = enable(key)\n",
            "  File \"/usr/local/lib/python3.6/dist-packages/IPython/core/interactiveshell.py\", line 2950, in enable_matplotlib\n",
            "    pt.activate_matplotlib(backend)\n",
            "  File \"/usr/local/lib/python3.6/dist-packages/IPython/core/pylabtools.py\", line 309, in activate_matplotlib\n",
            "    matplotlib.pyplot.switch_backend(backend)\n",
            "  File \"/usr/local/lib/python3.6/dist-packages/matplotlib/pyplot.py\", line 232, in switch_backend\n",
            "    matplotlib.use(newbackend, warn=False, force=True)\n",
            "  File \"/usr/local/lib/python3.6/dist-packages/matplotlib/__init__.py\", line 1305, in use\n",
            "    reload(sys.modules['matplotlib.backends'])\n",
            "  File \"/usr/lib/python3.6/importlib/__init__.py\", line 166, in reload\n",
            "    _bootstrap._exec(spec, module)\n",
            "  File \"/usr/local/lib/python3.6/dist-packages/matplotlib/backends/__init__.py\", line 14, in <module>\n",
            "    line for line in traceback.format_stack()\n",
            "\n",
            "\n",
            "  matplotlib.use('Agg')\n"
          ],
          "name": "stderr"
        }
      ]
    },
    {
      "metadata": {
        "id": "ceVSLhBCZR6K",
        "colab_type": "code",
        "colab": {
          "autoexec": {
            "startup": false,
            "wait_interval": 0
          },
          "base_uri": "https://localhost:8080/",
          "height": 28275
        },
        "cellView": "code",
        "outputId": "da747c80-c322-4409-8529-0367500ae1db",
        "executionInfo": {
          "status": "ok",
          "timestamp": 1530182250016,
          "user_tz": -330,
          "elapsed": 1443544,
          "user": {
            "displayName": "Sourav Singh",
            "photoUrl": "https://lh3.googleusercontent.com/a/default-user=s128",
            "userId": "108190971277015881608"
          }
        }
      },
      "cell_type": "code",
      "source": [
        "print(\"Fetching Neurovault images; \"\n",
        "      \"if you haven't downloaded any Neurovault data before \"\n",
        "      \"this will take several minutes.\")\n",
        "nv_data = fetch_neurovault(max_images=250, collection_terms=dict(basic_collection_terms(), DOI=NotNull()), fetch_neurosynth_words=True)"
      ],
      "execution_count": 3,
      "outputs": [
        {
          "output_type": "stream",
          "text": [
            "Fetching Neurovault images; if you haven't downloaded any Neurovault data before this will take several minutes.\n",
            "\n",
            "Dataset created in /content/nilearn_data/neurovault\n",
            "\n",
            "Reading local neurovault data.\n",
            "No image found on local disk.\n",
            "Reading server neurovault data.\n",
            "Scroll collections: getting new batch: http://neurovault.org/api/collections/?limit=100&offset=0\n",
            "Scroll collections: batch size: 100\n",
            "Scroll images from collection 35: getting new batch: http://neurovault.org/api/collections/35/images/?limit=100&offset=0\n",
            "Scroll images from collection 35: batch size: 4\n",
            "Downloading file: https://neurovault.org/media/images/35/Fig3B_zstat1.nii.gz\n",
            "Download succeeded, downloaded to: /content/nilearn_data/neurovault/collection_35/image_110.nii.gz\n",
            "Downloading file: http://neurosynth.org/api/v2/decode/?neurovault=110\n",
            "Download succeeded, downloaded to: /content/nilearn_data/neurovault/collection_35/neurosynth_words_for_image_110.json\n",
            "Already fetched 1 image\n",
            "Downloading file: https://neurovault.org/media/images/35/Fig3A_zstat1_2.nii.gz\n",
            "Download succeeded, downloaded to: /content/nilearn_data/neurovault/collection_35/image_111.nii.gz\n",
            "Downloading file: http://neurosynth.org/api/v2/decode/?neurovault=111\n",
            "Download succeeded, downloaded to: /content/nilearn_data/neurovault/collection_35/neurosynth_words_for_image_111.json\n",
            "Already fetched 2 images\n",
            "Downloading file: https://neurovault.org/media/images/35/Fig4B_zstat1.nii.gz\n",
            "Download succeeded, downloaded to: /content/nilearn_data/neurovault/collection_35/image_112.nii.gz\n",
            "Downloading file: http://neurosynth.org/api/v2/decode/?neurovault=112\n",
            "Download succeeded, downloaded to: /content/nilearn_data/neurovault/collection_35/neurosynth_words_for_image_112.json\n",
            "Already fetched 3 images\n",
            "Downloading file: https://neurovault.org/media/images/35/Fig4A_zstat1.nii.gz\n",
            "Download succeeded, downloaded to: /content/nilearn_data/neurovault/collection_35/image_113.nii.gz\n",
            "Downloading file: http://neurosynth.org/api/v2/decode/?neurovault=113\n",
            "Download succeeded, downloaded to: /content/nilearn_data/neurovault/collection_35/neurosynth_words_for_image_113.json\n",
            "Already fetched 4 images\n",
            "On neurovault.org: 4 images matched query in collection 35\n",
            "Scroll images from collection 1054: getting new batch: http://neurovault.org/api/collections/1054/images/?limit=100&offset=0\n",
            "Scroll images from collection 1054: batch size: 40\n",
            "Downloading file: https://neurovault.org/media/images/1054/vol0000.nii.gz\n",
            "Download succeeded, downloaded to: /content/nilearn_data/neurovault/collection_1054/image_14181.nii.gz\n",
            "Downloading file: http://neurosynth.org/api/v2/decode/?neurovault=14181\n",
            "Download succeeded, downloaded to: /content/nilearn_data/neurovault/collection_1054/neurosynth_words_for_image_14181.json\n",
            "Already fetched 5 images\n",
            "Downloading file: https://neurovault.org/media/images/1054/vol0001.nii.gz\n",
            "Download succeeded, downloaded to: /content/nilearn_data/neurovault/collection_1054/image_14182.nii.gz\n",
            "Downloading file: http://neurosynth.org/api/v2/decode/?neurovault=14182\n",
            "Download succeeded, downloaded to: /content/nilearn_data/neurovault/collection_1054/neurosynth_words_for_image_14182.json\n",
            "Already fetched 6 images\n",
            "Downloading file: https://neurovault.org/media/images/1054/vol0002.nii.gz\n",
            "Download succeeded, downloaded to: /content/nilearn_data/neurovault/collection_1054/image_14183.nii.gz\n",
            "Downloading file: http://neurosynth.org/api/v2/decode/?neurovault=14183\n",
            "Download succeeded, downloaded to: /content/nilearn_data/neurovault/collection_1054/neurosynth_words_for_image_14183.json\n",
            "Already fetched 7 images\n",
            "Downloading file: https://neurovault.org/media/images/1054/vol0003.nii.gz\n",
            "Download succeeded, downloaded to: /content/nilearn_data/neurovault/collection_1054/image_14184.nii.gz\n",
            "Downloading file: http://neurosynth.org/api/v2/decode/?neurovault=14184\n",
            "Download succeeded, downloaded to: /content/nilearn_data/neurovault/collection_1054/neurosynth_words_for_image_14184.json\n",
            "Already fetched 8 images\n",
            "Downloading file: https://neurovault.org/media/images/1054/vol0004.nii.gz\n",
            "Download succeeded, downloaded to: /content/nilearn_data/neurovault/collection_1054/image_14185.nii.gz\n",
            "Downloading file: http://neurosynth.org/api/v2/decode/?neurovault=14185\n",
            "Download succeeded, downloaded to: /content/nilearn_data/neurovault/collection_1054/neurosynth_words_for_image_14185.json\n",
            "Already fetched 9 images\n",
            "Downloading file: https://neurovault.org/media/images/1054/vol0005.nii.gz\n",
            "Download succeeded, downloaded to: /content/nilearn_data/neurovault/collection_1054/image_14186.nii.gz\n",
            "Downloading file: http://neurosynth.org/api/v2/decode/?neurovault=14186\n",
            "Download succeeded, downloaded to: /content/nilearn_data/neurovault/collection_1054/neurosynth_words_for_image_14186.json\n",
            "Already fetched 10 images\n",
            "Downloading file: https://neurovault.org/media/images/1054/vol0006.nii.gz\n",
            "Download succeeded, downloaded to: /content/nilearn_data/neurovault/collection_1054/image_14187.nii.gz\n",
            "Downloading file: http://neurosynth.org/api/v2/decode/?neurovault=14187\n",
            "Download succeeded, downloaded to: /content/nilearn_data/neurovault/collection_1054/neurosynth_words_for_image_14187.json\n",
            "Already fetched 11 images\n",
            "Downloading file: https://neurovault.org/media/images/1054/vol0007.nii.gz\n",
            "Download succeeded, downloaded to: /content/nilearn_data/neurovault/collection_1054/image_14188.nii.gz\n",
            "Downloading file: http://neurosynth.org/api/v2/decode/?neurovault=14188\n",
            "Download succeeded, downloaded to: /content/nilearn_data/neurovault/collection_1054/neurosynth_words_for_image_14188.json\n",
            "Already fetched 12 images\n",
            "Downloading file: https://neurovault.org/media/images/1054/vol0008.nii.gz\n",
            "Download succeeded, downloaded to: /content/nilearn_data/neurovault/collection_1054/image_14189.nii.gz\n",
            "Downloading file: http://neurosynth.org/api/v2/decode/?neurovault=14189\n",
            "Download succeeded, downloaded to: /content/nilearn_data/neurovault/collection_1054/neurosynth_words_for_image_14189.json\n",
            "Already fetched 13 images\n",
            "Downloading file: https://neurovault.org/media/images/1054/vol0009.nii.gz\n",
            "Download succeeded, downloaded to: /content/nilearn_data/neurovault/collection_1054/image_14190.nii.gz\n",
            "Downloading file: http://neurosynth.org/api/v2/decode/?neurovault=14190\n"
          ],
          "name": "stdout"
        },
        {
          "output_type": "stream",
          "text": [
            "Download succeeded, downloaded to: /content/nilearn_data/neurovault/collection_1054/neurosynth_words_for_image_14190.json\n",
            "Already fetched 14 images\n",
            "Downloading file: https://neurovault.org/media/images/1054/vol0010.nii.gz\n",
            "Download succeeded, downloaded to: /content/nilearn_data/neurovault/collection_1054/image_14191.nii.gz\n",
            "Downloading file: http://neurosynth.org/api/v2/decode/?neurovault=14191\n",
            "Download succeeded, downloaded to: /content/nilearn_data/neurovault/collection_1054/neurosynth_words_for_image_14191.json\n",
            "Already fetched 15 images\n",
            "Downloading file: https://neurovault.org/media/images/1054/vol0011.nii.gz\n",
            "Download succeeded, downloaded to: /content/nilearn_data/neurovault/collection_1054/image_14192.nii.gz\n",
            "Downloading file: http://neurosynth.org/api/v2/decode/?neurovault=14192\n",
            "Download succeeded, downloaded to: /content/nilearn_data/neurovault/collection_1054/neurosynth_words_for_image_14192.json\n",
            "Already fetched 16 images\n",
            "Downloading file: https://neurovault.org/media/images/1054/vol0012.nii.gz\n",
            "Download succeeded, downloaded to: /content/nilearn_data/neurovault/collection_1054/image_14193.nii.gz\n",
            "Downloading file: http://neurosynth.org/api/v2/decode/?neurovault=14193\n",
            "Download succeeded, downloaded to: /content/nilearn_data/neurovault/collection_1054/neurosynth_words_for_image_14193.json\n",
            "Already fetched 17 images\n",
            "Downloading file: https://neurovault.org/media/images/1054/vol0013.nii.gz\n",
            "Download succeeded, downloaded to: /content/nilearn_data/neurovault/collection_1054/image_14194.nii.gz\n",
            "Downloading file: http://neurosynth.org/api/v2/decode/?neurovault=14194\n",
            "Download succeeded, downloaded to: /content/nilearn_data/neurovault/collection_1054/neurosynth_words_for_image_14194.json\n",
            "Already fetched 18 images\n",
            "Downloading file: https://neurovault.org/media/images/1054/vol0014.nii.gz\n",
            "Download succeeded, downloaded to: /content/nilearn_data/neurovault/collection_1054/image_14195.nii.gz\n",
            "Downloading file: http://neurosynth.org/api/v2/decode/?neurovault=14195\n",
            "Download succeeded, downloaded to: /content/nilearn_data/neurovault/collection_1054/neurosynth_words_for_image_14195.json\n",
            "Already fetched 19 images\n",
            "Downloading file: https://neurovault.org/media/images/1054/vol0015.nii.gz\n",
            "Download succeeded, downloaded to: /content/nilearn_data/neurovault/collection_1054/image_14196.nii.gz\n",
            "Downloading file: http://neurosynth.org/api/v2/decode/?neurovault=14196\n",
            "Download succeeded, downloaded to: /content/nilearn_data/neurovault/collection_1054/neurosynth_words_for_image_14196.json\n",
            "Already fetched 20 images\n",
            "Downloading file: https://neurovault.org/media/images/1054/vol0016.nii.gz\n",
            "Download succeeded, downloaded to: /content/nilearn_data/neurovault/collection_1054/image_14197.nii.gz\n",
            "Downloading file: http://neurosynth.org/api/v2/decode/?neurovault=14197\n",
            "Download succeeded, downloaded to: /content/nilearn_data/neurovault/collection_1054/neurosynth_words_for_image_14197.json\n",
            "Already fetched 21 images\n",
            "Downloading file: https://neurovault.org/media/images/1054/vol0017.nii.gz\n",
            "Download succeeded, downloaded to: /content/nilearn_data/neurovault/collection_1054/image_14198.nii.gz\n",
            "Downloading file: http://neurosynth.org/api/v2/decode/?neurovault=14198\n",
            "Download succeeded, downloaded to: /content/nilearn_data/neurovault/collection_1054/neurosynth_words_for_image_14198.json\n",
            "Already fetched 22 images\n",
            "Downloading file: https://neurovault.org/media/images/1054/vol0018.nii.gz\n",
            "Download succeeded, downloaded to: /content/nilearn_data/neurovault/collection_1054/image_14199.nii.gz\n",
            "Downloading file: http://neurosynth.org/api/v2/decode/?neurovault=14199\n",
            "Download succeeded, downloaded to: /content/nilearn_data/neurovault/collection_1054/neurosynth_words_for_image_14199.json\n",
            "Already fetched 23 images\n",
            "Downloading file: https://neurovault.org/media/images/1054/vol0019.nii.gz\n",
            "Download succeeded, downloaded to: /content/nilearn_data/neurovault/collection_1054/image_14200.nii.gz\n",
            "Downloading file: http://neurosynth.org/api/v2/decode/?neurovault=14200\n",
            "Download succeeded, downloaded to: /content/nilearn_data/neurovault/collection_1054/neurosynth_words_for_image_14200.json\n",
            "Already fetched 24 images\n",
            "Downloading file: https://neurovault.org/media/images/1054/vol0000_1.nii.gz\n",
            "Download succeeded, downloaded to: /content/nilearn_data/neurovault/collection_1054/image_14201.nii.gz\n",
            "Downloading file: http://neurosynth.org/api/v2/decode/?neurovault=14201\n",
            "Download succeeded, downloaded to: /content/nilearn_data/neurovault/collection_1054/neurosynth_words_for_image_14201.json\n",
            "Already fetched 25 images\n",
            "Downloading file: https://neurovault.org/media/images/1054/vol0001_1.nii.gz\n",
            "Download succeeded, downloaded to: /content/nilearn_data/neurovault/collection_1054/image_14202.nii.gz\n",
            "Downloading file: http://neurosynth.org/api/v2/decode/?neurovault=14202\n",
            "Download succeeded, downloaded to: /content/nilearn_data/neurovault/collection_1054/neurosynth_words_for_image_14202.json\n",
            "Already fetched 26 images\n",
            "Downloading file: https://neurovault.org/media/images/1054/vol0002_1.nii.gz\n",
            "Download succeeded, downloaded to: /content/nilearn_data/neurovault/collection_1054/image_14203.nii.gz\n",
            "Downloading file: http://neurosynth.org/api/v2/decode/?neurovault=14203\n",
            "Download succeeded, downloaded to: /content/nilearn_data/neurovault/collection_1054/neurosynth_words_for_image_14203.json\n",
            "Already fetched 27 images\n",
            "Downloading file: https://neurovault.org/media/images/1054/vol0003_1.nii.gz\n",
            "Download succeeded, downloaded to: /content/nilearn_data/neurovault/collection_1054/image_14204.nii.gz\n",
            "Downloading file: http://neurosynth.org/api/v2/decode/?neurovault=14204\n",
            "Download succeeded, downloaded to: /content/nilearn_data/neurovault/collection_1054/neurosynth_words_for_image_14204.json\n",
            "Already fetched 28 images\n",
            "Downloading file: https://neurovault.org/media/images/1054/vol0004_1.nii.gz\n",
            "Download succeeded, downloaded to: /content/nilearn_data/neurovault/collection_1054/image_14205.nii.gz\n",
            "Downloading file: http://neurosynth.org/api/v2/decode/?neurovault=14205\n",
            "Download succeeded, downloaded to: /content/nilearn_data/neurovault/collection_1054/neurosynth_words_for_image_14205.json\n",
            "Already fetched 29 images\n",
            "Downloading file: https://neurovault.org/media/images/1054/vol0005_1.nii.gz\n"
          ],
          "name": "stdout"
        },
        {
          "output_type": "stream",
          "text": [
            "Download succeeded, downloaded to: /content/nilearn_data/neurovault/collection_1054/image_14206.nii.gz\n",
            "Downloading file: http://neurosynth.org/api/v2/decode/?neurovault=14206\n",
            "Download succeeded, downloaded to: /content/nilearn_data/neurovault/collection_1054/neurosynth_words_for_image_14206.json\n",
            "Already fetched 30 images\n",
            "Downloading file: https://neurovault.org/media/images/1054/vol0006_1.nii.gz\n",
            "Download succeeded, downloaded to: /content/nilearn_data/neurovault/collection_1054/image_14207.nii.gz\n",
            "Downloading file: http://neurosynth.org/api/v2/decode/?neurovault=14207\n",
            "Download succeeded, downloaded to: /content/nilearn_data/neurovault/collection_1054/neurosynth_words_for_image_14207.json\n",
            "Already fetched 31 images\n",
            "Downloading file: https://neurovault.org/media/images/1054/vol0007_1.nii.gz\n",
            "Download succeeded, downloaded to: /content/nilearn_data/neurovault/collection_1054/image_14208.nii.gz\n",
            "Downloading file: http://neurosynth.org/api/v2/decode/?neurovault=14208\n",
            "Download succeeded, downloaded to: /content/nilearn_data/neurovault/collection_1054/neurosynth_words_for_image_14208.json\n",
            "Already fetched 32 images\n",
            "Downloading file: https://neurovault.org/media/images/1054/vol0008_1.nii.gz\n",
            "Download succeeded, downloaded to: /content/nilearn_data/neurovault/collection_1054/image_14209.nii.gz\n",
            "Downloading file: http://neurosynth.org/api/v2/decode/?neurovault=14209\n",
            "Download succeeded, downloaded to: /content/nilearn_data/neurovault/collection_1054/neurosynth_words_for_image_14209.json\n",
            "Already fetched 33 images\n",
            "Downloading file: https://neurovault.org/media/images/1054/vol0009_1.nii.gz\n",
            "Download succeeded, downloaded to: /content/nilearn_data/neurovault/collection_1054/image_14210.nii.gz\n",
            "Downloading file: http://neurosynth.org/api/v2/decode/?neurovault=14210\n",
            "Download succeeded, downloaded to: /content/nilearn_data/neurovault/collection_1054/neurosynth_words_for_image_14210.json\n",
            "Already fetched 34 images\n",
            "Downloading file: https://neurovault.org/media/images/1054/vol0010_1.nii.gz\n",
            "Download succeeded, downloaded to: /content/nilearn_data/neurovault/collection_1054/image_14211.nii.gz\n",
            "Downloading file: http://neurosynth.org/api/v2/decode/?neurovault=14211\n",
            "Download succeeded, downloaded to: /content/nilearn_data/neurovault/collection_1054/neurosynth_words_for_image_14211.json\n",
            "Already fetched 35 images\n",
            "Downloading file: https://neurovault.org/media/images/1054/vol0011_1.nii.gz\n",
            "Download succeeded, downloaded to: /content/nilearn_data/neurovault/collection_1054/image_14212.nii.gz\n",
            "Downloading file: http://neurosynth.org/api/v2/decode/?neurovault=14212\n",
            "Download succeeded, downloaded to: /content/nilearn_data/neurovault/collection_1054/neurosynth_words_for_image_14212.json\n",
            "Already fetched 36 images\n",
            "Downloading file: https://neurovault.org/media/images/1054/vol0012_1.nii.gz\n",
            "Download succeeded, downloaded to: /content/nilearn_data/neurovault/collection_1054/image_14213.nii.gz\n",
            "Downloading file: http://neurosynth.org/api/v2/decode/?neurovault=14213\n",
            "Download succeeded, downloaded to: /content/nilearn_data/neurovault/collection_1054/neurosynth_words_for_image_14213.json\n",
            "Already fetched 37 images\n",
            "Downloading file: https://neurovault.org/media/images/1054/vol0013_1.nii.gz\n",
            "Download succeeded, downloaded to: /content/nilearn_data/neurovault/collection_1054/image_14214.nii.gz\n",
            "Downloading file: http://neurosynth.org/api/v2/decode/?neurovault=14214\n",
            "Download succeeded, downloaded to: /content/nilearn_data/neurovault/collection_1054/neurosynth_words_for_image_14214.json\n",
            "Already fetched 38 images\n",
            "Downloading file: https://neurovault.org/media/images/1054/vol0014_1.nii.gz\n",
            "Download succeeded, downloaded to: /content/nilearn_data/neurovault/collection_1054/image_14215.nii.gz\n",
            "Downloading file: http://neurosynth.org/api/v2/decode/?neurovault=14215\n",
            "Download succeeded, downloaded to: /content/nilearn_data/neurovault/collection_1054/neurosynth_words_for_image_14215.json\n",
            "Already fetched 39 images\n",
            "Downloading file: https://neurovault.org/media/images/1054/vol0015_1.nii.gz\n",
            "Download succeeded, downloaded to: /content/nilearn_data/neurovault/collection_1054/image_14216.nii.gz\n",
            "Downloading file: http://neurosynth.org/api/v2/decode/?neurovault=14216\n",
            "Download succeeded, downloaded to: /content/nilearn_data/neurovault/collection_1054/neurosynth_words_for_image_14216.json\n",
            "Already fetched 40 images\n",
            "Downloading file: https://neurovault.org/media/images/1054/vol0016_1.nii.gz\n",
            "Download succeeded, downloaded to: /content/nilearn_data/neurovault/collection_1054/image_14217.nii.gz\n",
            "Downloading file: http://neurosynth.org/api/v2/decode/?neurovault=14217\n",
            "Download succeeded, downloaded to: /content/nilearn_data/neurovault/collection_1054/neurosynth_words_for_image_14217.json\n",
            "Already fetched 41 images\n",
            "Downloading file: https://neurovault.org/media/images/1054/vol0017_1.nii.gz\n",
            "Download succeeded, downloaded to: /content/nilearn_data/neurovault/collection_1054/image_14218.nii.gz\n",
            "Downloading file: http://neurosynth.org/api/v2/decode/?neurovault=14218\n",
            "Download succeeded, downloaded to: /content/nilearn_data/neurovault/collection_1054/neurosynth_words_for_image_14218.json\n",
            "Already fetched 42 images\n",
            "Downloading file: https://neurovault.org/media/images/1054/vol0018_1.nii.gz\n",
            "Download succeeded, downloaded to: /content/nilearn_data/neurovault/collection_1054/image_14219.nii.gz\n",
            "Downloading file: http://neurosynth.org/api/v2/decode/?neurovault=14219\n",
            "Download succeeded, downloaded to: /content/nilearn_data/neurovault/collection_1054/neurosynth_words_for_image_14219.json\n",
            "Already fetched 43 images\n",
            "Downloading file: https://neurovault.org/media/images/1054/vol0019_1.nii.gz\n",
            "Download succeeded, downloaded to: /content/nilearn_data/neurovault/collection_1054/image_14220.nii.gz\n",
            "Downloading file: http://neurosynth.org/api/v2/decode/?neurovault=14220\n",
            "Download succeeded, downloaded to: /content/nilearn_data/neurovault/collection_1054/neurosynth_words_for_image_14220.json\n",
            "Already fetched 44 images\n",
            "On neurovault.org: 40 images matched query in collection 1054\n",
            "Scroll images from collection 1194: getting new batch: http://neurovault.org/api/collections/1194/images/?limit=100&offset=0\n",
            "Scroll images from collection 1194: batch size: 2\n",
            "Downloading file: https://neurovault.org/media/images/1194/18FDOPA.nii.gz\n"
          ],
          "name": "stdout"
        },
        {
          "output_type": "stream",
          "text": [
            "Download succeeded, downloaded to: /content/nilearn_data/neurovault/collection_1194/image_16252.nii.gz\n",
            "Downloading file: http://neurosynth.org/api/v2/decode/?neurovault=16252\n",
            "Download succeeded, downloaded to: /content/nilearn_data/neurovault/collection_1194/neurosynth_words_for_image_16252.json\n",
            "Already fetched 45 images\n",
            "Downloading file: https://neurovault.org/media/images/1194/123I-FP-CIT.nii.gz\n",
            "Download succeeded, downloaded to: /content/nilearn_data/neurovault/collection_1194/image_16253.nii.gz\n",
            "Downloading file: http://neurosynth.org/api/v2/decode/?neurovault=16253\n",
            "Download succeeded, downloaded to: /content/nilearn_data/neurovault/collection_1194/neurosynth_words_for_image_16253.json\n",
            "Already fetched 46 images\n",
            "On neurovault.org: 2 images matched query in collection 1194\n",
            "Scroll images from collection 1056: getting new batch: http://neurovault.org/api/collections/1056/images/?limit=100&offset=0\n",
            "Scroll images from collection 1056: batch size: 20\n",
            "On neurovault.org: no image matched query in collection 1056\n",
            "Scroll images from collection 1039: getting new batch: http://neurovault.org/api/collections/1039/images/?limit=100&offset=0\n",
            "Scroll images from collection 1039: batch size: 41\n",
            "Downloading file: https://neurovault.org/media/images/1039/zVMHCMap_sub001.nii.gz\n",
            "Download succeeded, downloaded to: /content/nilearn_data/neurovault/collection_1039/image_14084.nii.gz\n",
            "Downloading file: http://neurosynth.org/api/v2/decode/?neurovault=14084\n",
            "Download succeeded, downloaded to: /content/nilearn_data/neurovault/collection_1039/neurosynth_words_for_image_14084.json\n",
            "Already fetched 47 images\n",
            "Downloading file: https://neurovault.org/media/images/1039/zVMHCMap_sub009.nii.gz\n",
            "Download succeeded, downloaded to: /content/nilearn_data/neurovault/collection_1039/image_14085.nii.gz\n",
            "Downloading file: http://neurosynth.org/api/v2/decode/?neurovault=14085\n",
            "Download succeeded, downloaded to: /content/nilearn_data/neurovault/collection_1039/neurosynth_words_for_image_14085.json\n",
            "Already fetched 48 images\n",
            "Downloading file: https://neurovault.org/media/images/1039/zVMHCMap_sub011.nii.gz\n",
            "Download succeeded, downloaded to: /content/nilearn_data/neurovault/collection_1039/image_14086.nii.gz\n",
            "Downloading file: http://neurosynth.org/api/v2/decode/?neurovault=14086\n",
            "Download succeeded, downloaded to: /content/nilearn_data/neurovault/collection_1039/neurosynth_words_for_image_14086.json\n",
            "Already fetched 49 images\n",
            "Downloading file: https://neurovault.org/media/images/1039/zVMHCMap_sub015.nii.gz\n",
            "Download succeeded, downloaded to: /content/nilearn_data/neurovault/collection_1039/image_14087.nii.gz\n",
            "Downloading file: http://neurosynth.org/api/v2/decode/?neurovault=14087\n",
            "Download succeeded, downloaded to: /content/nilearn_data/neurovault/collection_1039/neurosynth_words_for_image_14087.json\n",
            "Already fetched 50 images\n",
            "Downloading file: https://neurovault.org/media/images/1039/zVMHCMap_sub018.nii.gz\n",
            "Download succeeded, downloaded to: /content/nilearn_data/neurovault/collection_1039/image_14088.nii.gz\n",
            "Downloading file: http://neurosynth.org/api/v2/decode/?neurovault=14088\n",
            "Download succeeded, downloaded to: /content/nilearn_data/neurovault/collection_1039/neurosynth_words_for_image_14088.json\n",
            "Already fetched 51 images\n",
            "Downloading file: https://neurovault.org/media/images/1039/zVMHCMap_sub026.nii.gz\n",
            "Download succeeded, downloaded to: /content/nilearn_data/neurovault/collection_1039/image_14089.nii.gz\n",
            "Downloading file: http://neurosynth.org/api/v2/decode/?neurovault=14089\n",
            "Download succeeded, downloaded to: /content/nilearn_data/neurovault/collection_1039/neurosynth_words_for_image_14089.json\n",
            "Already fetched 52 images\n",
            "Downloading file: https://neurovault.org/media/images/1039/zVMHCMap_sub028.nii.gz\n",
            "Download succeeded, downloaded to: /content/nilearn_data/neurovault/collection_1039/image_14090.nii.gz\n",
            "Downloading file: http://neurosynth.org/api/v2/decode/?neurovault=14090\n",
            "Download succeeded, downloaded to: /content/nilearn_data/neurovault/collection_1039/neurosynth_words_for_image_14090.json\n",
            "Already fetched 53 images\n",
            "Downloading file: https://neurovault.org/media/images/1039/zVMHCMap_sub030.nii.gz\n",
            "Download succeeded, downloaded to: /content/nilearn_data/neurovault/collection_1039/image_14091.nii.gz\n",
            "Downloading file: http://neurosynth.org/api/v2/decode/?neurovault=14091\n",
            "Download succeeded, downloaded to: /content/nilearn_data/neurovault/collection_1039/neurosynth_words_for_image_14091.json\n",
            "Already fetched 54 images\n",
            "Downloading file: https://neurovault.org/media/images/1039/zVMHCMap_sub031.nii.gz\n",
            "Download succeeded, downloaded to: /content/nilearn_data/neurovault/collection_1039/image_14092.nii.gz\n",
            "Downloading file: http://neurosynth.org/api/v2/decode/?neurovault=14092\n",
            "Download succeeded, downloaded to: /content/nilearn_data/neurovault/collection_1039/neurosynth_words_for_image_14092.json\n",
            "Already fetched 55 images\n",
            "Downloading file: https://neurovault.org/media/images/1039/zVMHCMap_sub033.nii.gz\n",
            "Download succeeded, downloaded to: /content/nilearn_data/neurovault/collection_1039/image_14093.nii.gz\n",
            "Downloading file: http://neurosynth.org/api/v2/decode/?neurovault=14093\n",
            "Download succeeded, downloaded to: /content/nilearn_data/neurovault/collection_1039/neurosynth_words_for_image_14093.json\n",
            "Already fetched 56 images\n",
            "Downloading file: https://neurovault.org/media/images/1039/zVMHCMap_sub035.nii.gz\n",
            "Download succeeded, downloaded to: /content/nilearn_data/neurovault/collection_1039/image_14094.nii.gz\n",
            "Downloading file: http://neurosynth.org/api/v2/decode/?neurovault=14094\n",
            "Download succeeded, downloaded to: /content/nilearn_data/neurovault/collection_1039/neurosynth_words_for_image_14094.json\n",
            "Already fetched 57 images\n",
            "Downloading file: https://neurovault.org/media/images/1039/zVMHCMap_sub036.nii.gz\n",
            "Download succeeded, downloaded to: /content/nilearn_data/neurovault/collection_1039/image_14095.nii.gz\n",
            "Downloading file: http://neurosynth.org/api/v2/decode/?neurovault=14095\n",
            "Download succeeded, downloaded to: /content/nilearn_data/neurovault/collection_1039/neurosynth_words_for_image_14095.json\n",
            "Already fetched 58 images\n",
            "Downloading file: https://neurovault.org/media/images/1039/zVMHCMap_sub041.nii.gz\n"
          ],
          "name": "stdout"
        },
        {
          "output_type": "stream",
          "text": [
            "Download succeeded, downloaded to: /content/nilearn_data/neurovault/collection_1039/image_14096.nii.gz\n",
            "Downloading file: http://neurosynth.org/api/v2/decode/?neurovault=14096\n",
            "Download succeeded, downloaded to: /content/nilearn_data/neurovault/collection_1039/neurosynth_words_for_image_14096.json\n",
            "Already fetched 59 images\n",
            "Downloading file: https://neurovault.org/media/images/1039/zVMHCMap_sub044.nii.gz\n",
            "Download succeeded, downloaded to: /content/nilearn_data/neurovault/collection_1039/image_14097.nii.gz\n",
            "Downloading file: http://neurosynth.org/api/v2/decode/?neurovault=14097\n",
            "Download succeeded, downloaded to: /content/nilearn_data/neurovault/collection_1039/neurosynth_words_for_image_14097.json\n",
            "Already fetched 60 images\n",
            "Downloading file: https://neurovault.org/media/images/1039/zVMHCMap_sub046.nii.gz\n",
            "Download succeeded, downloaded to: /content/nilearn_data/neurovault/collection_1039/image_14098.nii.gz\n",
            "Downloading file: http://neurosynth.org/api/v2/decode/?neurovault=14098\n",
            "Download succeeded, downloaded to: /content/nilearn_data/neurovault/collection_1039/neurosynth_words_for_image_14098.json\n",
            "Already fetched 61 images\n",
            "Downloading file: https://neurovault.org/media/images/1039/zVMHCMap_sub050.nii.gz\n",
            "Download succeeded, downloaded to: /content/nilearn_data/neurovault/collection_1039/image_14099.nii.gz\n",
            "Downloading file: http://neurosynth.org/api/v2/decode/?neurovault=14099\n",
            "Download succeeded, downloaded to: /content/nilearn_data/neurovault/collection_1039/neurosynth_words_for_image_14099.json\n",
            "Already fetched 62 images\n",
            "Downloading file: https://neurovault.org/media/images/1039/zVMHCMap_sub051.nii.gz\n",
            "Download succeeded, downloaded to: /content/nilearn_data/neurovault/collection_1039/image_14100.nii.gz\n",
            "Downloading file: http://neurosynth.org/api/v2/decode/?neurovault=14100\n",
            "Download succeeded, downloaded to: /content/nilearn_data/neurovault/collection_1039/neurosynth_words_for_image_14100.json\n",
            "Already fetched 63 images\n",
            "Downloading file: https://neurovault.org/media/images/1039/zVMHCMap_sub053.nii.gz\n",
            "Download succeeded, downloaded to: /content/nilearn_data/neurovault/collection_1039/image_14101.nii.gz\n",
            "Downloading file: http://neurosynth.org/api/v2/decode/?neurovault=14101\n",
            "Download succeeded, downloaded to: /content/nilearn_data/neurovault/collection_1039/neurosynth_words_for_image_14101.json\n",
            "Already fetched 64 images\n",
            "Downloading file: https://neurovault.org/media/images/1039/zVMHCMap_sub056.nii.gz\n",
            "Download succeeded, downloaded to: /content/nilearn_data/neurovault/collection_1039/image_14102.nii.gz\n",
            "Downloading file: http://neurosynth.org/api/v2/decode/?neurovault=14102\n",
            "Download succeeded, downloaded to: /content/nilearn_data/neurovault/collection_1039/neurosynth_words_for_image_14102.json\n",
            "Already fetched 65 images\n",
            "Downloading file: https://neurovault.org/media/images/1039/zVMHCMap_sub057.nii.gz\n",
            "Download succeeded, downloaded to: /content/nilearn_data/neurovault/collection_1039/image_14103.nii.gz\n",
            "Downloading file: http://neurosynth.org/api/v2/decode/?neurovault=14103\n",
            "Download succeeded, downloaded to: /content/nilearn_data/neurovault/collection_1039/neurosynth_words_for_image_14103.json\n",
            "Already fetched 66 images\n",
            "Downloading file: https://neurovault.org/media/images/1039/zVMHCMap_sub058.nii.gz\n",
            "Download succeeded, downloaded to: /content/nilearn_data/neurovault/collection_1039/image_14104.nii.gz\n",
            "Downloading file: http://neurosynth.org/api/v2/decode/?neurovault=14104\n",
            "Download succeeded, downloaded to: /content/nilearn_data/neurovault/collection_1039/neurosynth_words_for_image_14104.json\n",
            "Already fetched 67 images\n",
            "Downloading file: https://neurovault.org/media/images/1039/zVMHCMap_sub059.nii.gz\n",
            "Download succeeded, downloaded to: /content/nilearn_data/neurovault/collection_1039/image_14105.nii.gz\n",
            "Downloading file: http://neurosynth.org/api/v2/decode/?neurovault=14105\n",
            "Download succeeded, downloaded to: /content/nilearn_data/neurovault/collection_1039/neurosynth_words_for_image_14105.json\n",
            "Already fetched 68 images\n",
            "Downloading file: https://neurovault.org/media/images/1039/zVMHCMap_sub064.nii.gz\n",
            "Download succeeded, downloaded to: /content/nilearn_data/neurovault/collection_1039/image_14106.nii.gz\n",
            "Downloading file: http://neurosynth.org/api/v2/decode/?neurovault=14106\n",
            "Download succeeded, downloaded to: /content/nilearn_data/neurovault/collection_1039/neurosynth_words_for_image_14106.json\n",
            "Already fetched 69 images\n",
            "Downloading file: https://neurovault.org/media/images/1039/zVMHCMap_sub065.nii.gz\n",
            "Download succeeded, downloaded to: /content/nilearn_data/neurovault/collection_1039/image_14107.nii.gz\n",
            "Downloading file: http://neurosynth.org/api/v2/decode/?neurovault=14107\n",
            "Download succeeded, downloaded to: /content/nilearn_data/neurovault/collection_1039/neurosynth_words_for_image_14107.json\n",
            "Already fetched 70 images\n",
            "Downloading file: https://neurovault.org/media/images/1039/zVMHCMap_sub007.nii.gz\n",
            "Download succeeded, downloaded to: /content/nilearn_data/neurovault/collection_1039/image_14109.nii.gz\n",
            "Downloading file: http://neurosynth.org/api/v2/decode/?neurovault=14109\n",
            "Download succeeded, downloaded to: /content/nilearn_data/neurovault/collection_1039/neurosynth_words_for_image_14109.json\n",
            "Already fetched 71 images\n",
            "Downloading file: https://neurovault.org/media/images/1039/zVMHCMap_sub008.nii.gz\n",
            "Download succeeded, downloaded to: /content/nilearn_data/neurovault/collection_1039/image_14110.nii.gz\n",
            "Downloading file: http://neurosynth.org/api/v2/decode/?neurovault=14110\n",
            "Download succeeded, downloaded to: /content/nilearn_data/neurovault/collection_1039/neurosynth_words_for_image_14110.json\n",
            "Already fetched 72 images\n",
            "Downloading file: https://neurovault.org/media/images/1039/zVMHCMap_sub013.nii.gz\n",
            "Download succeeded, downloaded to: /content/nilearn_data/neurovault/collection_1039/image_14111.nii.gz\n",
            "Downloading file: http://neurosynth.org/api/v2/decode/?neurovault=14111\n",
            "Download succeeded, downloaded to: /content/nilearn_data/neurovault/collection_1039/neurosynth_words_for_image_14111.json\n",
            "Already fetched 73 images\n",
            "Downloading file: https://neurovault.org/media/images/1039/zVMHCMap_sub024.nii.gz\n",
            "Download succeeded, downloaded to: /content/nilearn_data/neurovault/collection_1039/image_14113.nii.gz\n",
            "Downloading file: http://neurosynth.org/api/v2/decode/?neurovault=14113\n"
          ],
          "name": "stdout"
        },
        {
          "output_type": "stream",
          "text": [
            "Download succeeded, downloaded to: /content/nilearn_data/neurovault/collection_1039/neurosynth_words_for_image_14113.json\n",
            "Already fetched 74 images\n",
            "Downloading file: https://neurovault.org/media/images/1039/zVMHCMap_sub025.nii.gz\n",
            "Download succeeded, downloaded to: /content/nilearn_data/neurovault/collection_1039/image_14114.nii.gz\n",
            "Downloading file: http://neurosynth.org/api/v2/decode/?neurovault=14114\n",
            "Download succeeded, downloaded to: /content/nilearn_data/neurovault/collection_1039/neurosynth_words_for_image_14114.json\n",
            "Already fetched 75 images\n",
            "Downloading file: https://neurovault.org/media/images/1039/zVMHCMap_sub034.nii.gz\n",
            "Download succeeded, downloaded to: /content/nilearn_data/neurovault/collection_1039/image_14115.nii.gz\n",
            "Downloading file: http://neurosynth.org/api/v2/decode/?neurovault=14115\n",
            "Download succeeded, downloaded to: /content/nilearn_data/neurovault/collection_1039/neurosynth_words_for_image_14115.json\n",
            "Already fetched 76 images\n",
            "Downloading file: https://neurovault.org/media/images/1039/zVMHCMap_sub037.nii.gz\n",
            "Download succeeded, downloaded to: /content/nilearn_data/neurovault/collection_1039/image_14116.nii.gz\n",
            "Downloading file: http://neurosynth.org/api/v2/decode/?neurovault=14116\n",
            "Download succeeded, downloaded to: /content/nilearn_data/neurovault/collection_1039/neurosynth_words_for_image_14116.json\n",
            "Already fetched 77 images\n",
            "Downloading file: https://neurovault.org/media/images/1039/zVMHCMap_sub038.nii.gz\n",
            "Download succeeded, downloaded to: /content/nilearn_data/neurovault/collection_1039/image_14117.nii.gz\n",
            "Downloading file: http://neurosynth.org/api/v2/decode/?neurovault=14117\n",
            "Download succeeded, downloaded to: /content/nilearn_data/neurovault/collection_1039/neurosynth_words_for_image_14117.json\n",
            "Already fetched 78 images\n",
            "Downloading file: https://neurovault.org/media/images/1039/zVMHCMap_sub039.nii.gz\n",
            "Download succeeded, downloaded to: /content/nilearn_data/neurovault/collection_1039/image_14118.nii.gz\n",
            "Downloading file: http://neurosynth.org/api/v2/decode/?neurovault=14118\n",
            "Download succeeded, downloaded to: /content/nilearn_data/neurovault/collection_1039/neurosynth_words_for_image_14118.json\n",
            "Already fetched 79 images\n",
            "Downloading file: https://neurovault.org/media/images/1039/zVMHCMap_sub045.nii.gz\n",
            "Download succeeded, downloaded to: /content/nilearn_data/neurovault/collection_1039/image_14119.nii.gz\n",
            "Downloading file: http://neurosynth.org/api/v2/decode/?neurovault=14119\n",
            "Download succeeded, downloaded to: /content/nilearn_data/neurovault/collection_1039/neurosynth_words_for_image_14119.json\n",
            "Already fetched 80 images\n",
            "Downloading file: https://neurovault.org/media/images/1039/zVMHCMap_sub047.nii.gz\n",
            "Download succeeded, downloaded to: /content/nilearn_data/neurovault/collection_1039/image_14120.nii.gz\n",
            "Downloading file: http://neurosynth.org/api/v2/decode/?neurovault=14120\n",
            "Download succeeded, downloaded to: /content/nilearn_data/neurovault/collection_1039/neurosynth_words_for_image_14120.json\n",
            "Already fetched 81 images\n",
            "Downloading file: https://neurovault.org/media/images/1039/zVMHCMap_sub049.nii.gz\n",
            "Download succeeded, downloaded to: /content/nilearn_data/neurovault/collection_1039/image_14121.nii.gz\n",
            "Downloading file: http://neurosynth.org/api/v2/decode/?neurovault=14121\n",
            "Download succeeded, downloaded to: /content/nilearn_data/neurovault/collection_1039/neurosynth_words_for_image_14121.json\n",
            "Already fetched 82 images\n",
            "Downloading file: https://neurovault.org/media/images/1039/zVMHCMap_sub054.nii.gz\n",
            "Download succeeded, downloaded to: /content/nilearn_data/neurovault/collection_1039/image_14122.nii.gz\n",
            "Downloading file: http://neurosynth.org/api/v2/decode/?neurovault=14122\n",
            "Download succeeded, downloaded to: /content/nilearn_data/neurovault/collection_1039/neurosynth_words_for_image_14122.json\n",
            "Already fetched 83 images\n",
            "Downloading file: https://neurovault.org/media/images/1039/zVMHCMap_sub063.nii.gz\n",
            "Download succeeded, downloaded to: /content/nilearn_data/neurovault/collection_1039/image_14124.nii.gz\n",
            "Downloading file: http://neurosynth.org/api/v2/decode/?neurovault=14124\n",
            "Download succeeded, downloaded to: /content/nilearn_data/neurovault/collection_1039/neurosynth_words_for_image_14124.json\n",
            "Already fetched 84 images\n",
            "On neurovault.org: 38 images matched query in collection 1039\n",
            "Scroll images from collection 1195: getting new batch: http://neurovault.org/api/collections/1195/images/?limit=100&offset=0\n",
            "Scroll images from collection 1195: batch size: 1\n",
            "Downloading file: https://neurovault.org/media/images/1195/MNI152_WaterContent_figureAlignedForPaper_resliceForSTOLTUSanalysis.nii.gz\n",
            "Download succeeded, downloaded to: /content/nilearn_data/neurovault/collection_1195/image_16254.nii.gz\n",
            "Downloading file: http://neurosynth.org/api/v2/decode/?neurovault=16254\n",
            "Download succeeded, downloaded to: /content/nilearn_data/neurovault/collection_1195/neurosynth_words_for_image_16254.json\n",
            "Could not fetch words for image 16254\n",
            "Already fetched 85 images\n",
            "On neurovault.org: 1 image matched query in collection 1195\n",
            "Scroll collections: getting new batch: http://neurovault.org/api/collections/?limit=100&offset=100\n"
          ],
          "name": "stdout"
        },
        {
          "output_type": "stream",
          "text": [
            "Traceback (most recent call last):\n",
            "  File \"/usr/local/lib/python3.6/dist-packages/nilearn/datasets/neurovault.py\", line 1577, in _download_image_terms\n",
            "    assert _check_has_words(image_info['ns_words_absolute_path'])\n",
            "AssertionError\n"
          ],
          "name": "stderr"
        },
        {
          "output_type": "stream",
          "text": [
            "Scroll collections: batch size: 100\n",
            "Scroll images from collection 1196: getting new batch: http://neurovault.org/api/collections/1196/images/?limit=100&offset=0\n",
            "Scroll images from collection 1196: batch size: 1\n",
            "Downloading file: https://neurovault.org/media/images/1196/RACLOPRIDE_TEMPLATE_inMNI_181_217_181.nii.gz\n",
            "Download succeeded, downloaded to: /content/nilearn_data/neurovault/collection_1196/image_16255.nii.gz\n",
            "Downloading file: http://neurosynth.org/api/v2/decode/?neurovault=16255\n",
            "Download succeeded, downloaded to: /content/nilearn_data/neurovault/collection_1196/neurosynth_words_for_image_16255.json\n",
            "Already fetched 86 images\n",
            "On neurovault.org: 1 image matched query in collection 1196\n",
            "Scroll images from collection 786: getting new batch: http://neurovault.org/api/collections/786/images/?limit=100&offset=0\n",
            "Scroll images from collection 786: batch size: 25\n",
            "Downloading file: https://neurovault.org/media/images/786/ISCcorrmapBand0Session1.nii.gz\n",
            "Download succeeded, downloaded to: /content/nilearn_data/neurovault/collection_786/image_11576.nii.gz\n",
            "Downloading file: http://neurosynth.org/api/v2/decode/?neurovault=11576\n",
            "Download succeeded, downloaded to: /content/nilearn_data/neurovault/collection_786/neurosynth_words_for_image_11576.json\n",
            "Already fetched 87 images\n",
            "On neurovault.org: 1 image matched query in collection 786\n",
            "Scroll images from collection 1197: getting new batch: http://neurovault.org/api/collections/1197/images/?limit=100&offset=0\n",
            "Scroll images from collection 1197: batch size: 2\n",
            "Downloading file: https://neurovault.org/media/images/1197/CUMl_BP_MNI.nii.gz\n",
            "Download succeeded, downloaded to: /content/nilearn_data/neurovault/collection_1197/image_16256.nii.gz\n",
            "Downloading file: http://neurosynth.org/api/v2/decode/?neurovault=16256\n",
            "Download succeeded, downloaded to: /content/nilearn_data/neurovault/collection_1197/neurosynth_words_for_image_16256.json\n",
            "Already fetched 88 images\n",
            "Downloading file: https://neurovault.org/media/images/1197/WAY_VT_MNI.nii.gz\n",
            "Download succeeded, downloaded to: /content/nilearn_data/neurovault/collection_1197/image_16257.nii.gz\n",
            "Downloading file: http://neurosynth.org/api/v2/decode/?neurovault=16257\n",
            "Download succeeded, downloaded to: /content/nilearn_data/neurovault/collection_1197/neurosynth_words_for_image_16257.json\n",
            "Already fetched 89 images\n",
            "On neurovault.org: 2 images matched query in collection 1197\n",
            "Scroll images from collection 1058: getting new batch: http://neurovault.org/api/collections/1058/images/?limit=100&offset=0\n",
            "Scroll images from collection 1058: batch size: 3\n",
            "On neurovault.org: no image matched query in collection 1058\n",
            "Scroll images from collection 555: getting new batch: http://neurovault.org/api/collections/555/images/?limit=100&offset=0\n",
            "Scroll images from collection 555: batch size: 20\n",
            "Downloading file: https://neurovault.org/media/images/555/obesity_higher_ALE.nii.gz\n",
            "Download succeeded, downloaded to: /content/nilearn_data/neurovault/collection_555/image_9034.nii.gz\n",
            "Downloading file: http://neurosynth.org/api/v2/decode/?neurovault=9034\n",
            "Download succeeded, downloaded to: /content/nilearn_data/neurovault/collection_555/neurosynth_words_for_image_9034.json\n",
            "Could not fetch words for image 9034\n",
            "Already fetched 90 images\n",
            "Downloading file: https://neurovault.org/media/images/555/substanceaddictions_higher_ALE.nii.gz\n"
          ],
          "name": "stdout"
        },
        {
          "output_type": "stream",
          "text": [
            "Traceback (most recent call last):\n",
            "  File \"/usr/local/lib/python3.6/dist-packages/nilearn/datasets/neurovault.py\", line 1577, in _download_image_terms\n",
            "    assert _check_has_words(image_info['ns_words_absolute_path'])\n",
            "AssertionError\n"
          ],
          "name": "stderr"
        },
        {
          "output_type": "stream",
          "text": [
            "Download succeeded, downloaded to: /content/nilearn_data/neurovault/collection_555/image_9035.nii.gz\n",
            "Downloading file: http://neurosynth.org/api/v2/decode/?neurovault=9035\n",
            "Download succeeded, downloaded to: /content/nilearn_data/neurovault/collection_555/neurosynth_words_for_image_9035.json\n",
            "Could not fetch words for image 9035\n",
            "Already fetched 91 images\n",
            "Downloading file: https://neurovault.org/media/images/555/Nonsubstance_higher_ALE.nii.gz\n"
          ],
          "name": "stdout"
        },
        {
          "output_type": "stream",
          "text": [
            "Traceback (most recent call last):\n",
            "  File \"/usr/local/lib/python3.6/dist-packages/nilearn/datasets/neurovault.py\", line 1577, in _download_image_terms\n",
            "    assert _check_has_words(image_info['ns_words_absolute_path'])\n",
            "AssertionError\n"
          ],
          "name": "stderr"
        },
        {
          "output_type": "stream",
          "text": [
            "Download succeeded, downloaded to: /content/nilearn_data/neurovault/collection_555/image_9036.nii.gz\n",
            "Downloading file: http://neurosynth.org/api/v2/decode/?neurovault=9036\n",
            "Download succeeded, downloaded to: /content/nilearn_data/neurovault/collection_555/neurosynth_words_for_image_9036.json\n",
            "Could not fetch words for image 9036\n",
            "Already fetched 92 images\n",
            "Downloading file: https://neurovault.org/media/images/555/obesity_lower_ALE.nii.gz\n"
          ],
          "name": "stdout"
        },
        {
          "output_type": "stream",
          "text": [
            "Traceback (most recent call last):\n",
            "  File \"/usr/local/lib/python3.6/dist-packages/nilearn/datasets/neurovault.py\", line 1577, in _download_image_terms\n",
            "    assert _check_has_words(image_info['ns_words_absolute_path'])\n",
            "AssertionError\n"
          ],
          "name": "stderr"
        },
        {
          "output_type": "stream",
          "text": [
            "Download succeeded, downloaded to: /content/nilearn_data/neurovault/collection_555/image_9037.nii.gz\n",
            "Downloading file: http://neurosynth.org/api/v2/decode/?neurovault=9037\n",
            "Download succeeded, downloaded to: /content/nilearn_data/neurovault/collection_555/neurosynth_words_for_image_9037.json\n",
            "Could not fetch words for image 9037\n",
            "Already fetched 93 images\n",
            "Downloading file: https://neurovault.org/media/images/555/substanceaddiction_lower_ALE.nii.gz\n"
          ],
          "name": "stdout"
        },
        {
          "output_type": "stream",
          "text": [
            "Traceback (most recent call last):\n",
            "  File \"/usr/local/lib/python3.6/dist-packages/nilearn/datasets/neurovault.py\", line 1577, in _download_image_terms\n",
            "    assert _check_has_words(image_info['ns_words_absolute_path'])\n",
            "AssertionError\n"
          ],
          "name": "stderr"
        },
        {
          "output_type": "stream",
          "text": [
            "Download succeeded, downloaded to: /content/nilearn_data/neurovault/collection_555/image_9038.nii.gz\n",
            "Downloading file: http://neurosynth.org/api/v2/decode/?neurovault=9038\n",
            "Download succeeded, downloaded to: /content/nilearn_data/neurovault/collection_555/neurosynth_words_for_image_9038.json\n",
            "Could not fetch words for image 9038\n",
            "Already fetched 94 images\n",
            "Downloading file: https://neurovault.org/media/images/555/Nonsubstance_lower_ALE.nii.gz\n"
          ],
          "name": "stdout"
        },
        {
          "output_type": "stream",
          "text": [
            "Traceback (most recent call last):\n",
            "  File \"/usr/local/lib/python3.6/dist-packages/nilearn/datasets/neurovault.py\", line 1577, in _download_image_terms\n",
            "    assert _check_has_words(image_info['ns_words_absolute_path'])\n",
            "AssertionError\n"
          ],
          "name": "stderr"
        },
        {
          "output_type": "stream",
          "text": [
            "Download succeeded, downloaded to: /content/nilearn_data/neurovault/collection_555/image_9039.nii.gz\n",
            "Downloading file: http://neurosynth.org/api/v2/decode/?neurovault=9039\n",
            "Download succeeded, downloaded to: /content/nilearn_data/neurovault/collection_555/neurosynth_words_for_image_9039.json\n",
            "Could not fetch words for image 9039\n",
            "Already fetched 95 images\n",
            "Downloading file: https://neurovault.org/media/images/555/obesity_higher_ALE_1.nii.gz\n"
          ],
          "name": "stdout"
        },
        {
          "output_type": "stream",
          "text": [
            "Traceback (most recent call last):\n",
            "  File \"/usr/local/lib/python3.6/dist-packages/nilearn/datasets/neurovault.py\", line 1577, in _download_image_terms\n",
            "    assert _check_has_words(image_info['ns_words_absolute_path'])\n",
            "AssertionError\n"
          ],
          "name": "stderr"
        },
        {
          "output_type": "stream",
          "text": [
            "Download succeeded, downloaded to: /content/nilearn_data/neurovault/collection_555/image_9040.nii.gz\n",
            "Downloading file: http://neurosynth.org/api/v2/decode/?neurovault=9040\n",
            "Download succeeded, downloaded to: /content/nilearn_data/neurovault/collection_555/neurosynth_words_for_image_9040.json\n",
            "Could not fetch words for image 9040\n",
            "Already fetched 96 images\n",
            "Downloading file: https://neurovault.org/media/images/555/obesity_lower_ALE_1.nii.gz\n"
          ],
          "name": "stdout"
        },
        {
          "output_type": "stream",
          "text": [
            "Traceback (most recent call last):\n",
            "  File \"/usr/local/lib/python3.6/dist-packages/nilearn/datasets/neurovault.py\", line 1577, in _download_image_terms\n",
            "    assert _check_has_words(image_info['ns_words_absolute_path'])\n",
            "AssertionError\n"
          ],
          "name": "stderr"
        },
        {
          "output_type": "stream",
          "text": [
            "Download succeeded, downloaded to: /content/nilearn_data/neurovault/collection_555/image_9041.nii.gz\n",
            "Downloading file: http://neurosynth.org/api/v2/decode/?neurovault=9041\n",
            "Download succeeded, downloaded to: /content/nilearn_data/neurovault/collection_555/neurosynth_words_for_image_9041.json\n",
            "Could not fetch words for image 9041\n",
            "Already fetched 97 images\n",
            "Downloading file: https://neurovault.org/media/images/555/substanceaddictions_higher_ALE_1.nii.gz\n"
          ],
          "name": "stdout"
        },
        {
          "output_type": "stream",
          "text": [
            "Traceback (most recent call last):\n",
            "  File \"/usr/local/lib/python3.6/dist-packages/nilearn/datasets/neurovault.py\", line 1577, in _download_image_terms\n",
            "    assert _check_has_words(image_info['ns_words_absolute_path'])\n",
            "AssertionError\n"
          ],
          "name": "stderr"
        },
        {
          "output_type": "stream",
          "text": [
            "Download succeeded, downloaded to: /content/nilearn_data/neurovault/collection_555/image_9042.nii.gz\n",
            "Downloading file: http://neurosynth.org/api/v2/decode/?neurovault=9042\n",
            "Download succeeded, downloaded to: /content/nilearn_data/neurovault/collection_555/neurosynth_words_for_image_9042.json\n",
            "Could not fetch words for image 9042\n",
            "Already fetched 98 images\n",
            "Downloading file: https://neurovault.org/media/images/555/substanceaddiction_lower_ALE_1.nii.gz\n"
          ],
          "name": "stdout"
        },
        {
          "output_type": "stream",
          "text": [
            "Traceback (most recent call last):\n",
            "  File \"/usr/local/lib/python3.6/dist-packages/nilearn/datasets/neurovault.py\", line 1577, in _download_image_terms\n",
            "    assert _check_has_words(image_info['ns_words_absolute_path'])\n",
            "AssertionError\n"
          ],
          "name": "stderr"
        },
        {
          "output_type": "stream",
          "text": [
            "Download succeeded, downloaded to: /content/nilearn_data/neurovault/collection_555/image_9043.nii.gz\n",
            "Downloading file: http://neurosynth.org/api/v2/decode/?neurovault=9043\n",
            "Download succeeded, downloaded to: /content/nilearn_data/neurovault/collection_555/neurosynth_words_for_image_9043.json\n",
            "Could not fetch words for image 9043\n",
            "Already fetched 99 images\n",
            "Downloading file: https://neurovault.org/media/images/555/Nonsubstance_higher_ALE_1.nii.gz\n"
          ],
          "name": "stdout"
        },
        {
          "output_type": "stream",
          "text": [
            "Traceback (most recent call last):\n",
            "  File \"/usr/local/lib/python3.6/dist-packages/nilearn/datasets/neurovault.py\", line 1577, in _download_image_terms\n",
            "    assert _check_has_words(image_info['ns_words_absolute_path'])\n",
            "AssertionError\n"
          ],
          "name": "stderr"
        },
        {
          "output_type": "stream",
          "text": [
            "Download succeeded, downloaded to: /content/nilearn_data/neurovault/collection_555/image_9044.nii.gz\n",
            "Downloading file: http://neurosynth.org/api/v2/decode/?neurovault=9044\n",
            "Download succeeded, downloaded to: /content/nilearn_data/neurovault/collection_555/neurosynth_words_for_image_9044.json\n",
            "Could not fetch words for image 9044\n",
            "Already fetched 100 images\n",
            "Downloading file: https://neurovault.org/media/images/555/obesity_higher_ALE_2.nii.gz\n"
          ],
          "name": "stdout"
        },
        {
          "output_type": "stream",
          "text": [
            "Traceback (most recent call last):\n",
            "  File \"/usr/local/lib/python3.6/dist-packages/nilearn/datasets/neurovault.py\", line 1577, in _download_image_terms\n",
            "    assert _check_has_words(image_info['ns_words_absolute_path'])\n",
            "AssertionError\n"
          ],
          "name": "stderr"
        },
        {
          "output_type": "stream",
          "text": [
            "Download succeeded, downloaded to: /content/nilearn_data/neurovault/collection_555/image_9045.nii.gz\n",
            "Downloading file: http://neurosynth.org/api/v2/decode/?neurovault=9045\n",
            "Download succeeded, downloaded to: /content/nilearn_data/neurovault/collection_555/neurosynth_words_for_image_9045.json\n",
            "Could not fetch words for image 9045\n",
            "Already fetched 101 images\n",
            "Downloading file: https://neurovault.org/media/images/555/obesity_lower_ALE_2.nii.gz\n"
          ],
          "name": "stdout"
        },
        {
          "output_type": "stream",
          "text": [
            "Traceback (most recent call last):\n",
            "  File \"/usr/local/lib/python3.6/dist-packages/nilearn/datasets/neurovault.py\", line 1577, in _download_image_terms\n",
            "    assert _check_has_words(image_info['ns_words_absolute_path'])\n",
            "AssertionError\n"
          ],
          "name": "stderr"
        },
        {
          "output_type": "stream",
          "text": [
            "Download succeeded, downloaded to: /content/nilearn_data/neurovault/collection_555/image_9046.nii.gz\n",
            "Downloading file: http://neurosynth.org/api/v2/decode/?neurovault=9046\n",
            "Download succeeded, downloaded to: /content/nilearn_data/neurovault/collection_555/neurosynth_words_for_image_9046.json\n",
            "Could not fetch words for image 9046\n",
            "Already fetched 102 images\n",
            "Downloading file: https://neurovault.org/media/images/555/substanceaddictions_higher_ALE_2.nii.gz\n"
          ],
          "name": "stdout"
        },
        {
          "output_type": "stream",
          "text": [
            "Traceback (most recent call last):\n",
            "  File \"/usr/local/lib/python3.6/dist-packages/nilearn/datasets/neurovault.py\", line 1577, in _download_image_terms\n",
            "    assert _check_has_words(image_info['ns_words_absolute_path'])\n",
            "AssertionError\n"
          ],
          "name": "stderr"
        },
        {
          "output_type": "stream",
          "text": [
            "Download succeeded, downloaded to: /content/nilearn_data/neurovault/collection_555/image_9047.nii.gz\n",
            "Downloading file: http://neurosynth.org/api/v2/decode/?neurovault=9047\n",
            "Download succeeded, downloaded to: /content/nilearn_data/neurovault/collection_555/neurosynth_words_for_image_9047.json\n",
            "Could not fetch words for image 9047\n",
            "Already fetched 103 images\n",
            "Downloading file: https://neurovault.org/media/images/555/substanceaddiction_lower_ALE_2.nii.gz\n"
          ],
          "name": "stdout"
        },
        {
          "output_type": "stream",
          "text": [
            "Traceback (most recent call last):\n",
            "  File \"/usr/local/lib/python3.6/dist-packages/nilearn/datasets/neurovault.py\", line 1577, in _download_image_terms\n",
            "    assert _check_has_words(image_info['ns_words_absolute_path'])\n",
            "AssertionError\n"
          ],
          "name": "stderr"
        },
        {
          "output_type": "stream",
          "text": [
            "Download succeeded, downloaded to: /content/nilearn_data/neurovault/collection_555/image_9048.nii.gz\n",
            "Downloading file: http://neurosynth.org/api/v2/decode/?neurovault=9048\n",
            "Download succeeded, downloaded to: /content/nilearn_data/neurovault/collection_555/neurosynth_words_for_image_9048.json\n",
            "Could not fetch words for image 9048\n",
            "Already fetched 104 images\n",
            "Downloading file: https://neurovault.org/media/images/555/substanceaddiction_lower_ALE_3.nii.gz\n"
          ],
          "name": "stdout"
        },
        {
          "output_type": "stream",
          "text": [
            "Traceback (most recent call last):\n",
            "  File \"/usr/local/lib/python3.6/dist-packages/nilearn/datasets/neurovault.py\", line 1577, in _download_image_terms\n",
            "    assert _check_has_words(image_info['ns_words_absolute_path'])\n",
            "AssertionError\n"
          ],
          "name": "stderr"
        },
        {
          "output_type": "stream",
          "text": [
            "Download succeeded, downloaded to: /content/nilearn_data/neurovault/collection_555/image_9049.nii.gz\n",
            "Downloading file: http://neurosynth.org/api/v2/decode/?neurovault=9049\n",
            "Download succeeded, downloaded to: /content/nilearn_data/neurovault/collection_555/neurosynth_words_for_image_9049.json\n",
            "Could not fetch words for image 9049\n",
            "Already fetched 105 images\n",
            "Downloading file: https://neurovault.org/media/images/555/substanceaddictions_higher_ALE_3.nii.gz\n"
          ],
          "name": "stdout"
        },
        {
          "output_type": "stream",
          "text": [
            "Traceback (most recent call last):\n",
            "  File \"/usr/local/lib/python3.6/dist-packages/nilearn/datasets/neurovault.py\", line 1577, in _download_image_terms\n",
            "    assert _check_has_words(image_info['ns_words_absolute_path'])\n",
            "AssertionError\n"
          ],
          "name": "stderr"
        },
        {
          "output_type": "stream",
          "text": [
            "Download succeeded, downloaded to: /content/nilearn_data/neurovault/collection_555/image_9050.nii.gz\n",
            "Downloading file: http://neurosynth.org/api/v2/decode/?neurovault=9050\n",
            "Download succeeded, downloaded to: /content/nilearn_data/neurovault/collection_555/neurosynth_words_for_image_9050.json\n",
            "Could not fetch words for image 9050\n",
            "Already fetched 106 images\n",
            "Downloading file: https://neurovault.org/media/images/555/substanceaddiction_lower_ALE_4.nii.gz\n"
          ],
          "name": "stdout"
        },
        {
          "output_type": "stream",
          "text": [
            "Traceback (most recent call last):\n",
            "  File \"/usr/local/lib/python3.6/dist-packages/nilearn/datasets/neurovault.py\", line 1577, in _download_image_terms\n",
            "    assert _check_has_words(image_info['ns_words_absolute_path'])\n",
            "AssertionError\n"
          ],
          "name": "stderr"
        },
        {
          "output_type": "stream",
          "text": [
            "Download succeeded, downloaded to: /content/nilearn_data/neurovault/collection_555/image_9051.nii.gz\n",
            "Downloading file: http://neurosynth.org/api/v2/decode/?neurovault=9051\n",
            "Download succeeded, downloaded to: /content/nilearn_data/neurovault/collection_555/neurosynth_words_for_image_9051.json\n",
            "Could not fetch words for image 9051\n",
            "Already fetched 107 images\n",
            "Downloading file: https://neurovault.org/media/images/555/substanceaddictions_higher_ALE_4.nii.gz\n"
          ],
          "name": "stdout"
        },
        {
          "output_type": "stream",
          "text": [
            "Traceback (most recent call last):\n",
            "  File \"/usr/local/lib/python3.6/dist-packages/nilearn/datasets/neurovault.py\", line 1577, in _download_image_terms\n",
            "    assert _check_has_words(image_info['ns_words_absolute_path'])\n",
            "AssertionError\n"
          ],
          "name": "stderr"
        },
        {
          "output_type": "stream",
          "text": [
            "Download succeeded, downloaded to: /content/nilearn_data/neurovault/collection_555/image_9052.nii.gz\n",
            "Downloading file: http://neurosynth.org/api/v2/decode/?neurovault=9052\n",
            "Download succeeded, downloaded to: /content/nilearn_data/neurovault/collection_555/neurosynth_words_for_image_9052.json\n",
            "Could not fetch words for image 9052\n",
            "Already fetched 108 images\n",
            "Downloading file: https://neurovault.org/media/images/555/substanceaddiction_lower_ALE_5.nii.gz\n"
          ],
          "name": "stdout"
        },
        {
          "output_type": "stream",
          "text": [
            "Traceback (most recent call last):\n",
            "  File \"/usr/local/lib/python3.6/dist-packages/nilearn/datasets/neurovault.py\", line 1577, in _download_image_terms\n",
            "    assert _check_has_words(image_info['ns_words_absolute_path'])\n",
            "AssertionError\n"
          ],
          "name": "stderr"
        },
        {
          "output_type": "stream",
          "text": [
            "Download succeeded, downloaded to: /content/nilearn_data/neurovault/collection_555/image_9053.nii.gz\n",
            "Downloading file: http://neurosynth.org/api/v2/decode/?neurovault=9053\n",
            "Download succeeded, downloaded to: /content/nilearn_data/neurovault/collection_555/neurosynth_words_for_image_9053.json\n",
            "Could not fetch words for image 9053\n",
            "Already fetched 109 images\n",
            "On neurovault.org: 20 images matched query in collection 555\n",
            "Scroll images from collection 325: getting new batch: http://neurovault.org/api/collections/325/images/?limit=100&offset=0\n"
          ],
          "name": "stdout"
        },
        {
          "output_type": "stream",
          "text": [
            "Traceback (most recent call last):\n",
            "  File \"/usr/local/lib/python3.6/dist-packages/nilearn/datasets/neurovault.py\", line 1577, in _download_image_terms\n",
            "    assert _check_has_words(image_info['ns_words_absolute_path'])\n",
            "AssertionError\n"
          ],
          "name": "stderr"
        },
        {
          "output_type": "stream",
          "text": [
            "Scroll images from collection 325: batch size: 8\n",
            "Downloading file: https://neurovault.org/media/images/325/UnhealthyVsHealthy_3.nii.gz\n",
            "Download succeeded, downloaded to: /content/nilearn_data/neurovault/collection_325/image_1923.nii.gz\n",
            "Downloading file: http://neurosynth.org/api/v2/decode/?neurovault=1923\n",
            "Download succeeded, downloaded to: /content/nilearn_data/neurovault/collection_325/neurosynth_words_for_image_1923.json\n",
            "Already fetched 110 images\n",
            "Downloading file: https://neurovault.org/media/images/325/DisagreementVsConsensus_3.nii.gz\n",
            "Download succeeded, downloaded to: /content/nilearn_data/neurovault/collection_325/image_1924.nii.gz\n",
            "Downloading file: http://neurosynth.org/api/v2/decode/?neurovault=1924\n",
            "Download succeeded, downloaded to: /content/nilearn_data/neurovault/collection_325/neurosynth_words_for_image_1924.json\n",
            "Already fetched 111 images\n",
            "Downloading file: https://neurovault.org/media/images/325/ConsensusVsDisagreement_5.nii.gz\n",
            "Download succeeded, downloaded to: /content/nilearn_data/neurovault/collection_325/image_1925.nii.gz\n",
            "Downloading file: http://neurosynth.org/api/v2/decode/?neurovault=1925\n",
            "Download succeeded, downloaded to: /content/nilearn_data/neurovault/collection_325/neurosynth_words_for_image_1925.json\n",
            "Already fetched 112 images\n",
            "Downloading file: https://neurovault.org/media/images/325/PeersLowerDecreaseVsPeersAgreeNoChange.nii.gz\n",
            "Download succeeded, downloaded to: /content/nilearn_data/neurovault/collection_325/image_1926.nii.gz\n",
            "Downloading file: http://neurosynth.org/api/v2/decode/?neurovault=1926\n",
            "Download succeeded, downloaded to: /content/nilearn_data/neurovault/collection_325/neurosynth_words_for_image_1926.json\n",
            "Already fetched 113 images\n",
            "Downloading file: https://neurovault.org/media/images/325/PeersHigherVsPeersLower.nii.gz\n",
            "Download succeeded, downloaded to: /content/nilearn_data/neurovault/collection_325/image_1927.nii.gz\n",
            "Downloading file: http://neurosynth.org/api/v2/decode/?neurovault=1927\n",
            "Download succeeded, downloaded to: /content/nilearn_data/neurovault/collection_325/neurosynth_words_for_image_1927.json\n",
            "Already fetched 114 images\n",
            "Downloading file: https://neurovault.org/media/images/325/PeersHigherIncreaseVsPeersHigherNoChange.nii.gz\n",
            "Download succeeded, downloaded to: /content/nilearn_data/neurovault/collection_325/image_1928.nii.gz\n",
            "Downloading file: http://neurosynth.org/api/v2/decode/?neurovault=1928\n",
            "Download succeeded, downloaded to: /content/nilearn_data/neurovault/collection_325/neurosynth_words_for_image_1928.json\n",
            "Already fetched 115 images\n",
            "Downloading file: https://neurovault.org/media/images/325/PeersHigherIncreaseVsPeersAgreeNoChange.nii.gz\n",
            "Download succeeded, downloaded to: /content/nilearn_data/neurovault/collection_325/image_1929.nii.gz\n",
            "Downloading file: http://neurosynth.org/api/v2/decode/?neurovault=1929\n",
            "Download succeeded, downloaded to: /content/nilearn_data/neurovault/collection_325/neurosynth_words_for_image_1929.json\n",
            "Already fetched 116 images\n",
            "Downloading file: https://neurovault.org/media/images/325/PeersLowerNoChangeVsPeersLowerDecrease.nii.gz\n",
            "Download succeeded, downloaded to: /content/nilearn_data/neurovault/collection_325/image_1930.nii.gz\n",
            "Downloading file: http://neurosynth.org/api/v2/decode/?neurovault=1930\n",
            "Download succeeded, downloaded to: /content/nilearn_data/neurovault/collection_325/neurosynth_words_for_image_1930.json\n",
            "Already fetched 117 images\n",
            "On neurovault.org: 8 images matched query in collection 325\n",
            "Scroll images from collection 1059: getting new batch: http://neurovault.org/api/collections/1059/images/?limit=100&offset=0\n",
            "Scroll images from collection 1059: batch size: 1\n",
            "On neurovault.org: no image matched query in collection 1059\n",
            "Scroll images from collection 190: getting new batch: http://neurovault.org/api/collections/190/images/?limit=100&offset=0\n",
            "Scroll images from collection 190: batch size: 1\n",
            "On neurovault.org: no image matched query in collection 190\n",
            "Scroll images from collection 826: getting new batch: http://neurovault.org/api/collections/826/images/?limit=100&offset=0\n",
            "Scroll images from collection 826: batch size: 7\n",
            "On neurovault.org: no image matched query in collection 826\n",
            "Scroll images from collection 1322: getting new batch: http://neurovault.org/api/collections/1322/images/?limit=100&offset=0\n",
            "Scroll images from collection 1322: batch size: 4\n",
            "On neurovault.org: no image matched query in collection 1322\n",
            "Scroll collections: getting new batch: http://neurovault.org/api/collections/?limit=100&offset=200\n",
            "Scroll collections: batch size: 100\n",
            "Scroll images from collection 7: getting new batch: http://neurovault.org/api/collections/7/images/?limit=100&offset=0\n",
            "Scroll images from collection 7: batch size: 1\n",
            "On neurovault.org: no image matched query in collection 7\n",
            "Scroll images from collection 59: getting new batch: http://neurovault.org/api/collections/59/images/?limit=100&offset=0\n",
            "Scroll images from collection 59: batch size: 3\n",
            "On neurovault.org: no image matched query in collection 59\n",
            "Scroll images from collection 179: getting new batch: http://neurovault.org/api/collections/179/images/?limit=100&offset=0\n",
            "Scroll images from collection 179: batch size: 4\n",
            "On neurovault.org: no image matched query in collection 179\n",
            "Scroll images from collection 419: getting new batch: http://neurovault.org/api/collections/419/images/?limit=100&offset=0\n",
            "Scroll images from collection 419: batch size: 4\n",
            "Downloading file: https://neurovault.org/media/images/419/RPV.nii.gz\n",
            "Download succeeded, downloaded to: /content/nilearn_data/neurovault/collection_419/image_2740.nii.gz\n",
            "Downloading file: http://neurosynth.org/api/v2/decode/?neurovault=2740\n",
            "Download succeeded, downloaded to: /content/nilearn_data/neurovault/collection_419/neurosynth_words_for_image_2740.json\n",
            "Already fetched 118 images\n",
            "Downloading file: https://neurovault.org/media/images/419/ResMS.nii.gz\n",
            "Download succeeded, downloaded to: /content/nilearn_data/neurovault/collection_419/image_2741.nii.gz\n",
            "Downloading file: http://neurosynth.org/api/v2/decode/?neurovault=2741\n",
            "Download succeeded, downloaded to: /content/nilearn_data/neurovault/collection_419/neurosynth_words_for_image_2741.json\n",
            "Already fetched 119 images\n",
            "Downloading file: https://neurovault.org/media/images/419/spmT_0001.nii.gz\n"
          ],
          "name": "stdout"
        },
        {
          "output_type": "stream",
          "text": [
            "Download succeeded, downloaded to: /content/nilearn_data/neurovault/collection_419/image_2743.nii.gz\n",
            "Downloading file: http://neurosynth.org/api/v2/decode/?neurovault=2743\n",
            "Download succeeded, downloaded to: /content/nilearn_data/neurovault/collection_419/neurosynth_words_for_image_2743.json\n",
            "Already fetched 120 images\n",
            "Downloading file: https://neurovault.org/media/images/419/con_0001.nii.gz\n",
            "Download succeeded, downloaded to: /content/nilearn_data/neurovault/collection_419/image_2744.nii.gz\n",
            "Downloading file: http://neurosynth.org/api/v2/decode/?neurovault=2744\n",
            "Download succeeded, downloaded to: /content/nilearn_data/neurovault/collection_419/neurosynth_words_for_image_2744.json\n",
            "Already fetched 121 images\n",
            "On neurovault.org: 4 images matched query in collection 419\n",
            "Scroll images from collection 550: getting new batch: http://neurovault.org/api/collections/550/images/?limit=100&offset=0\n",
            "Scroll images from collection 550: batch size: 52\n",
            "On neurovault.org: no image matched query in collection 550\n",
            "Scroll images from collection 1060: getting new batch: http://neurovault.org/api/collections/1060/images/?limit=100&offset=0\n",
            "Scroll images from collection 1060: batch size: 1\n",
            "On neurovault.org: no image matched query in collection 1060\n",
            "Scroll images from collection 1061: getting new batch: http://neurovault.org/api/collections/1061/images/?limit=100&offset=0\n",
            "Scroll images from collection 1061: batch size: 4\n",
            "Downloading file: https://neurovault.org/media/images/1061/MeanHrTOF.nii.gz\n",
            "Download succeeded, downloaded to: /content/nilearn_data/neurovault/collection_1061/image_14258.nii.gz\n",
            "Downloading file: http://neurosynth.org/api/v2/decode/?neurovault=14258\n",
            "Download succeeded, downloaded to: /content/nilearn_data/neurovault/collection_1061/neurosynth_words_for_image_14258.json\n",
            "Already fetched 122 images\n",
            "Downloading file: https://neurovault.org/media/images/1061/VesselDensityMR.nii.gz\n",
            "Download succeeded, downloaded to: /content/nilearn_data/neurovault/collection_1061/image_14261.nii.gz\n",
            "Downloading file: http://neurosynth.org/api/v2/decode/?neurovault=14261\n",
            "Download succeeded, downloaded to: /content/nilearn_data/neurovault/collection_1061/neurosynth_words_for_image_14261.json\n",
            "Already fetched 123 images\n",
            "On neurovault.org: 2 images matched query in collection 1061\n",
            "Scroll images from collection 1869: getting new batch: http://neurovault.org/api/collections/1869/images/?limit=100&offset=0\n",
            "Scroll images from collection 1869: batch size: 2\n",
            "Downloading file: https://neurovault.org/media/images/1869/0001_T_Con.nii.gz\n",
            "Download succeeded, downloaded to: /content/nilearn_data/neurovault/collection_1869/image_28937.nii.gz\n",
            "Downloading file: http://neurosynth.org/api/v2/decode/?neurovault=28937\n",
            "Download succeeded, downloaded to: /content/nilearn_data/neurovault/collection_1869/neurosynth_words_for_image_28937.json\n",
            "Already fetched 124 images\n",
            "Downloading file: https://neurovault.org/media/images/1869/0001_T_Con_1.nii.gz\n",
            "Download succeeded, downloaded to: /content/nilearn_data/neurovault/collection_1869/image_28938.nii.gz\n",
            "Downloading file: http://neurosynth.org/api/v2/decode/?neurovault=28938\n",
            "Download succeeded, downloaded to: /content/nilearn_data/neurovault/collection_1869/neurosynth_words_for_image_28938.json\n",
            "Already fetched 125 images\n",
            "On neurovault.org: 2 images matched query in collection 1869\n",
            "Scroll images from collection 1939: getting new batch: http://neurovault.org/api/collections/1939/images/?limit=100&offset=0\n",
            "Scroll images from collection 1939: batch size: 13\n",
            "On neurovault.org: no image matched query in collection 1939\n",
            "Scroll images from collection 2195: getting new batch: http://neurovault.org/api/collections/2195/images/?limit=100&offset=0\n",
            "Scroll images from collection 2195: batch size: 4\n",
            "Downloading file: https://neurovault.org/media/images/2195/spmT_0001.nii.gz\n",
            "Download succeeded, downloaded to: /content/nilearn_data/neurovault/collection_2195/image_42406.nii.gz\n",
            "Downloading file: http://neurosynth.org/api/v2/decode/?neurovault=42406\n",
            "Download succeeded, downloaded to: /content/nilearn_data/neurovault/collection_2195/neurosynth_words_for_image_42406.json\n",
            "Already fetched 126 images\n",
            "Downloading file: https://neurovault.org/media/images/2195/spmT_0001_1.nii.gz\n",
            "Download succeeded, downloaded to: /content/nilearn_data/neurovault/collection_2195/image_42407.nii.gz\n",
            "Downloading file: http://neurosynth.org/api/v2/decode/?neurovault=42407\n",
            "Download succeeded, downloaded to: /content/nilearn_data/neurovault/collection_2195/neurosynth_words_for_image_42407.json\n",
            "Already fetched 127 images\n",
            "Downloading file: https://neurovault.org/media/images/2195/spmT_0002.nii.gz\n",
            "Download succeeded, downloaded to: /content/nilearn_data/neurovault/collection_2195/image_42831.nii.gz\n",
            "Downloading file: http://neurosynth.org/api/v2/decode/?neurovault=42831\n",
            "Download succeeded, downloaded to: /content/nilearn_data/neurovault/collection_2195/neurosynth_words_for_image_42831.json\n",
            "Already fetched 128 images\n",
            "Downloading file: https://neurovault.org/media/images/2195/spmT_0002_1.nii.gz\n",
            "Download succeeded, downloaded to: /content/nilearn_data/neurovault/collection_2195/image_42832.nii.gz\n",
            "Downloading file: http://neurosynth.org/api/v2/decode/?neurovault=42832\n",
            "Download succeeded, downloaded to: /content/nilearn_data/neurovault/collection_2195/neurosynth_words_for_image_42832.json\n",
            "Already fetched 129 images\n",
            "On neurovault.org: 4 images matched query in collection 2195\n",
            "Scroll images from collection 1062: getting new batch: http://neurovault.org/api/collections/1062/images/?limit=100&offset=0\n",
            "Scroll images from collection 1062: batch size: 6\n",
            "On neurovault.org: no image matched query in collection 1062\n",
            "Scroll images from collection 1324: getting new batch: http://neurovault.org/api/collections/1324/images/?limit=100&offset=0\n",
            "Scroll images from collection 1324: batch size: 30\n",
            "On neurovault.org: no image matched query in collection 1324\n",
            "Scroll images from collection 1035: getting new batch: http://neurovault.org/api/collections/1035/images/?limit=100&offset=0\n",
            "Scroll images from collection 1035: batch size: 2\n",
            "Downloading file: https://neurovault.org/media/images/1035/spmT_0005.nii.gz\n",
            "Download succeeded, downloaded to: /content/nilearn_data/neurovault/collection_1035/image_14045.nii.gz\n",
            "Downloading file: http://neurosynth.org/api/v2/decode/?neurovault=14045\n"
          ],
          "name": "stdout"
        },
        {
          "output_type": "stream",
          "text": [
            "Download succeeded, downloaded to: /content/nilearn_data/neurovault/collection_1035/neurosynth_words_for_image_14045.json\n",
            "Already fetched 130 images\n",
            "Downloading file: https://neurovault.org/media/images/1035/spmT_0005_1.nii.gz\n",
            "Download succeeded, downloaded to: /content/nilearn_data/neurovault/collection_1035/image_14046.nii.gz\n",
            "Downloading file: http://neurosynth.org/api/v2/decode/?neurovault=14046\n",
            "Download succeeded, downloaded to: /content/nilearn_data/neurovault/collection_1035/neurosynth_words_for_image_14046.json\n",
            "Already fetched 131 images\n",
            "On neurovault.org: 2 images matched query in collection 1035\n",
            "Scroll images from collection 1276: getting new batch: http://neurovault.org/api/collections/1276/images/?limit=100&offset=0\n",
            "Scroll images from collection 1276: batch size: 4\n",
            "Downloading file: https://neurovault.org/media/images/1276/S1_1_CO2_CTRL_fPCA_zstat.nii.gz\n",
            "Download succeeded, downloaded to: /content/nilearn_data/neurovault/collection_1276/image_18507.nii.gz\n",
            "Downloading file: http://neurosynth.org/api/v2/decode/?neurovault=18507\n",
            "Download succeeded, downloaded to: /content/nilearn_data/neurovault/collection_1276/neurosynth_words_for_image_18507.json\n",
            "Already fetched 132 images\n",
            "Downloading file: https://neurovault.org/media/images/1276/S1_2_CO2_fPCA_CTRL_zstat.nii.gz\n",
            "Download succeeded, downloaded to: /content/nilearn_data/neurovault/collection_1276/image_18508.nii.gz\n",
            "Downloading file: http://neurosynth.org/api/v2/decode/?neurovault=18508\n",
            "Download succeeded, downloaded to: /content/nilearn_data/neurovault/collection_1276/neurosynth_words_for_image_18508.json\n",
            "Already fetched 133 images\n",
            "Downloading file: https://neurovault.org/media/images/1276/S3_2_ASL_CTRL_fPCA_randCBFref_inverted_tfce_corrp_tstat.nii.gz\n",
            "Download succeeded, downloaded to: /content/nilearn_data/neurovault/collection_1276/image_18509.nii.gz\n",
            "Downloading file: http://neurosynth.org/api/v2/decode/?neurovault=18509\n",
            "Download succeeded, downloaded to: /content/nilearn_data/neurovault/collection_1276/neurosynth_words_for_image_18509.json\n",
            "Already fetched 134 images\n",
            "On neurovault.org: 3 images matched query in collection 1276\n",
            "Scroll images from collection 830: getting new batch: http://neurovault.org/api/collections/830/images/?limit=100&offset=0\n",
            "Scroll images from collection 830: batch size: 9\n",
            "Downloading file: https://neurovault.org/media/images/830/f4a_rs_t.nii.gz\n",
            "Download succeeded, downloaded to: /content/nilearn_data/neurovault/collection_830/image_12075.nii.gz\n",
            "Downloading file: http://neurosynth.org/api/v2/decode/?neurovault=12075\n",
            "Download succeeded, downloaded to: /content/nilearn_data/neurovault/collection_830/neurosynth_words_for_image_12075.json\n",
            "Already fetched 135 images\n",
            "On neurovault.org: 1 image matched query in collection 830\n",
            "Scroll collections: getting new batch: http://neurovault.org/api/collections/?limit=100&offset=300\n",
            "Scroll collections: batch size: 100\n",
            "Scroll images from collection 839: getting new batch: http://neurovault.org/api/collections/839/images/?limit=100&offset=0\n",
            "Scroll images from collection 839: batch size: 1\n",
            "On neurovault.org: no image matched query in collection 839\n",
            "Scroll images from collection 518: getting new batch: http://neurovault.org/api/collections/518/images/?limit=100&offset=0\n",
            "Scroll images from collection 518: batch size: 2\n",
            "Downloading file: https://neurovault.org/media/images/518/targ_1b_vs_0b.nii.gz\n",
            "Download succeeded, downloaded to: /content/nilearn_data/neurovault/collection_518/image_8625.nii.gz\n",
            "Downloading file: http://neurosynth.org/api/v2/decode/?neurovault=8625\n",
            "Download succeeded, downloaded to: /content/nilearn_data/neurovault/collection_518/neurosynth_words_for_image_8625.json\n",
            "Already fetched 136 images\n",
            "Downloading file: https://neurovault.org/media/images/518/box_0b_vs_1b_unmasked.nii.gz\n",
            "Download succeeded, downloaded to: /content/nilearn_data/neurovault/collection_518/image_8626.nii.gz\n",
            "Downloading file: http://neurosynth.org/api/v2/decode/?neurovault=8626\n",
            "Download succeeded, downloaded to: /content/nilearn_data/neurovault/collection_518/neurosynth_words_for_image_8626.json\n",
            "Already fetched 137 images\n",
            "On neurovault.org: 2 images matched query in collection 518\n",
            "Scroll images from collection 263: getting new batch: http://neurovault.org/api/collections/263/images/?limit=100&offset=0\n",
            "Scroll images from collection 263: batch size: 6\n",
            "On neurovault.org: no image matched query in collection 263\n",
            "Scroll images from collection 1325: getting new batch: http://neurovault.org/api/collections/1325/images/?limit=100&offset=0\n",
            "Scroll images from collection 1325: batch size: 9\n",
            "Downloading file: https://neurovault.org/media/images/1325/self-face_ALE.nii.gz\n",
            "Download succeeded, downloaded to: /content/nilearn_data/neurovault/collection_1325/image_18893.nii.gz\n",
            "Downloading file: http://neurosynth.org/api/v2/decode/?neurovault=18893\n",
            "Download succeeded, downloaded to: /content/nilearn_data/neurovault/collection_1325/neurosynth_words_for_image_18893.json\n",
            "Could not fetch words for image 18893\n",
            "Already fetched 138 images\n",
            "Downloading file: https://neurovault.org/media/images/1325/self-ref_ALE.nii.gz\n"
          ],
          "name": "stdout"
        },
        {
          "output_type": "stream",
          "text": [
            "Traceback (most recent call last):\n",
            "  File \"/usr/local/lib/python3.6/dist-packages/nilearn/datasets/neurovault.py\", line 1577, in _download_image_terms\n",
            "    assert _check_has_words(image_info['ns_words_absolute_path'])\n",
            "AssertionError\n"
          ],
          "name": "stderr"
        },
        {
          "output_type": "stream",
          "text": [
            "Download succeeded, downloaded to: /content/nilearn_data/neurovault/collection_1325/image_18894.nii.gz\n",
            "Downloading file: http://neurosynth.org/api/v2/decode/?neurovault=18894\n",
            "Download succeeded, downloaded to: /content/nilearn_data/neurovault/collection_1325/neurosynth_words_for_image_18894.json\n",
            "Could not fetch words for image 18894\n",
            "Already fetched 139 images\n",
            "Downloading file: https://neurovault.org/media/images/1325/self-face_P.nii.gz\n"
          ],
          "name": "stdout"
        },
        {
          "output_type": "stream",
          "text": [
            "Traceback (most recent call last):\n",
            "  File \"/usr/local/lib/python3.6/dist-packages/nilearn/datasets/neurovault.py\", line 1577, in _download_image_terms\n",
            "    assert _check_has_words(image_info['ns_words_absolute_path'])\n",
            "AssertionError\n"
          ],
          "name": "stderr"
        },
        {
          "output_type": "stream",
          "text": [
            "Download succeeded, downloaded to: /content/nilearn_data/neurovault/collection_1325/image_18895.nii.gz\n",
            "Downloading file: http://neurosynth.org/api/v2/decode/?neurovault=18895\n",
            "Download succeeded, downloaded to: /content/nilearn_data/neurovault/collection_1325/neurosynth_words_for_image_18895.json\n",
            "Could not fetch words for image 18895\n",
            "Already fetched 140 images\n",
            "Downloading file: https://neurovault.org/media/images/1325/self-ref_P.nii.gz\n"
          ],
          "name": "stdout"
        },
        {
          "output_type": "stream",
          "text": [
            "Traceback (most recent call last):\n",
            "  File \"/usr/local/lib/python3.6/dist-packages/nilearn/datasets/neurovault.py\", line 1577, in _download_image_terms\n",
            "    assert _check_has_words(image_info['ns_words_absolute_path'])\n",
            "AssertionError\n"
          ],
          "name": "stderr"
        },
        {
          "output_type": "stream",
          "text": [
            "Download succeeded, downloaded to: /content/nilearn_data/neurovault/collection_1325/image_18898.nii.gz\n",
            "Downloading file: http://neurosynth.org/api/v2/decode/?neurovault=18898\n",
            "Download succeeded, downloaded to: /content/nilearn_data/neurovault/collection_1325/neurosynth_words_for_image_18898.json\n",
            "Could not fetch words for image 18898\n",
            "Already fetched 141 images\n",
            "Downloading file: https://neurovault.org/media/images/1325/contrast-self-face-self-ref_P_10k.nii.gz\n"
          ],
          "name": "stdout"
        },
        {
          "output_type": "stream",
          "text": [
            "Traceback (most recent call last):\n",
            "  File \"/usr/local/lib/python3.6/dist-packages/nilearn/datasets/neurovault.py\", line 1577, in _download_image_terms\n",
            "    assert _check_has_words(image_info['ns_words_absolute_path'])\n",
            "AssertionError\n"
          ],
          "name": "stderr"
        },
        {
          "output_type": "stream",
          "text": [
            "Download succeeded, downloaded to: /content/nilearn_data/neurovault/collection_1325/image_18900.nii.gz\n",
            "Downloading file: http://neurosynth.org/api/v2/decode/?neurovault=18900\n",
            "Download succeeded, downloaded to: /content/nilearn_data/neurovault/collection_1325/neurosynth_words_for_image_18900.json\n",
            "Already fetched 142 images\n",
            "On neurovault.org: 5 images matched query in collection 1325\n",
            "Scroll images from collection 1683: getting new batch: http://neurovault.org/api/collections/1683/images/?limit=100&offset=0\n",
            "Scroll images from collection 1683: batch size: 100\n",
            "Downloading file: https://neurovault.org/media/images/1683/Overlap.nii.gz\n",
            "Download succeeded, downloaded to: /content/nilearn_data/neurovault/collection_1683/image_24918.nii.gz\n",
            "Downloading file: http://neurosynth.org/api/v2/decode/?neurovault=24918\n",
            "Download succeeded, downloaded to: /content/nilearn_data/neurovault/collection_1683/neurosynth_words_for_image_24918.json\n",
            "Already fetched 143 images\n",
            "Downloading file: https://neurovault.org/media/images/1683/126_langsyntaxshapes_07.nii.gz\n",
            "Download succeeded, downloaded to: /content/nilearn_data/neurovault/collection_1683/image_25483.nii.gz\n",
            "Downloading file: http://neurosynth.org/api/v2/decode/?neurovault=25483\n",
            "Download succeeded, downloaded to: /content/nilearn_data/neurovault/collection_1683/neurosynth_words_for_image_25483.json\n",
            "Already fetched 144 images\n",
            "Downloading file: https://neurovault.org/media/images/1683/056_KAN_langstroop_04.nii.gz\n",
            "Download succeeded, downloaded to: /content/nilearn_data/neurovault/collection_1683/image_25484.nii.gz\n",
            "Downloading file: http://neurosynth.org/api/v2/decode/?neurovault=25484\n",
            "Download succeeded, downloaded to: /content/nilearn_data/neurovault/collection_1683/neurosynth_words_for_image_25484.json\n",
            "Already fetched 145 images\n",
            "Downloading file: https://neurovault.org/media/images/1683/066_KAN_langstroopBL_10.nii.gz\n",
            "Download succeeded, downloaded to: /content/nilearn_data/neurovault/collection_1683/image_25485.nii.gz\n",
            "Downloading file: http://neurosynth.org/api/v2/decode/?neurovault=25485\n",
            "Download succeeded, downloaded to: /content/nilearn_data/neurovault/collection_1683/neurosynth_words_for_image_25485.json\n",
            "Already fetched 146 images\n",
            "Downloading file: https://neurovault.org/media/images/1683/080_langmustask_03.nii.gz\n",
            "Download succeeded, downloaded to: /content/nilearn_data/neurovault/collection_1683/image_25486.nii.gz\n",
            "Downloading file: http://neurosynth.org/api/v2/decode/?neurovault=25486\n",
            "Download succeeded, downloaded to: /content/nilearn_data/neurovault/collection_1683/neurosynth_words_for_image_25486.json\n",
            "Already fetched 147 images\n",
            "Downloading file: https://neurovault.org/media/images/1683/026_SWJNaudio_11.nii.gz\n",
            "Download succeeded, downloaded to: /content/nilearn_data/neurovault/collection_1683/image_25487.nii.gz\n",
            "Downloading file: http://neurosynth.org/api/v2/decode/?neurovault=25487\n",
            "Download succeeded, downloaded to: /content/nilearn_data/neurovault/collection_1683/neurosynth_words_for_image_25487.json\n",
            "Already fetched 148 images\n",
            "Downloading file: https://neurovault.org/media/images/1683/023_SWJNaudio_07.nii.gz\n",
            "Download succeeded, downloaded to: /content/nilearn_data/neurovault/collection_1683/image_25488.nii.gz\n",
            "Downloading file: http://neurosynth.org/api/v2/decode/?neurovault=25488\n",
            "Download succeeded, downloaded to: /content/nilearn_data/neurovault/collection_1683/neurosynth_words_for_image_25488.json\n",
            "Already fetched 149 images\n",
            "Downloading file: https://neurovault.org/media/images/1683/077_langmustask_02.nii.gz\n",
            "Download succeeded, downloaded to: /content/nilearn_data/neurovault/collection_1683/image_25489.nii.gz\n",
            "Downloading file: http://neurosynth.org/api/v2/decode/?neurovault=25489\n",
            "Download succeeded, downloaded to: /content/nilearn_data/neurovault/collection_1683/neurosynth_words_for_image_25489.json\n",
            "Already fetched 150 images\n",
            "Downloading file: https://neurovault.org/media/images/1683/050_KAN_syntax_05.nii.gz\n",
            "Download succeeded, downloaded to: /content/nilearn_data/neurovault/collection_1683/image_25490.nii.gz\n",
            "Downloading file: http://neurosynth.org/api/v2/decode/?neurovault=25490\n",
            "Download succeeded, downloaded to: /content/nilearn_data/neurovault/collection_1683/neurosynth_words_for_image_25490.json\n",
            "Already fetched 151 images\n",
            "Downloading file: https://neurovault.org/media/images/1683/041_KAN_action_02.nii.gz\n",
            "Download succeeded, downloaded to: /content/nilearn_data/neurovault/collection_1683/image_25491.nii.gz\n",
            "Downloading file: http://neurosynth.org/api/v2/decode/?neurovault=25491\n",
            "Download succeeded, downloaded to: /content/nilearn_data/neurovault/collection_1683/neurosynth_words_for_image_25491.json\n",
            "Already fetched 152 images\n",
            "Downloading file: https://neurovault.org/media/images/1683/103_KAN_lingviol_01.nii.gz\n",
            "Download succeeded, downloaded to: /content/nilearn_data/neurovault/collection_1683/image_25492.nii.gz\n",
            "Downloading file: http://neurosynth.org/api/v2/decode/?neurovault=25492\n",
            "Download succeeded, downloaded to: /content/nilearn_data/neurovault/collection_1683/neurosynth_words_for_image_25492.json\n",
            "Already fetched 153 images\n",
            "Downloading file: https://neurovault.org/media/images/1683/122_langsyntaxshapes_05.nii.gz\n",
            "Download succeeded, downloaded to: /content/nilearn_data/neurovault/collection_1683/image_25493.nii.gz\n",
            "Downloading file: http://neurosynth.org/api/v2/decode/?neurovault=25493\n",
            "Download succeeded, downloaded to: /content/nilearn_data/neurovault/collection_1683/neurosynth_words_for_image_25493.json\n",
            "Already fetched 154 images\n",
            "Downloading file: https://neurovault.org/media/images/1683/155_KAN_prod_05.nii.gz\n",
            "Download succeeded, downloaded to: /content/nilearn_data/neurovault/collection_1683/image_25494.nii.gz\n",
            "Downloading file: http://neurosynth.org/api/v2/decode/?neurovault=25494\n",
            "Download succeeded, downloaded to: /content/nilearn_data/neurovault/collection_1683/neurosynth_words_for_image_25494.json\n",
            "Already fetched 155 images\n",
            "Downloading file: https://neurovault.org/media/images/1683/036_domspec_05.nii.gz\n",
            "Download succeeded, downloaded to: /content/nilearn_data/neurovault/collection_1683/image_25495.nii.gz\n",
            "Downloading file: http://neurosynth.org/api/v2/decode/?neurovault=25495\n"
          ],
          "name": "stdout"
        },
        {
          "output_type": "stream",
          "text": [
            "Download succeeded, downloaded to: /content/nilearn_data/neurovault/collection_1683/neurosynth_words_for_image_25495.json\n",
            "Already fetched 156 images\n",
            "Downloading file: https://neurovault.org/media/images/1683/110_KAN_lingviol_07.nii.gz\n",
            "Download succeeded, downloaded to: /content/nilearn_data/neurovault/collection_1683/image_25496.nii.gz\n",
            "Downloading file: http://neurosynth.org/api/v2/decode/?neurovault=25496\n",
            "Download succeeded, downloaded to: /content/nilearn_data/neurovault/collection_1683/neurosynth_words_for_image_25496.json\n",
            "Already fetched 157 images\n",
            "Downloading file: https://neurovault.org/media/images/1683/019_KAN_langevents_08.nii.gz\n",
            "Download succeeded, downloaded to: /content/nilearn_data/neurovault/collection_1683/image_25497.nii.gz\n",
            "Downloading file: http://neurosynth.org/api/v2/decode/?neurovault=25497\n",
            "Download succeeded, downloaded to: /content/nilearn_data/neurovault/collection_1683/neurosynth_words_for_image_25497.json\n",
            "Already fetched 158 images\n",
            "Downloading file: https://neurovault.org/media/images/1683/094_KAN_action_05.nii.gz\n",
            "Download succeeded, downloaded to: /content/nilearn_data/neurovault/collection_1683/image_25498.nii.gz\n",
            "Downloading file: http://neurosynth.org/api/v2/decode/?neurovault=25498\n",
            "Download succeeded, downloaded to: /content/nilearn_data/neurovault/collection_1683/neurosynth_words_for_image_25498.json\n",
            "Already fetched 159 images\n",
            "Downloading file: https://neurovault.org/media/images/1683/146_KAN_random_02.nii.gz\n",
            "Download succeeded, downloaded to: /content/nilearn_data/neurovault/collection_1683/image_25499.nii.gz\n",
            "Downloading file: http://neurosynth.org/api/v2/decode/?neurovault=25499\n",
            "Download succeeded, downloaded to: /content/nilearn_data/neurovault/collection_1683/neurosynth_words_for_image_25499.json\n",
            "Already fetched 160 images\n",
            "Downloading file: https://neurovault.org/media/images/1683/070_KAN_langevents_11.nii.gz\n",
            "Download succeeded, downloaded to: /content/nilearn_data/neurovault/collection_1683/image_25500.nii.gz\n",
            "Downloading file: http://neurosynth.org/api/v2/decode/?neurovault=25500\n",
            "Download succeeded, downloaded to: /content/nilearn_data/neurovault/collection_1683/neurosynth_words_for_image_25500.json\n",
            "Already fetched 161 images\n",
            "Downloading file: https://neurovault.org/media/images/1683/099_KAN_syntax_10.nii.gz\n",
            "Download succeeded, downloaded to: /content/nilearn_data/neurovault/collection_1683/image_25501.nii.gz\n",
            "Downloading file: http://neurosynth.org/api/v2/decode/?neurovault=25501\n",
            "Download succeeded, downloaded to: /content/nilearn_data/neurovault/collection_1683/neurosynth_words_for_image_25501.json\n",
            "Already fetched 162 images\n",
            "Downloading file: https://neurovault.org/media/images/1683/010_SWJNV2_03.nii.gz\n",
            "Download succeeded, downloaded to: /content/nilearn_data/neurovault/collection_1683/image_25502.nii.gz\n",
            "Downloading file: http://neurosynth.org/api/v2/decode/?neurovault=25502\n",
            "Download succeeded, downloaded to: /content/nilearn_data/neurovault/collection_1683/neurosynth_words_for_image_25502.json\n",
            "Already fetched 163 images\n",
            "Downloading file: https://neurovault.org/media/images/1683/022_SWJNaudio_06.nii.gz\n",
            "Download succeeded, downloaded to: /content/nilearn_data/neurovault/collection_1683/image_25503.nii.gz\n",
            "Downloading file: http://neurosynth.org/api/v2/decode/?neurovault=25503\n",
            "Download succeeded, downloaded to: /content/nilearn_data/neurovault/collection_1683/neurosynth_words_for_image_25503.json\n",
            "Already fetched 164 images\n",
            "Downloading file: https://neurovault.org/media/images/1683/148_KAN_adapt_13.nii.gz\n",
            "Download succeeded, downloaded to: /content/nilearn_data/neurovault/collection_1683/image_25504.nii.gz\n",
            "Downloading file: http://neurosynth.org/api/v2/decode/?neurovault=25504\n",
            "Download succeeded, downloaded to: /content/nilearn_data/neurovault/collection_1683/neurosynth_words_for_image_25504.json\n",
            "Already fetched 165 images\n",
            "Downloading file: https://neurovault.org/media/images/1683/106_domspec_18.nii.gz\n",
            "Download succeeded, downloaded to: /content/nilearn_data/neurovault/collection_1683/image_25505.nii.gz\n",
            "Downloading file: http://neurosynth.org/api/v2/decode/?neurovault=25505\n",
            "Download succeeded, downloaded to: /content/nilearn_data/neurovault/collection_1683/neurosynth_words_for_image_25505.json\n",
            "Already fetched 166 images\n",
            "Downloading file: https://neurovault.org/media/images/1683/154_KAN_freqamb_03.nii.gz\n",
            "Download succeeded, downloaded to: /content/nilearn_data/neurovault/collection_1683/image_25506.nii.gz\n",
            "Downloading file: http://neurosynth.org/api/v2/decode/?neurovault=25506\n",
            "Download succeeded, downloaded to: /content/nilearn_data/neurovault/collection_1683/neurosynth_words_for_image_25506.json\n",
            "Already fetched 167 images\n",
            "Downloading file: https://neurovault.org/media/images/1683/008_SWJNV2_01.nii.gz\n",
            "Download succeeded, downloaded to: /content/nilearn_data/neurovault/collection_1683/image_25507.nii.gz\n",
            "Downloading file: http://neurosynth.org/api/v2/decode/?neurovault=25507\n",
            "Download succeeded, downloaded to: /content/nilearn_data/neurovault/collection_1683/neurosynth_words_for_image_25507.json\n",
            "Already fetched 168 images\n",
            "Downloading file: https://neurovault.org/media/images/1683/153_KAN_stories_14.nii.gz\n",
            "Download succeeded, downloaded to: /content/nilearn_data/neurovault/collection_1683/image_25508.nii.gz\n",
            "Downloading file: http://neurosynth.org/api/v2/decode/?neurovault=25508\n",
            "Download succeeded, downloaded to: /content/nilearn_data/neurovault/collection_1683/neurosynth_words_for_image_25508.json\n",
            "Already fetched 169 images\n",
            "Downloading file: https://neurovault.org/media/images/1683/034_domspec_01.nii.gz\n",
            "Download succeeded, downloaded to: /content/nilearn_data/neurovault/collection_1683/image_25509.nii.gz\n",
            "Downloading file: http://neurosynth.org/api/v2/decode/?neurovault=25509\n",
            "Download succeeded, downloaded to: /content/nilearn_data/neurovault/collection_1683/neurosynth_words_for_image_25509.json\n",
            "Already fetched 170 images\n",
            "Downloading file: https://neurovault.org/media/images/1683/107_KAN_lingviol_04.nii.gz\n",
            "Download succeeded, downloaded to: /content/nilearn_data/neurovault/collection_1683/image_25510.nii.gz\n",
            "Downloading file: http://neurosynth.org/api/v2/decode/?neurovault=25510\n"
          ],
          "name": "stdout"
        },
        {
          "output_type": "stream",
          "text": [
            "Download succeeded, downloaded to: /content/nilearn_data/neurovault/collection_1683/neurosynth_words_for_image_25510.json\n",
            "Already fetched 171 images\n",
            "Downloading file: https://neurovault.org/media/images/1683/037_domspec_06.nii.gz\n",
            "Download succeeded, downloaded to: /content/nilearn_data/neurovault/collection_1683/image_25511.nii.gz\n",
            "Downloading file: http://neurosynth.org/api/v2/decode/?neurovault=25511\n",
            "Download succeeded, downloaded to: /content/nilearn_data/neurovault/collection_1683/neurosynth_words_for_image_25511.json\n",
            "Already fetched 172 images\n",
            "Downloading file: https://neurovault.org/media/images/1683/071_KAN_langstroopBL_12.nii.gz\n",
            "Download succeeded, downloaded to: /content/nilearn_data/neurovault/collection_1683/image_25512.nii.gz\n",
            "Downloading file: http://neurosynth.org/api/v2/decode/?neurovault=25512\n",
            "Download succeeded, downloaded to: /content/nilearn_data/neurovault/collection_1683/neurosynth_words_for_image_25512.json\n",
            "Already fetched 173 images\n",
            "Downloading file: https://neurovault.org/media/images/1683/117_langsyntaxshapes_02.nii.gz\n",
            "Download succeeded, downloaded to: /content/nilearn_data/neurovault/collection_1683/image_25513.nii.gz\n",
            "Downloading file: http://neurosynth.org/api/v2/decode/?neurovault=25513\n",
            "Download succeeded, downloaded to: /content/nilearn_data/neurovault/collection_1683/neurosynth_words_for_image_25513.json\n",
            "Already fetched 174 images\n",
            "Downloading file: https://neurovault.org/media/images/1683/116_langsyntaxshapes_01.nii.gz\n",
            "Download succeeded, downloaded to: /content/nilearn_data/neurovault/collection_1683/image_25514.nii.gz\n",
            "Downloading file: http://neurosynth.org/api/v2/decode/?neurovault=25514\n",
            "Download succeeded, downloaded to: /content/nilearn_data/neurovault/collection_1683/neurosynth_words_for_image_25514.json\n",
            "Already fetched 175 images\n",
            "Downloading file: https://neurovault.org/media/images/1683/043_langmus_01.nii.gz\n",
            "Download succeeded, downloaded to: /content/nilearn_data/neurovault/collection_1683/image_25515.nii.gz\n",
            "Downloading file: http://neurosynth.org/api/v2/decode/?neurovault=25515\n",
            "Download succeeded, downloaded to: /content/nilearn_data/neurovault/collection_1683/neurosynth_words_for_image_25515.json\n",
            "Already fetched 176 images\n",
            "Downloading file: https://neurovault.org/media/images/1683/045_langmus_06.nii.gz\n",
            "Download succeeded, downloaded to: /content/nilearn_data/neurovault/collection_1683/image_25516.nii.gz\n",
            "Downloading file: http://neurosynth.org/api/v2/decode/?neurovault=25516\n",
            "Download succeeded, downloaded to: /content/nilearn_data/neurovault/collection_1683/neurosynth_words_for_image_25516.json\n",
            "Already fetched 177 images\n",
            "Downloading file: https://neurovault.org/media/images/1683/072_KAN_prod_02.nii.gz\n",
            "Download succeeded, downloaded to: /content/nilearn_data/neurovault/collection_1683/image_25517.nii.gz\n",
            "Downloading file: http://neurosynth.org/api/v2/decode/?neurovault=25517\n",
            "Download succeeded, downloaded to: /content/nilearn_data/neurovault/collection_1683/neurosynth_words_for_image_25517.json\n",
            "Already fetched 178 images\n",
            "Downloading file: https://neurovault.org/media/images/1683/078_KAN_langevents_13.nii.gz\n",
            "Download succeeded, downloaded to: /content/nilearn_data/neurovault/collection_1683/image_25518.nii.gz\n",
            "Downloading file: http://neurosynth.org/api/v2/decode/?neurovault=25518\n",
            "Download succeeded, downloaded to: /content/nilearn_data/neurovault/collection_1683/neurosynth_words_for_image_25518.json\n",
            "Already fetched 179 images\n",
            "Downloading file: https://neurovault.org/media/images/1683/059_KAN_langevents_04.nii.gz\n",
            "Download succeeded, downloaded to: /content/nilearn_data/neurovault/collection_1683/image_25519.nii.gz\n",
            "Downloading file: http://neurosynth.org/api/v2/decode/?neurovault=25519\n",
            "Download succeeded, downloaded to: /content/nilearn_data/neurovault/collection_1683/neurosynth_words_for_image_25519.json\n",
            "Already fetched 180 images\n",
            "Downloading file: https://neurovault.org/media/images/1683/129_KAN_adapt_15.nii.gz\n",
            "Download succeeded, downloaded to: /content/nilearn_data/neurovault/collection_1683/image_25520.nii.gz\n",
            "Downloading file: http://neurosynth.org/api/v2/decode/?neurovault=25520\n",
            "Download succeeded, downloaded to: /content/nilearn_data/neurovault/collection_1683/neurosynth_words_for_image_25520.json\n",
            "Already fetched 181 images\n",
            "Downloading file: https://neurovault.org/media/images/1683/095_KAN_parametric_01.nii.gz\n",
            "Download succeeded, downloaded to: /content/nilearn_data/neurovault/collection_1683/image_25521.nii.gz\n",
            "Downloading file: http://neurosynth.org/api/v2/decode/?neurovault=25521\n",
            "Download succeeded, downloaded to: /content/nilearn_data/neurovault/collection_1683/neurosynth_words_for_image_25521.json\n",
            "Already fetched 182 images\n",
            "Downloading file: https://neurovault.org/media/images/1683/126_KAN_parametric_02.nii.gz\n",
            "Download succeeded, downloaded to: /content/nilearn_data/neurovault/collection_1683/image_25522.nii.gz\n",
            "Downloading file: http://neurosynth.org/api/v2/decode/?neurovault=25522\n",
            "Download succeeded, downloaded to: /content/nilearn_data/neurovault/collection_1683/neurosynth_words_for_image_25522.json\n",
            "Already fetched 183 images\n",
            "Downloading file: https://neurovault.org/media/images/1683/118_langsyntaxshapes_03.nii.gz\n",
            "Download succeeded, downloaded to: /content/nilearn_data/neurovault/collection_1683/image_25523.nii.gz\n",
            "Downloading file: http://neurosynth.org/api/v2/decode/?neurovault=25523\n",
            "Download succeeded, downloaded to: /content/nilearn_data/neurovault/collection_1683/neurosynth_words_for_image_25523.json\n",
            "Already fetched 184 images\n",
            "Downloading file: https://neurovault.org/media/images/1683/136_KAN_adapt_05.nii.gz\n",
            "Download succeeded, downloaded to: /content/nilearn_data/neurovault/collection_1683/image_25524.nii.gz\n",
            "Downloading file: http://neurosynth.org/api/v2/decode/?neurovault=25524\n",
            "Download succeeded, downloaded to: /content/nilearn_data/neurovault/collection_1683/neurosynth_words_for_image_25524.json\n",
            "Already fetched 185 images\n",
            "Downloading file: https://neurovault.org/media/images/1683/127_langsyntaxshapes_08.nii.gz\n",
            "Download succeeded, downloaded to: /content/nilearn_data/neurovault/collection_1683/image_25525.nii.gz\n",
            "Downloading file: http://neurosynth.org/api/v2/decode/?neurovault=25525\n"
          ],
          "name": "stdout"
        },
        {
          "output_type": "stream",
          "text": [
            "Download succeeded, downloaded to: /content/nilearn_data/neurovault/collection_1683/neurosynth_words_for_image_25525.json\n",
            "Already fetched 186 images\n",
            "Downloading file: https://neurovault.org/media/images/1683/040_KAN_langevents_01.nii.gz\n",
            "Download succeeded, downloaded to: /content/nilearn_data/neurovault/collection_1683/image_25526.nii.gz\n",
            "Downloading file: http://neurosynth.org/api/v2/decode/?neurovault=25526\n",
            "Download succeeded, downloaded to: /content/nilearn_data/neurovault/collection_1683/neurosynth_words_for_image_25526.json\n",
            "Already fetched 187 images\n",
            "Downloading file: https://neurovault.org/media/images/1683/023_langmus_07.nii.gz\n",
            "Download succeeded, downloaded to: /content/nilearn_data/neurovault/collection_1683/image_25527.nii.gz\n",
            "Downloading file: http://neurosynth.org/api/v2/decode/?neurovault=25527\n",
            "Download succeeded, downloaded to: /content/nilearn_data/neurovault/collection_1683/neurosynth_words_for_image_25527.json\n",
            "Already fetched 188 images\n",
            "Downloading file: https://neurovault.org/media/images/1683/148_KAN_freqamb_05.nii.gz\n",
            "Download succeeded, downloaded to: /content/nilearn_data/neurovault/collection_1683/image_25528.nii.gz\n",
            "Downloading file: http://neurosynth.org/api/v2/decode/?neurovault=25528\n",
            "Download succeeded, downloaded to: /content/nilearn_data/neurovault/collection_1683/neurosynth_words_for_image_25528.json\n",
            "Already fetched 189 images\n",
            "Downloading file: https://neurovault.org/media/images/1683/013_SWJNV2_06.nii.gz\n",
            "Download succeeded, downloaded to: /content/nilearn_data/neurovault/collection_1683/image_25529.nii.gz\n",
            "Downloading file: http://neurosynth.org/api/v2/decode/?neurovault=25529\n",
            "Download succeeded, downloaded to: /content/nilearn_data/neurovault/collection_1683/neurosynth_words_for_image_25529.json\n",
            "Already fetched 190 images\n",
            "Downloading file: https://neurovault.org/media/images/1683/076_KAN_langevents_16.nii.gz\n",
            "Download succeeded, downloaded to: /content/nilearn_data/neurovault/collection_1683/image_25530.nii.gz\n",
            "Downloading file: http://neurosynth.org/api/v2/decode/?neurovault=25530\n",
            "Download succeeded, downloaded to: /content/nilearn_data/neurovault/collection_1683/neurosynth_words_for_image_25530.json\n",
            "Already fetched 191 images\n",
            "Downloading file: https://neurovault.org/media/images/1683/075_langmustask_01.nii.gz\n",
            "Download succeeded, downloaded to: /content/nilearn_data/neurovault/collection_1683/image_25531.nii.gz\n",
            "Downloading file: http://neurosynth.org/api/v2/decode/?neurovault=25531\n",
            "Download succeeded, downloaded to: /content/nilearn_data/neurovault/collection_1683/neurosynth_words_for_image_25531.json\n",
            "Already fetched 192 images\n",
            "Downloading file: https://neurovault.org/media/images/1683/138_KAN_adapt_07.nii.gz\n",
            "Download succeeded, downloaded to: /content/nilearn_data/neurovault/collection_1683/image_25532.nii.gz\n",
            "Downloading file: http://neurosynth.org/api/v2/decode/?neurovault=25532\n",
            "Download succeeded, downloaded to: /content/nilearn_data/neurovault/collection_1683/neurosynth_words_for_image_25532.json\n",
            "Already fetched 193 images\n",
            "Downloading file: https://neurovault.org/media/images/1683/137_KAN_adapt_06.nii.gz\n",
            "Download succeeded, downloaded to: /content/nilearn_data/neurovault/collection_1683/image_25533.nii.gz\n",
            "Downloading file: http://neurosynth.org/api/v2/decode/?neurovault=25533\n",
            "Download succeeded, downloaded to: /content/nilearn_data/neurovault/collection_1683/neurosynth_words_for_image_25533.json\n",
            "Already fetched 194 images\n",
            "Downloading file: https://neurovault.org/media/images/1683/028_SWJNaudio_13.nii.gz\n",
            "Download succeeded, downloaded to: /content/nilearn_data/neurovault/collection_1683/image_25534.nii.gz\n",
            "Downloading file: http://neurosynth.org/api/v2/decode/?neurovault=25534\n",
            "Download succeeded, downloaded to: /content/nilearn_data/neurovault/collection_1683/neurosynth_words_for_image_25534.json\n",
            "Already fetched 195 images\n",
            "Downloading file: https://neurovault.org/media/images/1683/101_KAN_lingviol_09.nii.gz\n",
            "Download succeeded, downloaded to: /content/nilearn_data/neurovault/collection_1683/image_25535.nii.gz\n",
            "Downloading file: http://neurosynth.org/api/v2/decode/?neurovault=25535\n",
            "Download succeeded, downloaded to: /content/nilearn_data/neurovault/collection_1683/neurosynth_words_for_image_25535.json\n",
            "Already fetched 196 images\n",
            "Downloading file: https://neurovault.org/media/images/1683/046_langmus_08.nii.gz\n",
            "Download succeeded, downloaded to: /content/nilearn_data/neurovault/collection_1683/image_25536.nii.gz\n",
            "Downloading file: http://neurosynth.org/api/v2/decode/?neurovault=25536\n",
            "Download succeeded, downloaded to: /content/nilearn_data/neurovault/collection_1683/neurosynth_words_for_image_25536.json\n",
            "Already fetched 197 images\n",
            "Downloading file: https://neurovault.org/media/images/1683/030_SWJNaudio_15.nii.gz\n",
            "Download succeeded, downloaded to: /content/nilearn_data/neurovault/collection_1683/image_25537.nii.gz\n",
            "Downloading file: http://neurosynth.org/api/v2/decode/?neurovault=25537\n",
            "Download succeeded, downloaded to: /content/nilearn_data/neurovault/collection_1683/neurosynth_words_for_image_25537.json\n",
            "Already fetched 198 images\n",
            "Downloading file: https://neurovault.org/media/images/1683/149_KAN_parametric_05.nii.gz\n",
            "Download succeeded, downloaded to: /content/nilearn_data/neurovault/collection_1683/image_25538.nii.gz\n",
            "Downloading file: http://neurosynth.org/api/v2/decode/?neurovault=25538\n",
            "Download succeeded, downloaded to: /content/nilearn_data/neurovault/collection_1683/neurosynth_words_for_image_25538.json\n",
            "Already fetched 199 images\n",
            "Downloading file: https://neurovault.org/media/images/1683/125_KAN_action_12.nii.gz\n",
            "Download succeeded, downloaded to: /content/nilearn_data/neurovault/collection_1683/image_25539.nii.gz\n",
            "Downloading file: http://neurosynth.org/api/v2/decode/?neurovault=25539\n",
            "Download succeeded, downloaded to: /content/nilearn_data/neurovault/collection_1683/neurosynth_words_for_image_25539.json\n",
            "Already fetched 200 images\n",
            "Downloading file: https://neurovault.org/media/images/1683/021_SWJNaudio_04.nii.gz\n",
            "Download succeeded, downloaded to: /content/nilearn_data/neurovault/collection_1683/image_25540.nii.gz\n",
            "Downloading file: http://neurosynth.org/api/v2/decode/?neurovault=25540\n"
          ],
          "name": "stdout"
        },
        {
          "output_type": "stream",
          "text": [
            "Download succeeded, downloaded to: /content/nilearn_data/neurovault/collection_1683/neurosynth_words_for_image_25540.json\n",
            "Already fetched 201 images\n",
            "Downloading file: https://neurovault.org/media/images/1683/152_KAN_stories_13.nii.gz\n",
            "Download succeeded, downloaded to: /content/nilearn_data/neurovault/collection_1683/image_25541.nii.gz\n",
            "Downloading file: http://neurosynth.org/api/v2/decode/?neurovault=25541\n",
            "Download succeeded, downloaded to: /content/nilearn_data/neurovault/collection_1683/neurosynth_words_for_image_25541.json\n",
            "Already fetched 202 images\n",
            "Downloading file: https://neurovault.org/media/images/1683/039_domspec_08.nii.gz\n",
            "Download succeeded, downloaded to: /content/nilearn_data/neurovault/collection_1683/image_25542.nii.gz\n",
            "Downloading file: http://neurosynth.org/api/v2/decode/?neurovault=25542\n",
            "Download succeeded, downloaded to: /content/nilearn_data/neurovault/collection_1683/neurosynth_words_for_image_25542.json\n",
            "Already fetched 203 images\n",
            "Downloading file: https://neurovault.org/media/images/1683/069_KAN_langevents_10.nii.gz\n",
            "Download succeeded, downloaded to: /content/nilearn_data/neurovault/collection_1683/image_25543.nii.gz\n",
            "Downloading file: http://neurosynth.org/api/v2/decode/?neurovault=25543\n",
            "Download succeeded, downloaded to: /content/nilearn_data/neurovault/collection_1683/neurosynth_words_for_image_25543.json\n",
            "Already fetched 204 images\n",
            "Downloading file: https://neurovault.org/media/images/1683/124_KAN_action_10.nii.gz\n",
            "Download succeeded, downloaded to: /content/nilearn_data/neurovault/collection_1683/image_25544.nii.gz\n",
            "Downloading file: http://neurosynth.org/api/v2/decode/?neurovault=25544\n",
            "Download succeeded, downloaded to: /content/nilearn_data/neurovault/collection_1683/neurosynth_words_for_image_25544.json\n",
            "Already fetched 205 images\n",
            "Downloading file: https://neurovault.org/media/images/1683/052_langmus_14.nii.gz\n",
            "Download succeeded, downloaded to: /content/nilearn_data/neurovault/collection_1683/image_25545.nii.gz\n",
            "Downloading file: http://neurosynth.org/api/v2/decode/?neurovault=25545\n",
            "Download succeeded, downloaded to: /content/nilearn_data/neurovault/collection_1683/neurosynth_words_for_image_25545.json\n",
            "Already fetched 206 images\n",
            "Downloading file: https://neurovault.org/media/images/1683/102_KAN_action_06.nii.gz\n",
            "Download succeeded, downloaded to: /content/nilearn_data/neurovault/collection_1683/image_25546.nii.gz\n",
            "Downloading file: http://neurosynth.org/api/v2/decode/?neurovault=25546\n",
            "Download succeeded, downloaded to: /content/nilearn_data/neurovault/collection_1683/neurosynth_words_for_image_25546.json\n",
            "Already fetched 207 images\n",
            "Downloading file: https://neurovault.org/media/images/1683/146_KAN_stories_11.nii.gz\n",
            "Download succeeded, downloaded to: /content/nilearn_data/neurovault/collection_1683/image_25547.nii.gz\n",
            "Downloading file: http://neurosynth.org/api/v2/decode/?neurovault=25547\n",
            "Download succeeded, downloaded to: /content/nilearn_data/neurovault/collection_1683/neurosynth_words_for_image_25547.json\n",
            "Already fetched 208 images\n",
            "Downloading file: https://neurovault.org/media/images/1683/112_KAN_stories_06.nii.gz\n",
            "Download succeeded, downloaded to: /content/nilearn_data/neurovault/collection_1683/image_25548.nii.gz\n",
            "Downloading file: http://neurosynth.org/api/v2/decode/?neurovault=25548\n",
            "Download succeeded, downloaded to: /content/nilearn_data/neurovault/collection_1683/neurosynth_words_for_image_25548.json\n",
            "Already fetched 209 images\n",
            "Downloading file: https://neurovault.org/media/images/1683/072_langsyntaxshapes_11.nii.gz\n",
            "Download succeeded, downloaded to: /content/nilearn_data/neurovault/collection_1683/image_25549.nii.gz\n",
            "Downloading file: http://neurosynth.org/api/v2/decode/?neurovault=25549\n",
            "Download succeeded, downloaded to: /content/nilearn_data/neurovault/collection_1683/neurosynth_words_for_image_25549.json\n",
            "Already fetched 210 images\n",
            "Downloading file: https://neurovault.org/media/images/1683/082_langmustask_04.nii.gz\n",
            "Download succeeded, downloaded to: /content/nilearn_data/neurovault/collection_1683/image_25550.nii.gz\n",
            "Downloading file: http://neurosynth.org/api/v2/decode/?neurovault=25550\n",
            "Download succeeded, downloaded to: /content/nilearn_data/neurovault/collection_1683/neurosynth_words_for_image_25550.json\n",
            "Already fetched 211 images\n",
            "Downloading file: https://neurovault.org/media/images/1683/109_KAN_lingviol_05.nii.gz\n",
            "Download succeeded, downloaded to: /content/nilearn_data/neurovault/collection_1683/image_25551.nii.gz\n",
            "Downloading file: http://neurosynth.org/api/v2/decode/?neurovault=25551\n",
            "Download succeeded, downloaded to: /content/nilearn_data/neurovault/collection_1683/neurosynth_words_for_image_25551.json\n",
            "Already fetched 212 images\n",
            "Downloading file: https://neurovault.org/media/images/1683/127_KAN_parametric_03.nii.gz\n",
            "Download succeeded, downloaded to: /content/nilearn_data/neurovault/collection_1683/image_25552.nii.gz\n",
            "Downloading file: http://neurosynth.org/api/v2/decode/?neurovault=25552\n",
            "Download succeeded, downloaded to: /content/nilearn_data/neurovault/collection_1683/neurosynth_words_for_image_25552.json\n",
            "Already fetched 213 images\n",
            "Downloading file: https://neurovault.org/media/images/1683/114_KAN_stories_08.nii.gz\n",
            "Download succeeded, downloaded to: /content/nilearn_data/neurovault/collection_1683/image_25553.nii.gz\n",
            "Downloading file: http://neurosynth.org/api/v2/decode/?neurovault=25553\n",
            "Download succeeded, downloaded to: /content/nilearn_data/neurovault/collection_1683/neurosynth_words_for_image_25553.json\n",
            "Already fetched 214 images\n",
            "Downloading file: https://neurovault.org/media/images/1683/004_SWJN_09.nii.gz\n",
            "Download succeeded, downloaded to: /content/nilearn_data/neurovault/collection_1683/image_25554.nii.gz\n",
            "Downloading file: http://neurosynth.org/api/v2/decode/?neurovault=25554\n",
            "Download succeeded, downloaded to: /content/nilearn_data/neurovault/collection_1683/neurosynth_words_for_image_25554.json\n",
            "Already fetched 215 images\n",
            "Downloading file: https://neurovault.org/media/images/1683/144_KAN_adapt_12.nii.gz\n",
            "Download succeeded, downloaded to: /content/nilearn_data/neurovault/collection_1683/image_25555.nii.gz\n",
            "Downloading file: http://neurosynth.org/api/v2/decode/?neurovault=25555\n"
          ],
          "name": "stdout"
        },
        {
          "output_type": "stream",
          "text": [
            "Download succeeded, downloaded to: /content/nilearn_data/neurovault/collection_1683/neurosynth_words_for_image_25555.json\n",
            "Already fetched 216 images\n",
            "Downloading file: https://neurovault.org/media/images/1683/006_SWJN_12.nii.gz\n",
            "Download succeeded, downloaded to: /content/nilearn_data/neurovault/collection_1683/image_25556.nii.gz\n",
            "Downloading file: http://neurosynth.org/api/v2/decode/?neurovault=25556\n",
            "Download succeeded, downloaded to: /content/nilearn_data/neurovault/collection_1683/neurosynth_words_for_image_25556.json\n",
            "Already fetched 217 images\n",
            "Downloading file: https://neurovault.org/media/images/1683/105_domspec_17.nii.gz\n",
            "Download succeeded, downloaded to: /content/nilearn_data/neurovault/collection_1683/image_25557.nii.gz\n",
            "Downloading file: http://neurosynth.org/api/v2/decode/?neurovault=25557\n",
            "Download succeeded, downloaded to: /content/nilearn_data/neurovault/collection_1683/neurosynth_words_for_image_25557.json\n",
            "Already fetched 218 images\n",
            "Downloading file: https://neurovault.org/media/images/1683/017_domspec_09.nii.gz\n",
            "Download succeeded, downloaded to: /content/nilearn_data/neurovault/collection_1683/image_25558.nii.gz\n",
            "Downloading file: http://neurosynth.org/api/v2/decode/?neurovault=25558\n",
            "Download succeeded, downloaded to: /content/nilearn_data/neurovault/collection_1683/neurosynth_words_for_image_25558.json\n",
            "Already fetched 219 images\n",
            "Downloading file: https://neurovault.org/media/images/1683/015_SWJNV2_08.nii.gz\n",
            "Download succeeded, downloaded to: /content/nilearn_data/neurovault/collection_1683/image_25559.nii.gz\n",
            "Downloading file: http://neurosynth.org/api/v2/decode/?neurovault=25559\n",
            "Download succeeded, downloaded to: /content/nilearn_data/neurovault/collection_1683/neurosynth_words_for_image_25559.json\n",
            "Already fetched 220 images\n",
            "Downloading file: https://neurovault.org/media/images/1683/007_KAN_parametric_07.nii.gz\n",
            "Download succeeded, downloaded to: /content/nilearn_data/neurovault/collection_1683/image_25560.nii.gz\n",
            "Downloading file: http://neurosynth.org/api/v2/decode/?neurovault=25560\n",
            "Download succeeded, downloaded to: /content/nilearn_data/neurovault/collection_1683/neurosynth_words_for_image_25560.json\n",
            "Already fetched 221 images\n",
            "Downloading file: https://neurovault.org/media/images/1683/097_KAN_syntax_09.nii.gz\n",
            "Download succeeded, downloaded to: /content/nilearn_data/neurovault/collection_1683/image_25561.nii.gz\n",
            "Downloading file: http://neurosynth.org/api/v2/decode/?neurovault=25561\n",
            "Download succeeded, downloaded to: /content/nilearn_data/neurovault/collection_1683/neurosynth_words_for_image_25561.json\n",
            "Already fetched 222 images\n",
            "Downloading file: https://neurovault.org/media/images/1683/076_KAN_langstroopBL_16.nii.gz\n",
            "Download succeeded, downloaded to: /content/nilearn_data/neurovault/collection_1683/image_25562.nii.gz\n",
            "Downloading file: http://neurosynth.org/api/v2/decode/?neurovault=25562\n",
            "Download succeeded, downloaded to: /content/nilearn_data/neurovault/collection_1683/neurosynth_words_for_image_25562.json\n",
            "Already fetched 223 images\n",
            "Downloading file: https://neurovault.org/media/images/1683/038_domspec_07.nii.gz\n",
            "Download succeeded, downloaded to: /content/nilearn_data/neurovault/collection_1683/image_25563.nii.gz\n",
            "Downloading file: http://neurosynth.org/api/v2/decode/?neurovault=25563\n",
            "Download succeeded, downloaded to: /content/nilearn_data/neurovault/collection_1683/neurosynth_words_for_image_25563.json\n",
            "Already fetched 224 images\n",
            "Downloading file: https://neurovault.org/media/images/1683/095_KAN_syntax_04.nii.gz\n",
            "Download succeeded, downloaded to: /content/nilearn_data/neurovault/collection_1683/image_25564.nii.gz\n",
            "Downloading file: http://neurosynth.org/api/v2/decode/?neurovault=25564\n",
            "Download succeeded, downloaded to: /content/nilearn_data/neurovault/collection_1683/neurosynth_words_for_image_25564.json\n",
            "Already fetched 225 images\n",
            "Downloading file: https://neurovault.org/media/images/1683/068_KAN_langevents_07.nii.gz\n",
            "Download succeeded, downloaded to: /content/nilearn_data/neurovault/collection_1683/image_25565.nii.gz\n",
            "Downloading file: http://neurosynth.org/api/v2/decode/?neurovault=25565\n",
            "Download succeeded, downloaded to: /content/nilearn_data/neurovault/collection_1683/neurosynth_words_for_image_25565.json\n",
            "Already fetched 226 images\n",
            "Downloading file: https://neurovault.org/media/images/1683/049_langmus_11.nii.gz\n",
            "Download succeeded, downloaded to: /content/nilearn_data/neurovault/collection_1683/image_25566.nii.gz\n",
            "Downloading file: http://neurosynth.org/api/v2/decode/?neurovault=25566\n",
            "Download succeeded, downloaded to: /content/nilearn_data/neurovault/collection_1683/neurosynth_words_for_image_25566.json\n",
            "Already fetched 227 images\n",
            "Downloading file: https://neurovault.org/media/images/1683/063_KAN_langstroopBL_07.nii.gz\n",
            "Download succeeded, downloaded to: /content/nilearn_data/neurovault/collection_1683/image_25567.nii.gz\n",
            "Downloading file: http://neurosynth.org/api/v2/decode/?neurovault=25567\n",
            "Download succeeded, downloaded to: /content/nilearn_data/neurovault/collection_1683/neurosynth_words_for_image_25567.json\n",
            "Already fetched 228 images\n",
            "Downloading file: https://neurovault.org/media/images/1683/062_KAN_langstroopBL_06.nii.gz\n",
            "Download succeeded, downloaded to: /content/nilearn_data/neurovault/collection_1683/image_25568.nii.gz\n",
            "Downloading file: http://neurosynth.org/api/v2/decode/?neurovault=25568\n",
            "Download succeeded, downloaded to: /content/nilearn_data/neurovault/collection_1683/neurosynth_words_for_image_25568.json\n",
            "Already fetched 229 images\n",
            "Scroll images from collection 1683: getting new batch: http://neurovault.org/api/collections/1683/images/?limit=100&offset=100\n",
            "Scroll images from collection 1683: batch size: 100\n",
            "Downloading file: https://neurovault.org/media/images/1683/123_langsyntaxshapes_06.nii.gz\n",
            "Download succeeded, downloaded to: /content/nilearn_data/neurovault/collection_1683/image_25569.nii.gz\n",
            "Downloading file: http://neurosynth.org/api/v2/decode/?neurovault=25569\n",
            "Download succeeded, downloaded to: /content/nilearn_data/neurovault/collection_1683/neurosynth_words_for_image_25569.json\n",
            "Already fetched 230 images\n",
            "Downloading file: https://neurovault.org/media/images/1683/031_SWJNaudio_16.nii.gz\n"
          ],
          "name": "stdout"
        },
        {
          "output_type": "stream",
          "text": [
            "Download succeeded, downloaded to: /content/nilearn_data/neurovault/collection_1683/image_25570.nii.gz\n",
            "Downloading file: http://neurosynth.org/api/v2/decode/?neurovault=25570\n",
            "Download succeeded, downloaded to: /content/nilearn_data/neurovault/collection_1683/neurosynth_words_for_image_25570.json\n",
            "Already fetched 231 images\n",
            "Downloading file: https://neurovault.org/media/images/1683/056_KAN_langevents_05.nii.gz\n",
            "Download succeeded, downloaded to: /content/nilearn_data/neurovault/collection_1683/image_25571.nii.gz\n",
            "Downloading file: http://neurosynth.org/api/v2/decode/?neurovault=25571\n",
            "Download succeeded, downloaded to: /content/nilearn_data/neurovault/collection_1683/neurosynth_words_for_image_25571.json\n",
            "Already fetched 232 images\n",
            "Downloading file: https://neurovault.org/media/images/1683/093_KAN_action_03.nii.gz\n",
            "Download succeeded, downloaded to: /content/nilearn_data/neurovault/collection_1683/image_25572.nii.gz\n",
            "Downloading file: http://neurosynth.org/api/v2/decode/?neurovault=25572\n",
            "Download succeeded, downloaded to: /content/nilearn_data/neurovault/collection_1683/neurosynth_words_for_image_25572.json\n",
            "Already fetched 233 images\n",
            "Downloading file: https://neurovault.org/media/images/1683/090_KAN_stories_01.nii.gz\n",
            "Download succeeded, downloaded to: /content/nilearn_data/neurovault/collection_1683/image_25573.nii.gz\n",
            "Downloading file: http://neurosynth.org/api/v2/decode/?neurovault=25573\n",
            "Download succeeded, downloaded to: /content/nilearn_data/neurovault/collection_1683/neurosynth_words_for_image_25573.json\n",
            "Already fetched 234 images\n",
            "Downloading file: https://neurovault.org/media/images/1683/133_KAN_adapt_01.nii.gz\n",
            "Download succeeded, downloaded to: /content/nilearn_data/neurovault/collection_1683/image_25574.nii.gz\n",
            "Downloading file: http://neurosynth.org/api/v2/decode/?neurovault=25574\n",
            "Download succeeded, downloaded to: /content/nilearn_data/neurovault/collection_1683/neurosynth_words_for_image_25574.json\n",
            "Already fetched 235 images\n",
            "Downloading file: https://neurovault.org/media/images/1683/050_KAN_action_04.nii.gz\n",
            "Download succeeded, downloaded to: /content/nilearn_data/neurovault/collection_1683/image_25575.nii.gz\n",
            "Downloading file: http://neurosynth.org/api/v2/decode/?neurovault=25575\n",
            "Download succeeded, downloaded to: /content/nilearn_data/neurovault/collection_1683/neurosynth_words_for_image_25575.json\n",
            "Already fetched 236 images\n",
            "Downloading file: https://neurovault.org/media/images/1683/089_KAN_langevents_15.nii.gz\n",
            "Download succeeded, downloaded to: /content/nilearn_data/neurovault/collection_1683/image_25576.nii.gz\n",
            "Downloading file: http://neurosynth.org/api/v2/decode/?neurovault=25576\n",
            "Download succeeded, downloaded to: /content/nilearn_data/neurovault/collection_1683/neurosynth_words_for_image_25576.json\n",
            "Already fetched 237 images\n",
            "Downloading file: https://neurovault.org/media/images/1683/003_SWJN_07.nii.gz\n",
            "Download succeeded, downloaded to: /content/nilearn_data/neurovault/collection_1683/image_25577.nii.gz\n",
            "Downloading file: http://neurosynth.org/api/v2/decode/?neurovault=25577\n",
            "Download succeeded, downloaded to: /content/nilearn_data/neurovault/collection_1683/neurosynth_words_for_image_25577.json\n",
            "Already fetched 238 images\n",
            "Downloading file: https://neurovault.org/media/images/1683/020_SWJNV2_12.nii.gz\n",
            "Download succeeded, downloaded to: /content/nilearn_data/neurovault/collection_1683/image_25578.nii.gz\n",
            "Downloading file: http://neurosynth.org/api/v2/decode/?neurovault=25578\n",
            "Download succeeded, downloaded to: /content/nilearn_data/neurovault/collection_1683/neurosynth_words_for_image_25578.json\n",
            "Already fetched 239 images\n",
            "Downloading file: https://neurovault.org/media/images/1683/048_langmus_10.nii.gz\n",
            "Download succeeded, downloaded to: /content/nilearn_data/neurovault/collection_1683/image_25579.nii.gz\n",
            "Downloading file: http://neurosynth.org/api/v2/decode/?neurovault=25579\n",
            "Download succeeded, downloaded to: /content/nilearn_data/neurovault/collection_1683/neurosynth_words_for_image_25579.json\n",
            "Already fetched 240 images\n",
            "Downloading file: https://neurovault.org/media/images/1683/048_KAN_syntax_08.nii.gz\n",
            "Download succeeded, downloaded to: /content/nilearn_data/neurovault/collection_1683/image_25580.nii.gz\n",
            "Downloading file: http://neurosynth.org/api/v2/decode/?neurovault=25580\n",
            "Download succeeded, downloaded to: /content/nilearn_data/neurovault/collection_1683/neurosynth_words_for_image_25580.json\n",
            "Already fetched 241 images\n",
            "Downloading file: https://neurovault.org/media/images/1683/051_langmus_13.nii.gz\n",
            "Download succeeded, downloaded to: /content/nilearn_data/neurovault/collection_1683/image_25581.nii.gz\n",
            "Downloading file: http://neurosynth.org/api/v2/decode/?neurovault=25581\n",
            "Download succeeded, downloaded to: /content/nilearn_data/neurovault/collection_1683/neurosynth_words_for_image_25581.json\n",
            "Already fetched 242 images\n",
            "Downloading file: https://neurovault.org/media/images/1683/084_KAN_langstroopBL_21.nii.gz\n",
            "Download succeeded, downloaded to: /content/nilearn_data/neurovault/collection_1683/image_25582.nii.gz\n",
            "Downloading file: http://neurosynth.org/api/v2/decode/?neurovault=25582\n",
            "Download succeeded, downloaded to: /content/nilearn_data/neurovault/collection_1683/neurosynth_words_for_image_25582.json\n",
            "Already fetched 243 images\n",
            "Downloading file: https://neurovault.org/media/images/1683/001_SWJN_01.nii.gz\n",
            "Download succeeded, downloaded to: /content/nilearn_data/neurovault/collection_1683/image_25583.nii.gz\n",
            "Downloading file: http://neurosynth.org/api/v2/decode/?neurovault=25583\n",
            "Download succeeded, downloaded to: /content/nilearn_data/neurovault/collection_1683/neurosynth_words_for_image_25583.json\n",
            "Already fetched 244 images\n",
            "Downloading file: https://neurovault.org/media/images/1683/156_KAN_prod_06.nii.gz\n",
            "Download succeeded, downloaded to: /content/nilearn_data/neurovault/collection_1683/image_25584.nii.gz\n",
            "Downloading file: http://neurosynth.org/api/v2/decode/?neurovault=25584\n",
            "Download succeeded, downloaded to: /content/nilearn_data/neurovault/collection_1683/neurosynth_words_for_image_25584.json\n",
            "Already fetched 245 images\n",
            "Downloading file: https://neurovault.org/media/images/1683/101_KAN_syntax_13.nii.gz\n"
          ],
          "name": "stdout"
        },
        {
          "output_type": "stream",
          "text": [
            "Download succeeded, downloaded to: /content/nilearn_data/neurovault/collection_1683/image_25585.nii.gz\n",
            "Downloading file: http://neurosynth.org/api/v2/decode/?neurovault=25585\n",
            "Download succeeded, downloaded to: /content/nilearn_data/neurovault/collection_1683/neurosynth_words_for_image_25585.json\n",
            "Already fetched 246 images\n",
            "Downloading file: https://neurovault.org/media/images/1683/061_KAN_langstroopBL_05.nii.gz\n",
            "Download succeeded, downloaded to: /content/nilearn_data/neurovault/collection_1683/image_25586.nii.gz\n",
            "Downloading file: http://neurosynth.org/api/v2/decode/?neurovault=25586\n",
            "Download succeeded, downloaded to: /content/nilearn_data/neurovault/collection_1683/neurosynth_words_for_image_25586.json\n",
            "Already fetched 247 images\n",
            "Downloading file: https://neurovault.org/media/images/1683/113_KAN_freqamb_02.nii.gz\n",
            "Download succeeded, downloaded to: /content/nilearn_data/neurovault/collection_1683/image_25587.nii.gz\n",
            "Downloading file: http://neurosynth.org/api/v2/decode/?neurovault=25587\n",
            "Download succeeded, downloaded to: /content/nilearn_data/neurovault/collection_1683/neurosynth_words_for_image_25587.json\n",
            "Already fetched 248 images\n",
            "Downloading file: https://neurovault.org/media/images/1683/135_KAN_adapt_04.nii.gz\n",
            "Download succeeded, downloaded to: /content/nilearn_data/neurovault/collection_1683/image_25588.nii.gz\n",
            "Downloading file: http://neurosynth.org/api/v2/decode/?neurovault=25588\n",
            "Download succeeded, downloaded to: /content/nilearn_data/neurovault/collection_1683/neurosynth_words_for_image_25588.json\n",
            "Already fetched 249 images\n",
            "Downloading file: https://neurovault.org/media/images/1683/042_domspec_13.nii.gz\n",
            "Download succeeded, downloaded to: /content/nilearn_data/neurovault/collection_1683/image_25589.nii.gz\n",
            "Downloading file: http://neurosynth.org/api/v2/decode/?neurovault=25589\n",
            "Download succeeded, downloaded to: /content/nilearn_data/neurovault/collection_1683/neurosynth_words_for_image_25589.json\n",
            "Already fetched 250 images\n",
            "Computing word features.\n",
            "Could not load words from file /content/nilearn_data/neurovault/collection_1195/neurosynth_words_for_image_16254.json; error: Traceback (most recent call last):\n",
            "  File \"/usr/local/lib/python3.6/dist-packages/nilearn/datasets/neurovault.py\", line 1251, in neurosynth_words_vectorized\n",
            "    with open(file_name, 'rb') as word_file:\n",
            "FileNotFoundError: [Errno 2] No such file or directory: '/content/nilearn_data/neurovault/collection_1195/neurosynth_words_for_image_16254.json'\n",
            "\n",
            "Could not load words from file /content/nilearn_data/neurovault/collection_555/neurosynth_words_for_image_9034.json; error: Traceback (most recent call last):\n",
            "  File \"/usr/local/lib/python3.6/dist-packages/nilearn/datasets/neurovault.py\", line 1251, in neurosynth_words_vectorized\n",
            "    with open(file_name, 'rb') as word_file:\n",
            "FileNotFoundError: [Errno 2] No such file or directory: '/content/nilearn_data/neurovault/collection_555/neurosynth_words_for_image_9034.json'\n",
            "\n",
            "Could not load words from file /content/nilearn_data/neurovault/collection_555/neurosynth_words_for_image_9035.json; error: Traceback (most recent call last):\n",
            "  File \"/usr/local/lib/python3.6/dist-packages/nilearn/datasets/neurovault.py\", line 1251, in neurosynth_words_vectorized\n",
            "    with open(file_name, 'rb') as word_file:\n",
            "FileNotFoundError: [Errno 2] No such file or directory: '/content/nilearn_data/neurovault/collection_555/neurosynth_words_for_image_9035.json'\n",
            "\n",
            "Could not load words from file /content/nilearn_data/neurovault/collection_555/neurosynth_words_for_image_9036.json; error: Traceback (most recent call last):\n",
            "  File \"/usr/local/lib/python3.6/dist-packages/nilearn/datasets/neurovault.py\", line 1251, in neurosynth_words_vectorized\n",
            "    with open(file_name, 'rb') as word_file:\n",
            "FileNotFoundError: [Errno 2] No such file or directory: '/content/nilearn_data/neurovault/collection_555/neurosynth_words_for_image_9036.json'\n",
            "\n",
            "Could not load words from file /content/nilearn_data/neurovault/collection_555/neurosynth_words_for_image_9037.json; error: Traceback (most recent call last):\n",
            "  File \"/usr/local/lib/python3.6/dist-packages/nilearn/datasets/neurovault.py\", line 1251, in neurosynth_words_vectorized\n",
            "    with open(file_name, 'rb') as word_file:\n",
            "FileNotFoundError: [Errno 2] No such file or directory: '/content/nilearn_data/neurovault/collection_555/neurosynth_words_for_image_9037.json'\n",
            "\n",
            "Could not load words from file /content/nilearn_data/neurovault/collection_555/neurosynth_words_for_image_9038.json; error: Traceback (most recent call last):\n",
            "  File \"/usr/local/lib/python3.6/dist-packages/nilearn/datasets/neurovault.py\", line 1251, in neurosynth_words_vectorized\n",
            "    with open(file_name, 'rb') as word_file:\n",
            "FileNotFoundError: [Errno 2] No such file or directory: '/content/nilearn_data/neurovault/collection_555/neurosynth_words_for_image_9038.json'\n",
            "\n",
            "Could not load words from file /content/nilearn_data/neurovault/collection_555/neurosynth_words_for_image_9039.json; error: Traceback (most recent call last):\n",
            "  File \"/usr/local/lib/python3.6/dist-packages/nilearn/datasets/neurovault.py\", line 1251, in neurosynth_words_vectorized\n",
            "    with open(file_name, 'rb') as word_file:\n",
            "FileNotFoundError: [Errno 2] No such file or directory: '/content/nilearn_data/neurovault/collection_555/neurosynth_words_for_image_9039.json'\n",
            "\n",
            "Could not load words from file /content/nilearn_data/neurovault/collection_555/neurosynth_words_for_image_9040.json; error: Traceback (most recent call last):\n",
            "  File \"/usr/local/lib/python3.6/dist-packages/nilearn/datasets/neurovault.py\", line 1251, in neurosynth_words_vectorized\n",
            "    with open(file_name, 'rb') as word_file:\n",
            "FileNotFoundError: [Errno 2] No such file or directory: '/content/nilearn_data/neurovault/collection_555/neurosynth_words_for_image_9040.json'\n",
            "\n",
            "Could not load words from file /content/nilearn_data/neurovault/collection_555/neurosynth_words_for_image_9041.json; error: Traceback (most recent call last):\n",
            "  File \"/usr/local/lib/python3.6/dist-packages/nilearn/datasets/neurovault.py\", line 1251, in neurosynth_words_vectorized\n",
            "    with open(file_name, 'rb') as word_file:\n",
            "FileNotFoundError: [Errno 2] No such file or directory: '/content/nilearn_data/neurovault/collection_555/neurosynth_words_for_image_9041.json'\n",
            "\n",
            "Could not load words from file /content/nilearn_data/neurovault/collection_555/neurosynth_words_for_image_9042.json; error: Traceback (most recent call last):\n",
            "  File \"/usr/local/lib/python3.6/dist-packages/nilearn/datasets/neurovault.py\", line 1251, in neurosynth_words_vectorized\n",
            "    with open(file_name, 'rb') as word_file:\n",
            "FileNotFoundError: [Errno 2] No such file or directory: '/content/nilearn_data/neurovault/collection_555/neurosynth_words_for_image_9042.json'\n",
            "\n",
            "Could not load words from file /content/nilearn_data/neurovault/collection_555/neurosynth_words_for_image_9043.json; error: Traceback (most recent call last):\n",
            "  File \"/usr/local/lib/python3.6/dist-packages/nilearn/datasets/neurovault.py\", line 1251, in neurosynth_words_vectorized\n",
            "    with open(file_name, 'rb') as word_file:\n",
            "FileNotFoundError: [Errno 2] No such file or directory: '/content/nilearn_data/neurovault/collection_555/neurosynth_words_for_image_9043.json'\n",
            "\n",
            "Could not load words from file /content/nilearn_data/neurovault/collection_555/neurosynth_words_for_image_9044.json; error: Traceback (most recent call last):\n",
            "  File \"/usr/local/lib/python3.6/dist-packages/nilearn/datasets/neurovault.py\", line 1251, in neurosynth_words_vectorized\n",
            "    with open(file_name, 'rb') as word_file:\n",
            "FileNotFoundError: [Errno 2] No such file or directory: '/content/nilearn_data/neurovault/collection_555/neurosynth_words_for_image_9044.json'\n",
            "\n",
            "Could not load words from file /content/nilearn_data/neurovault/collection_555/neurosynth_words_for_image_9045.json; error: Traceback (most recent call last):\n",
            "  File \"/usr/local/lib/python3.6/dist-packages/nilearn/datasets/neurovault.py\", line 1251, in neurosynth_words_vectorized\n",
            "    with open(file_name, 'rb') as word_file:\n",
            "FileNotFoundError: [Errno 2] No such file or directory: '/content/nilearn_data/neurovault/collection_555/neurosynth_words_for_image_9045.json'\n",
            "\n",
            "Could not load words from file /content/nilearn_data/neurovault/collection_555/neurosynth_words_for_image_9046.json; error: Traceback (most recent call last):\n",
            "  File \"/usr/local/lib/python3.6/dist-packages/nilearn/datasets/neurovault.py\", line 1251, in neurosynth_words_vectorized\n",
            "    with open(file_name, 'rb') as word_file:\n",
            "FileNotFoundError: [Errno 2] No such file or directory: '/content/nilearn_data/neurovault/collection_555/neurosynth_words_for_image_9046.json'\n",
            "\n",
            "Could not load words from file /content/nilearn_data/neurovault/collection_555/neurosynth_words_for_image_9047.json; error: Traceback (most recent call last):\n",
            "  File \"/usr/local/lib/python3.6/dist-packages/nilearn/datasets/neurovault.py\", line 1251, in neurosynth_words_vectorized\n",
            "    with open(file_name, 'rb') as word_file:\n",
            "FileNotFoundError: [Errno 2] No such file or directory: '/content/nilearn_data/neurovault/collection_555/neurosynth_words_for_image_9047.json'\n",
            "\n",
            "Could not load words from file /content/nilearn_data/neurovault/collection_555/neurosynth_words_for_image_9048.json; error: Traceback (most recent call last):\n",
            "  File \"/usr/local/lib/python3.6/dist-packages/nilearn/datasets/neurovault.py\", line 1251, in neurosynth_words_vectorized\n",
            "    with open(file_name, 'rb') as word_file:\n",
            "FileNotFoundError: [Errno 2] No such file or directory: '/content/nilearn_data/neurovault/collection_555/neurosynth_words_for_image_9048.json'\n",
            "\n",
            "Could not load words from file /content/nilearn_data/neurovault/collection_555/neurosynth_words_for_image_9049.json; error: Traceback (most recent call last):\n",
            "  File \"/usr/local/lib/python3.6/dist-packages/nilearn/datasets/neurovault.py\", line 1251, in neurosynth_words_vectorized\n",
            "    with open(file_name, 'rb') as word_file:\n",
            "FileNotFoundError: [Errno 2] No such file or directory: '/content/nilearn_data/neurovault/collection_555/neurosynth_words_for_image_9049.json'\n",
            "\n",
            "Could not load words from file /content/nilearn_data/neurovault/collection_555/neurosynth_words_for_image_9050.json; error: Traceback (most recent call last):\n",
            "  File \"/usr/local/lib/python3.6/dist-packages/nilearn/datasets/neurovault.py\", line 1251, in neurosynth_words_vectorized\n",
            "    with open(file_name, 'rb') as word_file:\n",
            "FileNotFoundError: [Errno 2] No such file or directory: '/content/nilearn_data/neurovault/collection_555/neurosynth_words_for_image_9050.json'\n",
            "\n",
            "Could not load words from file /content/nilearn_data/neurovault/collection_555/neurosynth_words_for_image_9051.json; error: Traceback (most recent call last):\n",
            "  File \"/usr/local/lib/python3.6/dist-packages/nilearn/datasets/neurovault.py\", line 1251, in neurosynth_words_vectorized\n",
            "    with open(file_name, 'rb') as word_file:\n",
            "FileNotFoundError: [Errno 2] No such file or directory: '/content/nilearn_data/neurovault/collection_555/neurosynth_words_for_image_9051.json'\n",
            "\n",
            "Could not load words from file /content/nilearn_data/neurovault/collection_555/neurosynth_words_for_image_9052.json; error: Traceback (most recent call last):\n",
            "  File \"/usr/local/lib/python3.6/dist-packages/nilearn/datasets/neurovault.py\", line 1251, in neurosynth_words_vectorized\n",
            "    with open(file_name, 'rb') as word_file:\n",
            "FileNotFoundError: [Errno 2] No such file or directory: '/content/nilearn_data/neurovault/collection_555/neurosynth_words_for_image_9052.json'\n",
            "\n",
            "Could not load words from file /content/nilearn_data/neurovault/collection_555/neurosynth_words_for_image_9053.json; error: Traceback (most recent call last):\n",
            "  File \"/usr/local/lib/python3.6/dist-packages/nilearn/datasets/neurovault.py\", line 1251, in neurosynth_words_vectorized\n",
            "    with open(file_name, 'rb') as word_file:\n",
            "FileNotFoundError: [Errno 2] No such file or directory: '/content/nilearn_data/neurovault/collection_555/neurosynth_words_for_image_9053.json'\n",
            "\n",
            "Could not load words from file /content/nilearn_data/neurovault/collection_1325/neurosynth_words_for_image_18893.json; error: Traceback (most recent call last):\n",
            "  File \"/usr/local/lib/python3.6/dist-packages/nilearn/datasets/neurovault.py\", line 1251, in neurosynth_words_vectorized\n",
            "    with open(file_name, 'rb') as word_file:\n",
            "FileNotFoundError: [Errno 2] No such file or directory: '/content/nilearn_data/neurovault/collection_1325/neurosynth_words_for_image_18893.json'\n",
            "\n",
            "Could not load words from file /content/nilearn_data/neurovault/collection_1325/neurosynth_words_for_image_18894.json; error: Traceback (most recent call last):\n",
            "  File \"/usr/local/lib/python3.6/dist-packages/nilearn/datasets/neurovault.py\", line 1251, in neurosynth_words_vectorized\n",
            "    with open(file_name, 'rb') as word_file:\n",
            "FileNotFoundError: [Errno 2] No such file or directory: '/content/nilearn_data/neurovault/collection_1325/neurosynth_words_for_image_18894.json'\n",
            "\n",
            "Could not load words from file /content/nilearn_data/neurovault/collection_1325/neurosynth_words_for_image_18895.json; error: Traceback (most recent call last):\n",
            "  File \"/usr/local/lib/python3.6/dist-packages/nilearn/datasets/neurovault.py\", line 1251, in neurosynth_words_vectorized\n",
            "    with open(file_name, 'rb') as word_file:\n",
            "FileNotFoundError: [Errno 2] No such file or directory: '/content/nilearn_data/neurovault/collection_1325/neurosynth_words_for_image_18895.json'\n",
            "\n",
            "Could not load words from file /content/nilearn_data/neurovault/collection_1325/neurosynth_words_for_image_18898.json; error: Traceback (most recent call last):\n",
            "  File \"/usr/local/lib/python3.6/dist-packages/nilearn/datasets/neurovault.py\", line 1251, in neurosynth_words_vectorized\n",
            "    with open(file_name, 'rb') as word_file:\n",
            "FileNotFoundError: [Errno 2] No such file or directory: '/content/nilearn_data/neurovault/collection_1325/neurosynth_words_for_image_18898.json'\n",
            "\n",
            "Computing word features done; vocabulary size: 2911\n"
          ],
          "name": "stdout"
        }
      ]
    },
    {
      "metadata": {
        "id": "S_bY4gkHoWvn",
        "colab_type": "code",
        "colab": {
          "autoexec": {
            "startup": false,
            "wait_interval": 0
          },
          "base_uri": "https://localhost:8080/",
          "height": 243
        },
        "outputId": "436424e9-af36-4379-e59d-baa4c0fedb73",
        "executionInfo": {
          "status": "ok",
          "timestamp": 1530182250920,
          "user_tz": -330,
          "elapsed": 824,
          "user": {
            "displayName": "Sourav Singh",
            "photoUrl": "https://lh3.googleusercontent.com/a/default-user=s128",
            "userId": "108190971277015881608"
          }
        }
      },
      "cell_type": "code",
      "source": [
        "images = nv_data['images']\n",
        "term_weights = nv_data['word_frequencies']\n",
        "vocabulary = nv_data['vocabulary']\n",
        "\n",
        "# Clean and report term scores\n",
        "term_weights[term_weights < 0] = 0\n",
        "total_scores = np.mean(term_weights, axis=0)\n",
        "\n",
        "print(\"\\nTop 10 neurosynth terms from downloaded images:\\n\")\n",
        "\n",
        "for term_idx in np.argsort(total_scores)[-10:][::-1]:\n",
        "    print(vocabulary[term_idx])"
      ],
      "execution_count": 4,
      "outputs": [
        {
          "output_type": "stream",
          "text": [
            "\n",
            "Top 10 neurosynth terms from downloaded images:\n",
            "\n",
            "sentences\n",
            "temporal\n",
            "sentence\n",
            "comprehension\n",
            "language\n",
            "temporal sulcus\n",
            "middle temporal\n",
            "superior temporal\n",
            "linguistic\n",
            "temporal gyrus\n"
          ],
          "name": "stdout"
        }
      ]
    },
    {
      "metadata": {
        "id": "Tjc1zWQ81uc-",
        "colab_type": "code",
        "colab": {
          "autoexec": {
            "startup": false,
            "wait_interval": 0
          },
          "base_uri": "https://localhost:8080/",
          "height": 69
        },
        "outputId": "ddfcf213-497c-491b-a4bf-18845f338292",
        "executionInfo": {
          "status": "ok",
          "timestamp": 1530182359306,
          "user_tz": -330,
          "elapsed": 108222,
          "user": {
            "displayName": "Sourav Singh",
            "photoUrl": "https://lh3.googleusercontent.com/a/default-user=s128",
            "userId": "108190971277015881608"
          }
        }
      },
      "cell_type": "code",
      "source": [
        "print(\"\\nReshaping and masking images.\\n\")\n",
        "\n",
        "with warnings.catch_warnings():\n",
        "    warnings.simplefilter('ignore', UserWarning)\n",
        "    warnings.simplefilter('ignore', DeprecationWarning)\n",
        "\n",
        "    mask_img = load_mni152_brain_mask()\n",
        "    masker = NiftiMasker(\n",
        "        mask_img=mask_img, memory='nilearn_cache', memory_level=1)\n",
        "    masker = masker.fit()\n",
        "\n",
        "    # Images may fail to be transformed, and are of different shapes,\n",
        "    # so we need to transform one-by-one and keep track of failures.\n",
        "    X = []\n",
        "    is_usable = np.ones((len(images),), dtype=bool)\n",
        "\n",
        "    for index, image_path in enumerate(images):\n",
        "        # load image and remove nan and inf values.\n",
        "        # applying smooth_img to an image with fwhm=None simply cleans up\n",
        "        # non-finite values but otherwise doesn't modify the image.\n",
        "        image = smooth_img(image_path, fwhm=None)\n",
        "        try:\n",
        "            X.append(masker.transform(image))\n",
        "        except Exception as e:\n",
        "            meta = nv_data['images_meta'][index]\n",
        "            print(\"Failed to mask/reshape image: id: {0}; \"\n",
        "                  \"name: '{1}'; collection: {2}; error: {3}\".format(\n",
        "                      meta.get('id'), meta.get('name'),\n",
        "                      meta.get('collection_id'), e))\n",
        "            is_usable[index] = False\n",
        "\n",
        "# Now reshape list into 2D matrix, and remove failed images from terms\n",
        "X = np.vstack(X)\n",
        "term_weights = term_weights[is_usable, :]"
      ],
      "execution_count": 5,
      "outputs": [
        {
          "output_type": "stream",
          "text": [
            "\n",
            "Reshaping and masking images.\n",
            "\n"
          ],
          "name": "stdout"
        }
      ]
    },
    {
      "metadata": {
        "id": "sZytJruJQ0Rh",
        "colab_type": "code",
        "colab": {
          "autoexec": {
            "startup": false,
            "wait_interval": 0
          },
          "base_uri": "https://localhost:8080/",
          "height": 332
        },
        "outputId": "03fee3a7-0d1e-4f9a-ffb5-f9f7bbbf9fcb",
        "executionInfo": {
          "status": "ok",
          "timestamp": 1530182366950,
          "user_tz": -330,
          "elapsed": 7546,
          "user": {
            "displayName": "Sourav Singh",
            "photoUrl": "https://lh3.googleusercontent.com/a/default-user=s128",
            "userId": "108190971277015881608"
          }
        }
      },
      "cell_type": "code",
      "source": [
        "!pip install -U umap-learn"
      ],
      "execution_count": 6,
      "outputs": [
        {
          "output_type": "stream",
          "text": [
            "Collecting umap-learn\n",
            "  Downloading https://files.pythonhosted.org/packages/5c/fe/9fab22acd9a33d49a221cc683ac0826b38d85e2b5cf58576bcc2b3ec2660/umap-learn-0.2.5.tar.gz\n",
            "Requirement not upgraded as not directly required: scikit-learn>=0.16 in /usr/local/lib/python3.6/dist-packages (from umap-learn) (0.19.1)\n",
            "Requirement not upgraded as not directly required: scipy>=0.19 in /usr/local/lib/python3.6/dist-packages (from umap-learn) (0.19.1)\n",
            "Collecting numba>=0.34 (from umap-learn)\n",
            "\u001b[?25l  Downloading https://files.pythonhosted.org/packages/1e/74/bcf00816aa212e1439709f88b4e62519b60c89e18eb9f9f67e7d02ab4461/numba-0.38.1-cp36-cp36m-manylinux1_x86_64.whl (1.9MB)\n",
            "\u001b[K    100% |████████████████████████████████| 1.9MB 10.2MB/s \n",
            "\u001b[?25hRequirement not upgraded as not directly required: numpy>=1.8.2 in /usr/local/lib/python3.6/dist-packages (from scipy>=0.19->umap-learn) (1.14.5)\n",
            "Collecting llvmlite>=0.23.0dev0 (from numba>=0.34->umap-learn)\n",
            "\u001b[?25l  Downloading https://files.pythonhosted.org/packages/21/c7/eb581bbbdf731f24a72eba505cf42668231c595ba61997a6fa186b7f0413/llvmlite-0.23.2-cp36-cp36m-manylinux1_x86_64.whl (15.8MB)\n",
            "\u001b[K    100% |████████████████████████████████| 15.8MB 3.2MB/s \n",
            "\u001b[?25hBuilding wheels for collected packages: umap-learn\n",
            "  Running setup.py bdist_wheel for umap-learn ... \u001b[?25l-\b \bdone\n",
            "\u001b[?25h  Stored in directory: /content/.cache/pip/wheels/f3/e1/4b/1f9a0c2f9b82523b261c36c6ce9a4d1524582e03ebbf6852d6\n",
            "Successfully built umap-learn\n",
            "Installing collected packages: llvmlite, numba, umap-learn\n",
            "Successfully installed llvmlite-0.23.2 numba-0.38.1 umap-learn-0.2.5\n"
          ],
          "name": "stdout"
        }
      ]
    },
    {
      "metadata": {
        "id": "PhSdvmHr0c36",
        "colab_type": "code",
        "colab": {
          "autoexec": {
            "startup": false,
            "wait_interval": 0
          }
        }
      },
      "cell_type": "code",
      "source": [
        "import umap"
      ],
      "execution_count": 0,
      "outputs": []
    },
    {
      "metadata": {
        "id": "rMgj6vqm0ou_",
        "colab_type": "code",
        "colab": {
          "autoexec": {
            "startup": false,
            "wait_interval": 0
          }
        }
      },
      "cell_type": "code",
      "source": [
        "embedding = umap.UMAP(n_neighbors=5,min_dist=0.3,metric='correlation').fit_transform(X)"
      ],
      "execution_count": 0,
      "outputs": []
    },
    {
      "metadata": {
        "id": "egNLkO5E1tAB",
        "colab_type": "code",
        "colab": {
          "autoexec": {
            "startup": false,
            "wait_interval": 0
          }
        }
      },
      "cell_type": "code",
      "source": [
        "import matplotlib.pyplot as plt\n",
        "import seaborn as sns"
      ],
      "execution_count": 0,
      "outputs": []
    },
    {
      "metadata": {
        "id": "gJC907oe5i0V",
        "colab_type": "code",
        "colab": {
          "autoexec": {
            "startup": false,
            "wait_interval": 0
          },
          "base_uri": "https://localhost:8080/",
          "height": 367
        },
        "outputId": "a4844a69-a174-4070-aa96-26c000bf4eb5",
        "executionInfo": {
          "status": "ok",
          "timestamp": 1530182387588,
          "user_tz": -330,
          "elapsed": 1090,
          "user": {
            "displayName": "Sourav Singh",
            "photoUrl": "https://lh3.googleusercontent.com/a/default-user=s128",
            "userId": "108190971277015881608"
          }
        }
      },
      "cell_type": "code",
      "source": [
        "plt.scatter(embedding[:,0], embedding[:,1])"
      ],
      "execution_count": 10,
      "outputs": [
        {
          "output_type": "execute_result",
          "data": {
            "text/plain": [
              "<matplotlib.collections.PathCollection at 0x7fec93a257b8>"
            ]
          },
          "metadata": {
            "tags": []
          },
          "execution_count": 10
        },
        {
          "output_type": "display_data",
          "data": {
            "image/png": "[encoded data removed]",
            "text/plain": [
              "<matplotlib.figure.Figure at 0x7fec94fb0630>"
            ]
          },
          "metadata": {
            "tags": []
          }
        }
      ]
    },
    {
      "metadata": {
        "id": "Qg8yXWqo5okd",
        "colab_type": "code",
        "colab": {
          "autoexec": {
            "startup": false,
            "wait_interval": 0
          }
        }
      },
      "cell_type": "code",
      "source": [
        "from sklearn.cluster import KMeans\n",
        "kmeans = KMeans(n_clusters=10, random_state=0)\n",
        "clusters = kmeans.fit_predict(embedding)"
      ],
      "execution_count": 0,
      "outputs": []
    },
    {
      "metadata": {
        "id": "8zHkiyVLvFq_",
        "colab_type": "code",
        "colab": {
          "autoexec": {
            "startup": false,
            "wait_interval": 0
          }
        }
      },
      "cell_type": "code",
      "source": [
        "# Step size of the mesh. Decrease to increase the quality of the VQ.\n",
        "h = .02     # point in the mesh [x_min, x_max]x[y_min, y_max].\n",
        "\n",
        "# Plot the decision boundary. For that, we will assign a color to each\n",
        "x_min, x_max = embedding[:, 0].min() - 1, embedding[:, 0].max() + 1\n",
        "y_min, y_max = embedding[:, 1].min() - 1, embedding[:, 1].max() + 1\n",
        "xx, yy = np.meshgrid(np.arange(x_min, x_max, h), np.arange(y_min, y_max, h))"
      ],
      "execution_count": 0,
      "outputs": []
    },
    {
      "metadata": {
        "id": "PZMwO1_eBGYG",
        "colab_type": "code",
        "colab": {
          "autoexec": {
            "startup": false,
            "wait_interval": 0
          }
        }
      },
      "cell_type": "code",
      "source": [
        "# Obtain labels for each point in mesh. Use last trained model.\n",
        "Z = kmeans.predict(np.c_[xx.ravel(), yy.ravel()])\n",
        "\n",
        "# Put the result into a color plot\n",
        "Z = Z.reshape(xx.shape)"
      ],
      "execution_count": 0,
      "outputs": []
    },
    {
      "metadata": {
        "id": "k9rYH0pABbDC",
        "colab_type": "code",
        "colab": {
          "autoexec": {
            "startup": false,
            "wait_interval": 0
          },
          "base_uri": "https://localhost:8080/",
          "height": 364
        },
        "outputId": "4a1a5d3d-c45a-4499-8093-e4c170eef22c",
        "executionInfo": {
          "status": "ok",
          "timestamp": 1530183255142,
          "user_tz": -330,
          "elapsed": 944,
          "user": {
            "displayName": "Sourav Singh",
            "photoUrl": "https://lh3.googleusercontent.com/a/default-user=s128",
            "userId": "108190971277015881608"
          }
        }
      },
      "cell_type": "code",
      "source": [
        "Z = Z.reshape(xx.shape)\n",
        "plt.figure(1)\n",
        "plt.clf()\n",
        "plt.imshow(Z, interpolation='nearest',\n",
        "           extent=(xx.min(), xx.max(), yy.min(), yy.max()),\n",
        "           cmap=plt.cm.Paired,\n",
        "           aspect='auto', origin='lower')"
      ],
      "execution_count": 15,
      "outputs": [
        {
          "output_type": "execute_result",
          "data": {
            "text/plain": [
              "<matplotlib.image.AxesImage at 0x7fec93d1f198>"
            ]
          },
          "metadata": {
            "tags": []
          },
          "execution_count": 15
        },
        {
          "output_type": "display_data",
          "data": {
            "image/png": "[encoded data removed]",
            "text/plain": [
              "<matplotlib.figure.Figure at 0x7fec93ea4c18>"
            ]
          },
          "metadata": {
            "tags": []
          }
        }
      ]
    },
    {
      "metadata": {
        "id": "VBLJkz7tB3-o",
        "colab_type": "code",
        "colab": {
          "autoexec": {
            "startup": false,
            "wait_interval": 0
          },
          "base_uri": "https://localhost:8080/",
          "height": 367
        },
        "outputId": "9cfff23a-e771-4175-fdaa-4e0710deec9b",
        "executionInfo": {
          "status": "ok",
          "timestamp": 1530183793000,
          "user_tz": -330,
          "elapsed": 1212,
          "user": {
            "displayName": "Sourav Singh",
            "photoUrl": "https://lh3.googleusercontent.com/a/default-user=s128",
            "userId": "108190971277015881608"
          }
        }
      },
      "cell_type": "code",
      "source": [
        "plt.plot(embedding[:, 0], embedding[:, 1], 'k.', markersize=2)\n",
        "# Plot the centroids as a white X\n",
        "centroids = kmeans.cluster_centers_\n",
        "plt.scatter(centroids[:, 0], centroids[:, 1],\n",
        "            marker='+', s=169, linewidths=3,\n",
        "            color='b', zorder=10)"
      ],
      "execution_count": 20,
      "outputs": [
        {
          "output_type": "execute_result",
          "data": {
            "text/plain": [
              "<matplotlib.collections.PathCollection at 0x7fec937b9048>"
            ]
          },
          "metadata": {
            "tags": []
          },
          "execution_count": 20
        },
        {
          "output_type": "display_data",
          "data": {
            "image/png": "[encoded data removed]",
            "text/plain": [
              "<matplotlib.figure.Figure at 0x7fec93804d68>"
            ]
          },
          "metadata": {
            "tags": []
          }
        }
      ]
    },
    {
      "metadata": {
        "id": "4j4J2wNkDUG2",
        "colab_type": "code",
        "colab": {
          "autoexec": {
            "startup": false,
            "wait_interval": 0
          }
        }
      },
      "cell_type": "code",
      "source": [
        ""
      ],
      "execution_count": 0,
      "outputs": []
    }
  ]
}
