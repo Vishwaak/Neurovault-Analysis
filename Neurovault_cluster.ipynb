{
  "nbformat": 4,
  "nbformat_minor": 0,
  "metadata": {
    "colab": {
      "name": "Neurovault-cluster.ipynb",
      "version": "0.3.2",
      "views": {},
      "default_view": {},
      "provenance": []
    },
    "kernelspec": {
      "name": "python3",
      "display_name": "Python 3"
    }
  },
  "cells": [
    {
      "metadata": {
        "id": "wsB2l77jY7PD",
        "colab_type": "code",
        "colab": {
          "autoexec": {
            "startup": false,
            "wait_interval": 0
          },
          "base_uri": "https://localhost:8080/",
          "height": 289
        },
        "outputId": "01a7ba51-0980-4972-a024-f91bd81f914b",
        "executionInfo": {
          "status": "ok",
          "timestamp": 1527790359079,
          "user_tz": -330,
          "elapsed": 9499,
          "user": {
            "displayName": "Sourav Singh",
            "photoUrl": "https://lh3.googleusercontent.com/a/default-user=s128",
            "userId": "108190971277015881608"
          }
        }
      },
      "cell_type": "code",
      "source": [
        "!pip install -U nilearn"
      ],
      "execution_count": 1,
      "outputs": [
        {
          "output_type": "stream",
          "text": [
            "Collecting nilearn\n",
            "\u001b[?25l  Downloading https://files.pythonhosted.org/packages/6c/a2/0a528aff1c755f98538b18bd49765eae83c6a4da99b27f51baddb6ec5b45/nilearn-0.4.1.tar.gz (894kB)\n",
            "\u001b[K    100% |████████████████████████████████| 901kB 8.9MB/s \n",
            "\u001b[?25hCollecting nibabel>=2.0.2 (from nilearn)\n",
            "\u001b[?25l  Downloading https://files.pythonhosted.org/packages/d7/de/1d96fd0b118c9047bf35f02090db8ef8fd3927dfce635f09a6f7d5b572e6/nibabel-2.2.1.zip (4.2MB)\n",
            "\u001b[K    100% |████████████████████████████████| 4.2MB 8.6MB/s \n",
            "\u001b[?25hBuilding wheels for collected packages: nilearn, nibabel\n",
            "  Running setup.py bdist_wheel for nilearn ... \u001b[?25l-\b \b\\\b \b|\b \b/\b \bdone\n",
            "\u001b[?25h  Stored in directory: /content/.cache/pip/wheels/ee/09/3c/6ddb63159d6377d2c1587e6b4d58a6456da4550c2248583ffc\n",
            "  Running setup.py bdist_wheel for nibabel ... \u001b[?25l-\b \b\\\b \b|\b \b/\b \b-\b \b\\\b \b|\b \b/\b \bdone\n",
            "\u001b[?25h  Stored in directory: /content/.cache/pip/wheels/46/50/8d/bcb0b8f7c030da5bac1752fbe9cc375cbf5725fa93ba79ad84\n",
            "Successfully built nilearn nibabel\n",
            "Installing collected packages: nibabel, nilearn\n",
            "Successfully installed nibabel-2.2.1 nilearn-0.4.1\n"
          ],
          "name": "stdout"
        }
      ]
    },
    {
      "metadata": {
        "id": "0t1wVZNsZCYI",
        "colab_type": "code",
        "colab": {
          "autoexec": {
            "startup": false,
            "wait_interval": 0
          },
          "base_uri": "https://localhost:8080/",
          "height": 701
        },
        "outputId": "27c0e93c-964f-4e22-d1db-11c806627a3e",
        "executionInfo": {
          "status": "ok",
          "timestamp": 1527790360501,
          "user_tz": -330,
          "elapsed": 1376,
          "user": {
            "displayName": "Sourav Singh",
            "photoUrl": "https://lh3.googleusercontent.com/a/default-user=s128",
            "userId": "108190971277015881608"
          }
        }
      },
      "cell_type": "code",
      "source": [
        "import warnings\n",
        "\n",
        "import numpy as np\n",
        "from scipy import stats\n",
        "from sklearn.decomposition import FastICA\n",
        "\n",
        "from nilearn.datasets import fetch_neurovault\n",
        "from nilearn.image import smooth_img\n",
        "\n",
        "from nilearn.datasets import load_mni152_brain_mask\n",
        "from nilearn.input_data import NiftiMasker\n",
        "\n",
        "from nilearn import plotting"
      ],
      "execution_count": 2,
      "outputs": [
        {
          "output_type": "stream",
          "text": [
            "/usr/local/lib/python3.6/dist-packages/nilearn/plotting/__init__.py:20: UserWarning: \n",
            "This call to matplotlib.use() has no effect because the backend has already\n",
            "been chosen; matplotlib.use() must be called *before* pylab, matplotlib.pyplot,\n",
            "or matplotlib.backends is imported for the first time.\n",
            "\n",
            "The backend was *originally* set to 'module://ipykernel.pylab.backend_inline' by the following code:\n",
            "  File \"/usr/lib/python3.6/runpy.py\", line 193, in _run_module_as_main\n",
            "    \"__main__\", mod_spec)\n",
            "  File \"/usr/lib/python3.6/runpy.py\", line 85, in _run_code\n",
            "    exec(code, run_globals)\n",
            "  File \"/usr/local/lib/python3.6/dist-packages/ipykernel_launcher.py\", line 16, in <module>\n",
            "    app.launch_new_instance()\n",
            "  File \"/usr/local/lib/python3.6/dist-packages/traitlets/config/application.py\", line 657, in launch_instance\n",
            "    app.initialize(argv)\n",
            "  File \"<decorator-gen-121>\", line 2, in initialize\n",
            "  File \"/usr/local/lib/python3.6/dist-packages/traitlets/config/application.py\", line 87, in catch_config_error\n",
            "    return method(app, *args, **kwargs)\n",
            "  File \"/usr/local/lib/python3.6/dist-packages/ipykernel/kernelapp.py\", line 462, in initialize\n",
            "    self.init_gui_pylab()\n",
            "  File \"/usr/local/lib/python3.6/dist-packages/ipykernel/kernelapp.py\", line 403, in init_gui_pylab\n",
            "    InteractiveShellApp.init_gui_pylab(self)\n",
            "  File \"/usr/local/lib/python3.6/dist-packages/IPython/core/shellapp.py\", line 213, in init_gui_pylab\n",
            "    r = enable(key)\n",
            "  File \"/usr/local/lib/python3.6/dist-packages/IPython/core/interactiveshell.py\", line 2950, in enable_matplotlib\n",
            "    pt.activate_matplotlib(backend)\n",
            "  File \"/usr/local/lib/python3.6/dist-packages/IPython/core/pylabtools.py\", line 309, in activate_matplotlib\n",
            "    matplotlib.pyplot.switch_backend(backend)\n",
            "  File \"/usr/local/lib/python3.6/dist-packages/matplotlib/pyplot.py\", line 232, in switch_backend\n",
            "    matplotlib.use(newbackend, warn=False, force=True)\n",
            "  File \"/usr/local/lib/python3.6/dist-packages/matplotlib/__init__.py\", line 1305, in use\n",
            "    reload(sys.modules['matplotlib.backends'])\n",
            "  File \"/usr/lib/python3.6/importlib/__init__.py\", line 166, in reload\n",
            "    _bootstrap._exec(spec, module)\n",
            "  File \"/usr/local/lib/python3.6/dist-packages/matplotlib/backends/__init__.py\", line 14, in <module>\n",
            "    line for line in traceback.format_stack()\n",
            "\n",
            "\n",
            "  matplotlib.use('Agg')\n"
          ],
          "name": "stderr"
        }
      ]
    },
    {
      "metadata": {
        "id": "ceVSLhBCZR6K",
        "colab_type": "code",
        "colab": {
          "autoexec": {
            "startup": false,
            "wait_interval": 0
          },
          "base_uri": "https://localhost:8080/",
          "height": 143
        },
        "cellView": "code",
        "outputId": "e3d704a9-f62a-419f-9868-16a27034bee1"
      },
      "cell_type": "code",
      "source": [
        "print(\"Fetching Neurovault images; \"\n",
        "      \"if you haven't downloaded any Neurovault data before \"\n",
        "      \"this will take several minutes.\")\n",
        "nv_data = fetch_neurovault(max_images=1500, fetch_neurosynth_words=True, verbose=2)"
      ],
      "execution_count": 0,
      "outputs": [
        {
          "output_type": "stream",
          "text": [
            "Fetching Neurovault images; if you haven't downloaded any Neurovault data before this will take several minutes.\n",
            "\n",
            "Dataset created in /content/nilearn_data/neurovault\n",
            "\n",
            "No image found on local disk.\n",
            "On neurovault.org: no image matched query in collection 921\n",
            "Already fetched 1 image\n"
          ],
          "name": "stdout"
        }
      ]
    },
    {
      "metadata": {
        "id": "OO9yMfc31eyl",
        "colab_type": "code",
        "colab": {
          "autoexec": {
            "startup": false,
            "wait_interval": 0
          },
          "base_uri": "https://localhost:8080/",
          "height": 251
        },
        "outputId": "5bf4dec1-b92f-454c-b07a-aefc42835855",
        "executionInfo": {
          "status": "ok",
          "timestamp": 1527638897592,
          "user_tz": -330,
          "elapsed": 954,
          "user": {
            "displayName": "Sourav Singh",
            "photoUrl": "https://lh3.googleusercontent.com/a/default-user=s128",
            "userId": "108190971277015881608"
          }
        }
      },
      "cell_type": "code",
      "source": [
        "images = nv_data['images']\n",
        "term_weights = nv_data['word_frequencies']\n",
        "vocabulary = nv_data['vocabulary']\n",
        "\n",
        "# Clean and report term scores\n",
        "term_weights[term_weights < 0] = 0\n",
        "total_scores = np.mean(term_weights, axis=0)\n",
        "\n",
        "print(\"\\nTop 10 neurosynth terms from downloaded images:\\n\")\n",
        "\n",
        "for term_idx in np.argsort(total_scores)[-10:][::-1]:\n",
        "    print(vocabulary[term_idx])"
      ],
      "execution_count": 5,
      "outputs": [
        {
          "output_type": "stream",
          "text": [
            "\n",
            "Top 10 neurosynth terms from downloaded images:\n",
            "\n",
            "temporal\n",
            "superior temporal\n",
            "sentences\n",
            "language\n",
            "comprehension\n",
            "sentence\n",
            "motor\n",
            "visual\n",
            "premotor\n",
            "temporal sulcus\n"
          ],
          "name": "stdout"
        }
      ]
    },
    {
      "metadata": {
        "id": "Tjc1zWQ81uc-",
        "colab_type": "code",
        "colab": {
          "autoexec": {
            "startup": false,
            "wait_interval": 0
          },
          "base_uri": "https://localhost:8080/",
          "height": 71
        },
        "outputId": "90eebb87-9400-413b-eb31-c3e3d1ed1742",
        "executionInfo": {
          "status": "ok",
          "timestamp": 1527639027915,
          "user_tz": -330,
          "elapsed": 129868,
          "user": {
            "displayName": "Sourav Singh",
            "photoUrl": "https://lh3.googleusercontent.com/a/default-user=s128",
            "userId": "108190971277015881608"
          }
        }
      },
      "cell_type": "code",
      "source": [
        "print(\"\\nReshaping and masking images.\\n\")\n",
        "\n",
        "with warnings.catch_warnings():\n",
        "    warnings.simplefilter('ignore', UserWarning)\n",
        "    warnings.simplefilter('ignore', DeprecationWarning)\n",
        "\n",
        "    mask_img = load_mni152_brain_mask()\n",
        "    masker = NiftiMasker(\n",
        "        mask_img=mask_img, memory='nilearn_cache', memory_level=1)\n",
        "    masker = masker.fit()\n",
        "\n",
        "    # Images may fail to be transformed, and are of different shapes,\n",
        "    # so we need to transform one-by-one and keep track of failures.\n",
        "    X = []\n",
        "    is_usable = np.ones((len(images),), dtype=bool)\n",
        "\n",
        "    for index, image_path in enumerate(images):\n",
        "        # load image and remove nan and inf values.\n",
        "        # applying smooth_img to an image with fwhm=None simply cleans up\n",
        "        # non-finite values but otherwise doesn't modify the image.\n",
        "        image = smooth_img(image_path, fwhm=None)\n",
        "        try:\n",
        "            X.append(masker.transform(image))\n",
        "        except Exception as e:\n",
        "            meta = nv_data['images_meta'][index]\n",
        "            print(\"Failed to mask/reshape image: id: {0}; \"\n",
        "                  \"name: '{1}'; collection: {2}; error: {3}\".format(\n",
        "                      meta.get('id'), meta.get('name'),\n",
        "                      meta.get('collection_id'), e))\n",
        "            is_usable[index] = False\n",
        "\n",
        "# Now reshape list into 2D matrix, and remove failed images from terms\n",
        "X = np.vstack(X)\n",
        "term_weights = term_weights[is_usable, :]"
      ],
      "execution_count": 6,
      "outputs": [
        {
          "output_type": "stream",
          "text": [
            "\n",
            "Reshaping and masking images.\n",
            "\n"
          ],
          "name": "stdout"
        }
      ]
    },
    {
      "metadata": {
        "id": "QOoQ3RLF2aAt",
        "colab_type": "code",
        "colab": {
          "autoexec": {
            "startup": false,
            "wait_interval": 0
          }
        }
      },
      "cell_type": "code",
      "source": [
        "import numpy as np\n",
        "import matplotlib.pyplot as plt\n",
        "from sklearn.neighbors import LocalOutlierFactor\n",
        "\n",
        "np.random.seed(42)"
      ],
      "execution_count": 0,
      "outputs": []
    },
    {
      "metadata": {
        "id": "jgXrJNlv5U_B",
        "colab_type": "code",
        "colab": {
          "autoexec": {
            "startup": false,
            "wait_interval": 0
          }
        }
      },
      "cell_type": "code",
      "source": [
        "clf = LocalOutlierFactor(algorithm='brute', n_neighbors=20)\n",
        "y_pred = clf.fit_predict(X.T).T\n",
        "y_pred_outliers = y_pred[200:]"
      ],
      "execution_count": 0,
      "outputs": []
    },
    {
      "metadata": {
        "id": "ExKWxeYb5eX7",
        "colab_type": "code",
        "colab": {
          "autoexec": {
            "startup": false,
            "wait_interval": 0
          },
          "base_uri": "https://localhost:8080/",
          "height": 205
        },
        "outputId": "471f2987-29ee-44f5-8ab5-f524a8c9c4fb",
        "executionInfo": {
          "status": "error",
          "timestamp": 1527638560174,
          "user_tz": -330,
          "elapsed": 931,
          "user": {
            "displayName": "Sourav Singh",
            "photoUrl": "https://lh3.googleusercontent.com/a/default-user=s128",
            "userId": "108190971277015881608"
          }
        }
      },
      "cell_type": "code",
      "source": [
        "xx, yy = np.meshgrid(np.linspace(-100, 100, 50), np.linspace(-100, 100, 50))\n",
        "Z = clf._decision_function(np.c_[xx.ravel(), yy.ravel()])\n",
        "Z = Z.reshape(xx.shape)"
      ],
      "execution_count": 1,
      "outputs": [
        {
          "output_type": "error",
          "ename": "NameError",
          "evalue": "ignored",
          "traceback": [
            "\u001b[0;31m---------------------------------------------------------------------------\u001b[0m",
            "\u001b[0;31mNameError\u001b[0m                                 Traceback (most recent call last)",
            "\u001b[0;32m<ipython-input-1-fbfa413410b5>\u001b[0m in \u001b[0;36m<module>\u001b[0;34m()\u001b[0m\n\u001b[0;32m----> 1\u001b[0;31m \u001b[0mxx\u001b[0m\u001b[0;34m,\u001b[0m \u001b[0myy\u001b[0m \u001b[0;34m=\u001b[0m \u001b[0mnp\u001b[0m\u001b[0;34m.\u001b[0m\u001b[0mmeshgrid\u001b[0m\u001b[0;34m(\u001b[0m\u001b[0mnp\u001b[0m\u001b[0;34m.\u001b[0m\u001b[0mlinspace\u001b[0m\u001b[0;34m(\u001b[0m\u001b[0;34m-\u001b[0m\u001b[0;36m100\u001b[0m\u001b[0;34m,\u001b[0m \u001b[0;36m100\u001b[0m\u001b[0;34m,\u001b[0m \u001b[0;36m50\u001b[0m\u001b[0;34m)\u001b[0m\u001b[0;34m,\u001b[0m \u001b[0mnp\u001b[0m\u001b[0;34m.\u001b[0m\u001b[0mlinspace\u001b[0m\u001b[0;34m(\u001b[0m\u001b[0;34m-\u001b[0m\u001b[0;36m100\u001b[0m\u001b[0;34m,\u001b[0m \u001b[0;36m100\u001b[0m\u001b[0;34m,\u001b[0m \u001b[0;36m50\u001b[0m\u001b[0;34m)\u001b[0m\u001b[0;34m)\u001b[0m\u001b[0;34m\u001b[0m\u001b[0m\n\u001b[0m\u001b[1;32m      2\u001b[0m \u001b[0mZ\u001b[0m \u001b[0;34m=\u001b[0m \u001b[0mclf\u001b[0m\u001b[0;34m.\u001b[0m\u001b[0m_decision_function\u001b[0m\u001b[0;34m(\u001b[0m\u001b[0mnp\u001b[0m\u001b[0;34m.\u001b[0m\u001b[0mc_\u001b[0m\u001b[0;34m[\u001b[0m\u001b[0mxx\u001b[0m\u001b[0;34m.\u001b[0m\u001b[0mravel\u001b[0m\u001b[0;34m(\u001b[0m\u001b[0;34m)\u001b[0m\u001b[0;34m,\u001b[0m \u001b[0myy\u001b[0m\u001b[0;34m.\u001b[0m\u001b[0mravel\u001b[0m\u001b[0;34m(\u001b[0m\u001b[0;34m)\u001b[0m\u001b[0;34m]\u001b[0m\u001b[0;34m)\u001b[0m\u001b[0;34m\u001b[0m\u001b[0m\n\u001b[1;32m      3\u001b[0m \u001b[0mZ\u001b[0m \u001b[0;34m=\u001b[0m \u001b[0mZ\u001b[0m\u001b[0;34m.\u001b[0m\u001b[0mreshape\u001b[0m\u001b[0;34m(\u001b[0m\u001b[0mxx\u001b[0m\u001b[0;34m.\u001b[0m\u001b[0mshape\u001b[0m\u001b[0;34m)\u001b[0m\u001b[0;34m\u001b[0m\u001b[0m\n",
            "\u001b[0;31mNameError\u001b[0m: name 'np' is not defined"
          ]
        }
      ]
    },
    {
      "metadata": {
        "id": "sZytJruJQ0Rh",
        "colab_type": "code",
        "colab": {
          "autoexec": {
            "startup": false,
            "wait_interval": 0
          }
        }
      },
      "cell_type": "code",
      "source": [
        ""
      ],
      "execution_count": 0,
      "outputs": []
    }
  ]
}